{
  "nbformat": 4,
  "nbformat_minor": 0,
  "metadata": {
    "colab": {
      "provenance": []
    },
    "kernelspec": {
      "name": "python3",
      "display_name": "Python 3"
    },
    "language_info": {
      "name": "python"
    }
  },
  "cells": [
    {
      "cell_type": "code",
      "metadata": {
        "id": "jpe4ovD60CFs"
      },
      "source": [
        "import types\n",
        "import math\n",
        "import time"
      ],
      "execution_count": 1,
      "outputs": []
    },
    {
      "cell_type": "markdown",
      "metadata": {
        "id": "gNJoltbK7XJZ"
      },
      "source": [
        "# QoL improvements"
      ]
    },
    {
      "cell_type": "markdown",
      "source": [
        "## Форматирование строк"
      ],
      "metadata": {
        "id": "S5CstaLuLeVo"
      }
    },
    {
      "cell_type": "code",
      "source": [
        "name = \"Ann\"\n",
        "example = \"my name is \" + name\n",
        "print(example)"
      ],
      "metadata": {
        "id": "vfQEHofRLgzo",
        "colab": {
          "base_uri": "https://localhost:8080/"
        },
        "outputId": "761422a6-43fb-4a5d-ae91-66fe53638222"
      },
      "execution_count": 6,
      "outputs": [
        {
          "output_type": "stream",
          "name": "stdout",
          "text": [
            "my name isAnn\n"
          ]
        }
      ]
    },
    {
      "cell_type": "code",
      "source": [
        "header = \"my name is\"\n",
        "name = \"Ann\"\n",
        "example = header + \" \" + name\n",
        "print(example)"
      ],
      "metadata": {
        "colab": {
          "base_uri": "https://localhost:8080/"
        },
        "id": "iDtgwV4dFICY",
        "outputId": "27fe5946-a3ae-4e4b-f67e-7180b5cbcfeb"
      },
      "execution_count": 7,
      "outputs": [
        {
          "output_type": "stream",
          "name": "stdout",
          "text": [
            "my name is Ann\n"
          ]
        }
      ]
    },
    {
      "cell_type": "code",
      "source": [
        "example2 = f\"my name is {'Ann'}\"\n",
        "print(example2)"
      ],
      "metadata": {
        "id": "9YYH3XeOLqCU",
        "colab": {
          "base_uri": "https://localhost:8080/"
        },
        "outputId": "8cf3fc79-e00f-425c-bf0e-da6e76bc154d"
      },
      "execution_count": 8,
      "outputs": [
        {
          "output_type": "stream",
          "name": "stdout",
          "text": [
            "my name is Ann\n"
          ]
        }
      ]
    },
    {
      "cell_type": "code",
      "source": [
        "example3 = f\"my name is {name}\"\n",
        "print(example3)"
      ],
      "metadata": {
        "id": "FaRygqdELyCq"
      },
      "execution_count": null,
      "outputs": []
    },
    {
      "cell_type": "code",
      "source": [
        "example4 = f\"my name is {name.lower()}\"\n",
        "print(example4)"
      ],
      "metadata": {
        "id": "DlEd3PoqL8Xj",
        "colab": {
          "base_uri": "https://localhost:8080/"
        },
        "outputId": "6e26491f-c89c-4047-e757-1384bc350abe"
      },
      "execution_count": 10,
      "outputs": [
        {
          "output_type": "stream",
          "name": "stdout",
          "text": [
            "my name is ann\n"
          ]
        }
      ]
    },
    {
      "cell_type": "code",
      "source": [
        "template = \"my {0} is {1}, {1} is my {0}\"\n",
        "print(template.format(\"name\", name))"
      ],
      "metadata": {
        "id": "WcqXUVXAMpU6",
        "colab": {
          "base_uri": "https://localhost:8080/"
        },
        "outputId": "736db7ff-7e6a-499d-ef6f-36488b338050"
      },
      "execution_count": 11,
      "outputs": [
        {
          "output_type": "stream",
          "name": "stdout",
          "text": [
            "my name is Ann, Ann is my name\n"
          ]
        }
      ]
    },
    {
      "cell_type": "code",
      "source": [
        "template2 = \"my {field} is {name}, {name} is my {field}\"\n",
        "print(template2.format(field=\"name\", name=name))"
      ],
      "metadata": {
        "colab": {
          "base_uri": "https://localhost:8080/"
        },
        "id": "tO3_PkWxGGyG",
        "outputId": "a3ca4922-b547-41b1-9505-698d1d0ee1a2"
      },
      "execution_count": 12,
      "outputs": [
        {
          "output_type": "stream",
          "name": "stdout",
          "text": [
            "my name is Ann, Ann is my name\n"
          ]
        }
      ]
    },
    {
      "cell_type": "code",
      "source": [
        "\"I love %s and %s\" % (\"dogs\", \"cats\")"
      ],
      "metadata": {
        "colab": {
          "base_uri": "https://localhost:8080/",
          "height": 35
        },
        "id": "l6-KHGjGGo3g",
        "outputId": "aca208f8-4d91-4066-f0f9-daf2895f520c"
      },
      "execution_count": 13,
      "outputs": [
        {
          "output_type": "execute_result",
          "data": {
            "text/plain": [
              "'I love dogs and cats'"
            ],
            "application/vnd.google.colaboratory.intrinsic+json": {
              "type": "string"
            }
          },
          "metadata": {},
          "execution_count": 13
        }
      ]
    },
    {
      "cell_type": "code",
      "source": [
        "\"I am %d years old\" % 20"
      ],
      "metadata": {
        "colab": {
          "base_uri": "https://localhost:8080/",
          "height": 35
        },
        "id": "ZxJeOgF7Gyx1",
        "outputId": "58a84a4b-eeed-4cdb-e3fc-02d276a660bf"
      },
      "execution_count": 14,
      "outputs": [
        {
          "output_type": "execute_result",
          "data": {
            "text/plain": [
              "'I am 20 years old'"
            ],
            "application/vnd.google.colaboratory.intrinsic+json": {
              "type": "string"
            }
          },
          "metadata": {},
          "execution_count": 14
        }
      ]
    },
    {
      "cell_type": "markdown",
      "source": [
        "## Comprehension"
      ],
      "metadata": {
        "id": "ST5sMBX2ry7c"
      }
    },
    {
      "cell_type": "code",
      "source": [
        "res = []\n",
        "for i in range(0, 10):\n",
        "  res.append(i)\n",
        "\n",
        "print(res)"
      ],
      "metadata": {
        "id": "f2K7ETTTsJWB",
        "colab": {
          "base_uri": "https://localhost:8080/"
        },
        "outputId": "8a626f6c-8e6b-4227-944d-5ee0a4bfce94"
      },
      "execution_count": 15,
      "outputs": [
        {
          "output_type": "stream",
          "name": "stdout",
          "text": [
            "[0, 1, 2, 3, 4, 5, 6, 7, 8, 9]\n"
          ]
        }
      ]
    },
    {
      "cell_type": "code",
      "source": [
        "res2 = []\n",
        "for item in res:\n",
        "  res2.append(item*2)\n",
        "print(res2)"
      ],
      "metadata": {
        "colab": {
          "base_uri": "https://localhost:8080/"
        },
        "id": "qb6njMydHMEn",
        "outputId": "c7ab6269-33ab-41ce-c51c-c52ae58687e8"
      },
      "execution_count": 16,
      "outputs": [
        {
          "output_type": "stream",
          "name": "stdout",
          "text": [
            "[0, 2, 4, 6, 8, 10, 12, 14, 16, 18]\n"
          ]
        }
      ]
    },
    {
      "cell_type": "code",
      "source": [
        "[i for i in range(0, 10)]"
      ],
      "metadata": {
        "id": "21GXMfJTr19f",
        "colab": {
          "base_uri": "https://localhost:8080/"
        },
        "outputId": "4a645ef3-6a63-42aa-f9e3-aa7a7c5b2c18"
      },
      "execution_count": 17,
      "outputs": [
        {
          "output_type": "execute_result",
          "data": {
            "text/plain": [
              "[0, 1, 2, 3, 4, 5, 6, 7, 8, 9]"
            ]
          },
          "metadata": {},
          "execution_count": 17
        }
      ]
    },
    {
      "cell_type": "code",
      "source": [
        "[[x, y] for x in [1,2,3] for y in [3,4,5] if x != y]"
      ],
      "metadata": {
        "id": "mO0D_OpQsSAP",
        "colab": {
          "base_uri": "https://localhost:8080/"
        },
        "outputId": "6dfd3f35-d8b1-4416-f69f-b8d9aafac537"
      },
      "execution_count": 18,
      "outputs": [
        {
          "output_type": "execute_result",
          "data": {
            "text/plain": [
              "[[1, 3], [1, 4], [1, 5], [2, 3], [2, 4], [2, 5], [3, 4], [3, 5]]"
            ]
          },
          "metadata": {},
          "execution_count": 18
        }
      ]
    },
    {
      "cell_type": "code",
      "source": [
        "def multiplier(a,b):\n",
        "  return a*b\n",
        "\n",
        "[multiplier(x,y) for x in [1,2,3] for y in [4,5,6]]"
      ],
      "metadata": {
        "id": "N251nmCBsYeG",
        "colab": {
          "base_uri": "https://localhost:8080/"
        },
        "outputId": "aafd9b5e-e1f0-4a3d-e450-4efe8577e998"
      },
      "execution_count": 19,
      "outputs": [
        {
          "output_type": "execute_result",
          "data": {
            "text/plain": [
              "[4, 5, 6, 8, 10, 12, 12, 15, 18]"
            ]
          },
          "metadata": {},
          "execution_count": 19
        }
      ]
    },
    {
      "cell_type": "code",
      "source": [
        "data = [(i, str(i)) for i in range(4)]"
      ],
      "metadata": {
        "id": "SyuwIYhvIk74"
      },
      "execution_count": 20,
      "outputs": []
    },
    {
      "cell_type": "code",
      "source": [
        "print(data)"
      ],
      "metadata": {
        "id": "-krWuJ-Gslgh",
        "colab": {
          "base_uri": "https://localhost:8080/"
        },
        "outputId": "193b74d4-cdd6-46ac-9cdb-9473321dbf38"
      },
      "execution_count": 21,
      "outputs": [
        {
          "output_type": "stream",
          "name": "stdout",
          "text": [
            "[(0, '0'), (1, '1'), (2, '2'), (3, '3')]\n"
          ]
        }
      ]
    },
    {
      "cell_type": "code",
      "source": [
        "dict(data)"
      ],
      "metadata": {
        "colab": {
          "base_uri": "https://localhost:8080/"
        },
        "id": "747AcUVvIoOq",
        "outputId": "24f70bfe-0414-4282-ddeb-e06429c20092"
      },
      "execution_count": 22,
      "outputs": [
        {
          "output_type": "execute_result",
          "data": {
            "text/plain": [
              "{0: '0', 1: '1', 2: '2', 3: '3'}"
            ]
          },
          "metadata": {},
          "execution_count": 22
        }
      ]
    },
    {
      "cell_type": "code",
      "source": [
        "{i : str(i) for i in range(4)}"
      ],
      "metadata": {
        "id": "RdXXpaiXsqnj",
        "colab": {
          "base_uri": "https://localhost:8080/"
        },
        "outputId": "97aed458-e98f-469b-9b2a-10e986c6880f"
      },
      "execution_count": 23,
      "outputs": [
        {
          "output_type": "execute_result",
          "data": {
            "text/plain": [
              "{0: '0', 1: '1', 2: '2', 3: '3'}"
            ]
          },
          "metadata": {},
          "execution_count": 23
        }
      ]
    },
    {
      "cell_type": "markdown",
      "metadata": {
        "id": "6a5FaLaj7eYZ"
      },
      "source": [
        "## Произвольные аргументы"
      ]
    },
    {
      "cell_type": "markdown",
      "metadata": {
        "id": "6psJxbm7GMMb"
      },
      "source": [
        "Перед массивом произвольных неименованных аргументов может быть что угодно"
      ]
    },
    {
      "cell_type": "code",
      "source": [
        "def multiplier(start, items):\n",
        "  for item in items:\n",
        "    start *= item\n",
        "  return start"
      ],
      "metadata": {
        "id": "bf2ndOX9JTG4"
      },
      "execution_count": 24,
      "outputs": []
    },
    {
      "cell_type": "code",
      "source": [
        "multiplier(1, [2,3])"
      ],
      "metadata": {
        "colab": {
          "base_uri": "https://localhost:8080/"
        },
        "id": "813PQauMJc-u",
        "outputId": "7077a668-7caa-4803-fa45-37f696096f5e"
      },
      "execution_count": 25,
      "outputs": [
        {
          "output_type": "execute_result",
          "data": {
            "text/plain": [
              "6"
            ]
          },
          "metadata": {},
          "execution_count": 25
        }
      ]
    },
    {
      "cell_type": "code",
      "metadata": {
        "id": "ZBQ_mnw97k8R"
      },
      "source": [
        "def multiplier(start, *args):\n",
        "  for arg in args:\n",
        "    start *= arg\n",
        "  return start"
      ],
      "execution_count": 30,
      "outputs": []
    },
    {
      "cell_type": "code",
      "source": [
        "multiplier(1)"
      ],
      "metadata": {
        "colab": {
          "base_uri": "https://localhost:8080/"
        },
        "id": "K0D8-rajJwWY",
        "outputId": "22bd57f8-257d-4ee3-ff7a-5c1efb907fa0"
      },
      "execution_count": 31,
      "outputs": [
        {
          "output_type": "execute_result",
          "data": {
            "text/plain": [
              "1"
            ]
          },
          "metadata": {},
          "execution_count": 31
        }
      ]
    },
    {
      "cell_type": "code",
      "source": [
        "print(multiplier(5))\n",
        "print(multiplier(0,2,3,4))\n",
        "print(multiplier(5,2,3,4,10,1))"
      ],
      "metadata": {
        "id": "CD-Ze1I2frB9",
        "colab": {
          "base_uri": "https://localhost:8080/"
        },
        "outputId": "e7027879-3c38-4b52-d65d-5fec3d05a94f"
      },
      "execution_count": 32,
      "outputs": [
        {
          "output_type": "stream",
          "name": "stdout",
          "text": [
            "5\n",
            "0\n",
            "1200\n"
          ]
        }
      ]
    },
    {
      "cell_type": "code",
      "source": [
        "def multiplier(*args):\n",
        "  res = 1\n",
        "  for arg in args:\n",
        "    res *= arg\n",
        "  return res\n",
        "print(multiplier(5, 2))"
      ],
      "metadata": {
        "colab": {
          "base_uri": "https://localhost:8080/"
        },
        "id": "OTFGqnMFKJN7",
        "outputId": "89598393-650d-4416-a04b-f80641ab356e"
      },
      "execution_count": 34,
      "outputs": [
        {
          "output_type": "stream",
          "name": "stdout",
          "text": [
            "10\n"
          ]
        }
      ]
    },
    {
      "cell_type": "markdown",
      "metadata": {
        "id": "Q8MlIUrOGSPY"
      },
      "source": [
        "После массива также можно указать аргументы, но обращатсья к ним можно только по имени"
      ]
    },
    {
      "cell_type": "code",
      "metadata": {
        "id": "SFlKi7I1F5Dx"
      },
      "source": [
        "def multiplier2(start, *args, end):\n",
        "  res = start\n",
        "  for arg in args:\n",
        "    res *= arg\n",
        "  return res + end"
      ],
      "execution_count": null,
      "outputs": []
    },
    {
      "cell_type": "code",
      "metadata": {
        "id": "1ZmoFAGCGCa9"
      },
      "source": [
        "multiplier2(1,2,3,4)"
      ],
      "execution_count": null,
      "outputs": []
    },
    {
      "cell_type": "code",
      "metadata": {
        "id": "sOnEc7niGCdw"
      },
      "source": [
        "multiplier2(1,2,3,end=4)"
      ],
      "execution_count": null,
      "outputs": []
    },
    {
      "cell_type": "markdown",
      "metadata": {
        "id": "S4uWLCTmItY-"
      },
      "source": [
        "Можно также задавать массив именованных аргументов"
      ]
    },
    {
      "cell_type": "code",
      "metadata": {
        "id": "w38UsjqLIszj",
        "colab": {
          "base_uri": "https://localhost:8080/"
        },
        "outputId": "04cd4c1f-3776-468b-bbfa-2a266dfc5533"
      },
      "source": [
        "def summer(start, **kwargs):\n",
        "  return start + kwargs[\"end\"]\n",
        "\n",
        "print(summer(\"s\", middle=\"middle\", middle2=\"m2\", end=\"end\"))"
      ],
      "execution_count": 37,
      "outputs": [
        {
          "output_type": "stream",
          "name": "stdout",
          "text": [
            "send\n"
          ]
        }
      ]
    },
    {
      "cell_type": "code",
      "source": [
        "def summer(start, **kwargs):\n",
        "  res = start\n",
        "  for k in kwargs:\n",
        "    res += kwargs[k]\n",
        "  return res\n",
        "\n",
        "print(summer(\"s\", middle=\"middle\", middle2=\"m2\"))"
      ],
      "metadata": {
        "colab": {
          "base_uri": "https://localhost:8080/"
        },
        "id": "nZJ8jFtjK8s9",
        "outputId": "29281f45-bd66-4221-86f3-06e53eb2842d"
      },
      "execution_count": 40,
      "outputs": [
        {
          "output_type": "stream",
          "name": "stdout",
          "text": [
            "smiddlem2\n"
          ]
        }
      ]
    },
    {
      "cell_type": "code",
      "source": [
        "def test(start, *args, **kwargs):\n",
        "  res = start\n",
        "  for item in args:\n",
        "    res += item\n",
        "  for k in kwargs:\n",
        "    res += \"{0}={1}\".format(k, kwargs[k])\n",
        "  return res\n",
        "\n",
        "test(\"a\", \"b\", \"c\", final=\"xyz\")"
      ],
      "metadata": {
        "colab": {
          "base_uri": "https://localhost:8080/",
          "height": 35
        },
        "id": "W7uGgVo-LPsk",
        "outputId": "60f8600a-13b2-4867-ed97-243334c1825f"
      },
      "execution_count": 41,
      "outputs": [
        {
          "output_type": "execute_result",
          "data": {
            "text/plain": [
              "'abcfinal=xyz'"
            ],
            "application/vnd.google.colaboratory.intrinsic+json": {
              "type": "string"
            }
          },
          "metadata": {},
          "execution_count": 41
        }
      ]
    },
    {
      "cell_type": "markdown",
      "metadata": {
        "id": "qEBm8BTQ7nDN"
      },
      "source": [
        "## Значения по умолчанию"
      ]
    },
    {
      "cell_type": "markdown",
      "metadata": {
        "id": "zauC7YyEGgsn"
      },
      "source": [
        "Для аргументов можно указывать значение по умолчанию"
      ]
    },
    {
      "cell_type": "code",
      "source": [
        "class Test():\n",
        "  def __init__(self, a=100, b=10):\n",
        "    self.a = a\n",
        "    self.b = b\n",
        "\n",
        "print(Test().__dict__)\n",
        "print(Test(8).__dict__)"
      ],
      "metadata": {
        "colab": {
          "base_uri": "https://localhost:8080/"
        },
        "id": "FfFlE1cjLxUE",
        "outputId": "841b818a-4e5d-4742-cf31-6e004ce79b4f"
      },
      "execution_count": 44,
      "outputs": [
        {
          "output_type": "stream",
          "name": "stdout",
          "text": [
            "{'a': 100, 'b': 10}\n",
            "{'a': 8, 'b': 10}\n"
          ]
        }
      ]
    },
    {
      "cell_type": "code",
      "metadata": {
        "id": "RoU6SwMC7tUd",
        "colab": {
          "base_uri": "https://localhost:8080/"
        },
        "outputId": "88964e7c-7f6c-4d81-b6c1-dc21b6922bb9"
      },
      "source": [
        "def predefined(a, b, c = 3):\n",
        "  print(a, b, c)\n",
        "\n",
        "predefined(1,2)\n",
        "predefined(3,4,5)"
      ],
      "execution_count": 42,
      "outputs": [
        {
          "output_type": "stream",
          "name": "stdout",
          "text": [
            "1 2 3\n",
            "3 4 5\n"
          ]
        }
      ]
    },
    {
      "cell_type": "markdown",
      "metadata": {
        "id": "8R15o-e6GkZH"
      },
      "source": [
        "Но они обязательно идут после аргументов без значения по умолчанию"
      ]
    },
    {
      "cell_type": "code",
      "metadata": {
        "id": "wwkn-EuIGl69",
        "colab": {
          "base_uri": "https://localhost:8080/",
          "height": 106
        },
        "outputId": "b25703a3-9bd6-4de4-9028-681d909df030"
      },
      "source": [
        "def predefined(a = 1, b, c = 3):\n",
        "  print(a, b, c)\n",
        "\n",
        "predefined(1,2)\n",
        "predefined(3,4,5)"
      ],
      "execution_count": 45,
      "outputs": [
        {
          "output_type": "error",
          "ename": "SyntaxError",
          "evalue": "non-default argument follows default argument (<ipython-input-45-e1e447525876>, line 1)",
          "traceback": [
            "\u001b[0;36m  File \u001b[0;32m\"<ipython-input-45-e1e447525876>\"\u001b[0;36m, line \u001b[0;32m1\u001b[0m\n\u001b[0;31m    def predefined(a = 1, b, c = 3):\u001b[0m\n\u001b[0m                          ^\u001b[0m\n\u001b[0;31mSyntaxError\u001b[0m\u001b[0;31m:\u001b[0m non-default argument follows default argument\n"
          ]
        }
      ]
    },
    {
      "cell_type": "markdown",
      "metadata": {
        "id": "1trd4WZxA5s0"
      },
      "source": [
        "## Работа с исключениями"
      ]
    },
    {
      "cell_type": "code",
      "source": [
        "def divider(a, b):\n",
        "  if b == 0:\n",
        "    return None, \"b == 0\"\n",
        "  return a/b, None"
      ],
      "metadata": {
        "id": "eIMqbLu_rrbq"
      },
      "execution_count": 50,
      "outputs": []
    },
    {
      "cell_type": "code",
      "source": [
        "divider(1,2)"
      ],
      "metadata": {
        "colab": {
          "base_uri": "https://localhost:8080/"
        },
        "id": "7H1KW5OBNdGC",
        "outputId": "5463ffb3-fe80-44c6-87b8-b97d91e041cc"
      },
      "execution_count": 51,
      "outputs": [
        {
          "output_type": "execute_result",
          "data": {
            "text/plain": [
              "(0.5, None)"
            ]
          },
          "metadata": {},
          "execution_count": 51
        }
      ]
    },
    {
      "cell_type": "code",
      "source": [
        "divider(10, 0)"
      ],
      "metadata": {
        "colab": {
          "base_uri": "https://localhost:8080/"
        },
        "id": "U8a-FYryNe2W",
        "outputId": "9a9d195f-9a98-41fe-800b-58d2b9759c8b"
      },
      "execution_count": 52,
      "outputs": [
        {
          "output_type": "execute_result",
          "data": {
            "text/plain": [
              "(None, 'b == 0')"
            ]
          },
          "metadata": {},
          "execution_count": 52
        }
      ]
    },
    {
      "cell_type": "markdown",
      "metadata": {
        "id": "ZqJvatgsN3fQ"
      },
      "source": [
        "Иногда мы хотим написать простую функцию"
      ]
    },
    {
      "cell_type": "code",
      "metadata": {
        "id": "P83-VeGxA7KR"
      },
      "source": [
        "def divider(a, b):\n",
        "  return a / b"
      ],
      "execution_count": 53,
      "outputs": []
    },
    {
      "cell_type": "markdown",
      "metadata": {
        "id": "hsJPnKzSOBSv"
      },
      "source": [
        "Но что-то может пойти не так"
      ]
    },
    {
      "cell_type": "code",
      "metadata": {
        "id": "As0Ue1VRNV0A",
        "colab": {
          "base_uri": "https://localhost:8080/",
          "height": 228
        },
        "outputId": "d34bff03-d138-47cb-df03-e658417835f9"
      },
      "source": [
        "print(divider(1, 0))"
      ],
      "execution_count": 54,
      "outputs": [
        {
          "output_type": "error",
          "ename": "ZeroDivisionError",
          "evalue": "division by zero",
          "traceback": [
            "\u001b[0;31m---------------------------------------------------------------------------\u001b[0m",
            "\u001b[0;31mZeroDivisionError\u001b[0m                         Traceback (most recent call last)",
            "\u001b[0;32m<ipython-input-54-8d28da81ed76>\u001b[0m in \u001b[0;36m<cell line: 1>\u001b[0;34m()\u001b[0m\n\u001b[0;32m----> 1\u001b[0;31m \u001b[0mprint\u001b[0m\u001b[0;34m(\u001b[0m\u001b[0mdivider\u001b[0m\u001b[0;34m(\u001b[0m\u001b[0;36m1\u001b[0m\u001b[0;34m,\u001b[0m \u001b[0;36m0\u001b[0m\u001b[0;34m)\u001b[0m\u001b[0;34m)\u001b[0m\u001b[0;34m\u001b[0m\u001b[0;34m\u001b[0m\u001b[0m\n\u001b[0m",
            "\u001b[0;32m<ipython-input-53-35951b9dd3ba>\u001b[0m in \u001b[0;36mdivider\u001b[0;34m(a, b)\u001b[0m\n\u001b[1;32m      1\u001b[0m \u001b[0;32mdef\u001b[0m \u001b[0mdivider\u001b[0m\u001b[0;34m(\u001b[0m\u001b[0ma\u001b[0m\u001b[0;34m,\u001b[0m \u001b[0mb\u001b[0m\u001b[0;34m)\u001b[0m\u001b[0;34m:\u001b[0m\u001b[0;34m\u001b[0m\u001b[0;34m\u001b[0m\u001b[0m\n\u001b[0;32m----> 2\u001b[0;31m   \u001b[0mres\u001b[0m \u001b[0;34m=\u001b[0m \u001b[0ma\u001b[0m \u001b[0;34m/\u001b[0m \u001b[0mb\u001b[0m\u001b[0;34m\u001b[0m\u001b[0;34m\u001b[0m\u001b[0m\n\u001b[0m\u001b[1;32m      3\u001b[0m   \u001b[0;32mreturn\u001b[0m \u001b[0mres\u001b[0m\u001b[0;34m\u001b[0m\u001b[0;34m\u001b[0m\u001b[0m\n",
            "\u001b[0;31mZeroDivisionError\u001b[0m: division by zero"
          ]
        }
      ]
    },
    {
      "cell_type": "markdown",
      "metadata": {
        "id": "ryhx8LyTOB_5"
      },
      "source": [
        "Для того, чтобы уберечь себя, мы можем использовать конструкцию try-except:\n",
        "- try - что пытаемся сделать\n",
        "- except - какие исключения пытаемся ловить и что делаем, если их поймаем\n",
        "- else - что делаем, если не словили ошибку\n",
        "- finally - что делаем при любом исходе"
      ]
    },
    {
      "cell_type": "code",
      "source": [
        "def main_func(a, b):\n",
        "  # ....\n",
        "  try:\n",
        "    c = divider(a, b)\n",
        "  except ZeroDivisionError:\n",
        "    c = 0"
      ],
      "metadata": {
        "id": "9VkxjTAOO_Ln"
      },
      "execution_count": 59,
      "outputs": []
    },
    {
      "cell_type": "code",
      "metadata": {
        "id": "mzr40ZRFNZQ5"
      },
      "source": [
        "def safe_divider(a, b):\n",
        "  try:\n",
        "    res = a / b\n",
        "  except ZeroDivisionError:\n",
        "    print(\"unsafe division!\")\n",
        "    res = 0\n",
        "  else:\n",
        "    print(\"safe division!\")\n",
        "  finally:\n",
        "    return res"
      ],
      "execution_count": 55,
      "outputs": []
    },
    {
      "cell_type": "code",
      "metadata": {
        "id": "BgUWeRVXN1P2",
        "colab": {
          "base_uri": "https://localhost:8080/"
        },
        "outputId": "30dd49c1-4dee-4b55-dcd7-2c5caf0d31c5"
      },
      "source": [
        "print(safe_divider(1,1))"
      ],
      "execution_count": 56,
      "outputs": [
        {
          "output_type": "stream",
          "name": "stdout",
          "text": [
            "safe division!\n",
            "1.0\n"
          ]
        }
      ]
    },
    {
      "cell_type": "code",
      "metadata": {
        "id": "FYRnxak_N1rF",
        "colab": {
          "base_uri": "https://localhost:8080/"
        },
        "outputId": "98fdfb69-7d90-4e3f-9c27-17349148ec38"
      },
      "source": [
        "print(safe_divider(1,0))"
      ],
      "execution_count": 57,
      "outputs": [
        {
          "output_type": "stream",
          "name": "stdout",
          "text": [
            "unsafe division!\n",
            "0\n"
          ]
        }
      ]
    },
    {
      "cell_type": "markdown",
      "source": [
        "Исключения можно создавать и самим"
      ],
      "metadata": {
        "id": "l269fl57SXiw"
      }
    },
    {
      "cell_type": "code",
      "source": [
        "def exceptional_func():\n",
        "  raise ValueError(\"test\")"
      ],
      "metadata": {
        "id": "d4BnRUHkSVPi"
      },
      "execution_count": 60,
      "outputs": []
    },
    {
      "cell_type": "code",
      "source": [
        "exceptional_func()"
      ],
      "metadata": {
        "id": "Ft3B_KAXs7cX",
        "colab": {
          "base_uri": "https://localhost:8080/",
          "height": 211
        },
        "outputId": "d4342e55-a689-4b05-ffe2-7467d6dfc4bc"
      },
      "execution_count": 61,
      "outputs": [
        {
          "output_type": "error",
          "ename": "ValueError",
          "evalue": "test",
          "traceback": [
            "\u001b[0;31m---------------------------------------------------------------------------\u001b[0m",
            "\u001b[0;31mValueError\u001b[0m                                Traceback (most recent call last)",
            "\u001b[0;32m<ipython-input-61-430e3e2f268b>\u001b[0m in \u001b[0;36m<cell line: 1>\u001b[0;34m()\u001b[0m\n\u001b[0;32m----> 1\u001b[0;31m \u001b[0mexceptional_func\u001b[0m\u001b[0;34m(\u001b[0m\u001b[0;34m)\u001b[0m\u001b[0;34m\u001b[0m\u001b[0;34m\u001b[0m\u001b[0m\n\u001b[0m",
            "\u001b[0;32m<ipython-input-60-4faeb4a0d8ba>\u001b[0m in \u001b[0;36mexceptional_func\u001b[0;34m()\u001b[0m\n\u001b[1;32m      1\u001b[0m \u001b[0;32mdef\u001b[0m \u001b[0mexceptional_func\u001b[0m\u001b[0;34m(\u001b[0m\u001b[0;34m)\u001b[0m\u001b[0;34m:\u001b[0m\u001b[0;34m\u001b[0m\u001b[0;34m\u001b[0m\u001b[0m\n\u001b[0;32m----> 2\u001b[0;31m   \u001b[0;32mraise\u001b[0m \u001b[0mValueError\u001b[0m\u001b[0;34m(\u001b[0m\u001b[0;34m\"test\"\u001b[0m\u001b[0;34m)\u001b[0m\u001b[0;34m\u001b[0m\u001b[0;34m\u001b[0m\u001b[0m\n\u001b[0m",
            "\u001b[0;31mValueError\u001b[0m: test"
          ]
        }
      ]
    },
    {
      "cell_type": "code",
      "source": [
        "class MyException(Exception):\n",
        "  pass\n",
        "\n",
        "def my_exceptional_func():\n",
        "  raise MyException(\"my message\")"
      ],
      "metadata": {
        "id": "j0Qby3fxSWgJ"
      },
      "execution_count": 62,
      "outputs": []
    },
    {
      "cell_type": "code",
      "source": [
        "my_exceptional_func()"
      ],
      "metadata": {
        "id": "5OsXAktctM0R",
        "colab": {
          "base_uri": "https://localhost:8080/",
          "height": 228
        },
        "outputId": "17da49b2-6ee1-406f-91ac-91ebb09bfc6a"
      },
      "execution_count": 63,
      "outputs": [
        {
          "output_type": "error",
          "ename": "MyException",
          "evalue": "my message",
          "traceback": [
            "\u001b[0;31m---------------------------------------------------------------------------\u001b[0m",
            "\u001b[0;31mMyException\u001b[0m                               Traceback (most recent call last)",
            "\u001b[0;32m<ipython-input-63-14ccce316df5>\u001b[0m in \u001b[0;36m<cell line: 1>\u001b[0;34m()\u001b[0m\n\u001b[0;32m----> 1\u001b[0;31m \u001b[0mmy_exceptional_func\u001b[0m\u001b[0;34m(\u001b[0m\u001b[0;34m)\u001b[0m\u001b[0;34m\u001b[0m\u001b[0;34m\u001b[0m\u001b[0m\n\u001b[0m",
            "\u001b[0;32m<ipython-input-62-3e0ac80266d7>\u001b[0m in \u001b[0;36mmy_exceptional_func\u001b[0;34m()\u001b[0m\n\u001b[1;32m      3\u001b[0m \u001b[0;34m\u001b[0m\u001b[0m\n\u001b[1;32m      4\u001b[0m \u001b[0;32mdef\u001b[0m \u001b[0mmy_exceptional_func\u001b[0m\u001b[0;34m(\u001b[0m\u001b[0;34m)\u001b[0m\u001b[0;34m:\u001b[0m\u001b[0;34m\u001b[0m\u001b[0;34m\u001b[0m\u001b[0m\n\u001b[0;32m----> 5\u001b[0;31m   \u001b[0;32mraise\u001b[0m \u001b[0mMyException\u001b[0m\u001b[0;34m(\u001b[0m\u001b[0;34m\"my message\"\u001b[0m\u001b[0;34m)\u001b[0m\u001b[0;34m\u001b[0m\u001b[0;34m\u001b[0m\u001b[0m\n\u001b[0m",
            "\u001b[0;31mMyException\u001b[0m: my message"
          ]
        }
      ]
    },
    {
      "cell_type": "code",
      "source": [
        "MyException.mro()"
      ],
      "metadata": {
        "id": "476fbzr8tUxM",
        "colab": {
          "base_uri": "https://localhost:8080/"
        },
        "outputId": "ce494d80-34da-4f78-c217-94478e570097"
      },
      "execution_count": 64,
      "outputs": [
        {
          "output_type": "execute_result",
          "data": {
            "text/plain": [
              "[__main__.MyException, Exception, BaseException, object]"
            ]
          },
          "metadata": {},
          "execution_count": 64
        }
      ]
    },
    {
      "cell_type": "code",
      "source": [
        "try:\n",
        "  test_func()\n",
        "except ValueError:\n",
        "  print(1)\n",
        "except KeyError:\n",
        "  print(2)\n",
        "except (TypeError, NameError):\n",
        "  print(3)"
      ],
      "metadata": {
        "id": "MBIAo1RcQHUQ"
      },
      "execution_count": null,
      "outputs": []
    },
    {
      "cell_type": "markdown",
      "metadata": {
        "id": "ofRBBb-O7b-X"
      },
      "source": [
        "## Декораторы"
      ]
    },
    {
      "cell_type": "markdown",
      "metadata": {
        "id": "8qlSpFslJ_f5"
      },
      "source": [
        "Обычно есть 3 функции:\n",
        "- декорирующая\n",
        "- декорируемая\n",
        "- та, которой декорируют"
      ]
    },
    {
      "cell_type": "code",
      "metadata": {
        "id": "TlUUePum7bWs",
        "colab": {
          "base_uri": "https://localhost:8080/"
        },
        "outputId": "cdeb28a2-3525-40b6-d5c9-e058b8dcf9a7"
      },
      "source": [
        "def trace(func): # декорирующая\n",
        "  print(\"trace dec\")\n",
        "  def inner(*args, **kwargs): # та, которой декорируют\n",
        "    print(\"calling function:\", func.__name__, \", parameters\", args, kwargs)\n",
        "    return func(*args, **kwargs)\n",
        "  return inner\n",
        "\n",
        "@trace\n",
        "def calc(a, b): # декорируемая\n",
        "  return a + b\n",
        "\n",
        "calc(1,2)"
      ],
      "execution_count": 66,
      "outputs": [
        {
          "output_type": "stream",
          "name": "stdout",
          "text": [
            "trace dec\n",
            "calling function: calc , parameters (1, 2) {'p': 'test'}\n"
          ]
        },
        {
          "output_type": "execute_result",
          "data": {
            "text/plain": [
              "3"
            ]
          },
          "metadata": {},
          "execution_count": 66
        }
      ]
    },
    {
      "cell_type": "code",
      "source": [
        "calc(1,2,p=\"test\")"
      ],
      "metadata": {
        "colab": {
          "base_uri": "https://localhost:8080/"
        },
        "id": "H_uVIoieSCS_",
        "outputId": "82bcfb47-aab0-4a17-95b9-6150b278236c"
      },
      "execution_count": 67,
      "outputs": [
        {
          "output_type": "stream",
          "name": "stdout",
          "text": [
            "calling function: calc , parameters (1, 2) {'p': 'test'}\n"
          ]
        },
        {
          "output_type": "execute_result",
          "data": {
            "text/plain": [
              "3"
            ]
          },
          "metadata": {},
          "execution_count": 67
        }
      ]
    },
    {
      "cell_type": "markdown",
      "metadata": {
        "id": "rdtufpYXKfG0"
      },
      "source": [
        "Декораторов может быть и много!  \n",
        "При этом выполняются они снизу вверх"
      ]
    },
    {
      "cell_type": "code",
      "metadata": {
        "id": "8r_Ik7-IKewC",
        "colab": {
          "base_uri": "https://localhost:8080/"
        },
        "outputId": "272ff5ac-ae91-45cc-d9b6-c99ec4253942"
      },
      "source": [
        "def first(func):\n",
        "  print(\"i'm the first\")\n",
        "  def inner(*args, **kwargs):\n",
        "    print(\"first decoration\")\n",
        "    return func(*args, **kwargs)\n",
        "  return inner\n",
        "\n",
        "def second(func):\n",
        "  print(\"i'm the second\")\n",
        "  def inner(*args, **kwargs):\n",
        "    print(\"second decoration\")\n",
        "    return func(*args, **kwargs)\n",
        "  return inner\n",
        "\n",
        "@second\n",
        "@first\n",
        "def last():\n",
        "  print(\"i'm the last\")"
      ],
      "execution_count": 68,
      "outputs": [
        {
          "output_type": "stream",
          "name": "stdout",
          "text": [
            "i'm the first\n",
            "i'm the second\n"
          ]
        }
      ]
    },
    {
      "cell_type": "code",
      "source": [
        "last()"
      ],
      "metadata": {
        "id": "0xSzs08mZHxB",
        "colab": {
          "base_uri": "https://localhost:8080/"
        },
        "outputId": "062395c3-d1c4-4a48-b98a-58fbd15e3af1"
      },
      "execution_count": 69,
      "outputs": [
        {
          "output_type": "stream",
          "name": "stdout",
          "text": [
            "second decoration\n",
            "first decoration\n",
            "i'm the last\n"
          ]
        }
      ]
    },
    {
      "cell_type": "markdown",
      "source": [
        "## Dataclasses"
      ],
      "metadata": {
        "id": "Uwig42JIEC6h"
      }
    },
    {
      "cell_type": "markdown",
      "source": [
        "Делаем самый простой класс"
      ],
      "metadata": {
        "id": "Kr_XBt_TEKkN"
      }
    },
    {
      "cell_type": "code",
      "source": [
        "class Author:\n",
        "  def __init__(self, name, birthday, country=\"Russia\"):\n",
        "    self.name = name\n",
        "    self.birthday = birthday"
      ],
      "metadata": {
        "id": "5ByjqCZnECSu"
      },
      "execution_count": 77,
      "outputs": []
    },
    {
      "cell_type": "code",
      "source": [
        "a = Author(\"Ivan\", \"01.01.1990\")\n",
        "print(a)"
      ],
      "metadata": {
        "colab": {
          "base_uri": "https://localhost:8080/"
        },
        "id": "vfidabs-cPWJ",
        "outputId": "7d4bc9c2-f494-4f24-e50f-24fa08574215"
      },
      "execution_count": 78,
      "outputs": [
        {
          "output_type": "stream",
          "name": "stdout",
          "text": [
            "<__main__.Author object at 0x7baae231ba30>\n"
          ]
        }
      ]
    },
    {
      "cell_type": "markdown",
      "source": [
        "Но можно и не писать это все самим"
      ],
      "metadata": {
        "id": "YatsVp2zET36"
      }
    },
    {
      "cell_type": "code",
      "source": [
        "from dataclasses import dataclass\n",
        "\n",
        "@dataclass\n",
        "class Author:\n",
        "    name: str\n",
        "    birthday: str"
      ],
      "metadata": {
        "id": "ReaF9gY_EXPk"
      },
      "execution_count": 80,
      "outputs": []
    },
    {
      "cell_type": "code",
      "source": [
        "a = Author(\"Ivan\", \"01.01.1990\")\n",
        "print(a)"
      ],
      "metadata": {
        "id": "uAMRQKzcEx_D",
        "colab": {
          "base_uri": "https://localhost:8080/"
        },
        "outputId": "38cbd216-1d47-487d-afd1-6e334fb5fd47"
      },
      "execution_count": 81,
      "outputs": [
        {
          "output_type": "stream",
          "name": "stdout",
          "text": [
            "Author(name='Ivan', birthday='01.01.1990')\n"
          ]
        }
      ]
    },
    {
      "cell_type": "code",
      "source": [
        "a.name = \"Mike\"\n",
        "print(a)"
      ],
      "metadata": {
        "colab": {
          "base_uri": "https://localhost:8080/"
        },
        "id": "b-BMNU52c9Kp",
        "outputId": "9bc0ca16-d50d-44fe-e997-7752a60b2e8e"
      },
      "execution_count": 82,
      "outputs": [
        {
          "output_type": "stream",
          "name": "stdout",
          "text": [
            "Author(name='Mike', birthday='01.01.1990')\n"
          ]
        }
      ]
    },
    {
      "cell_type": "markdown",
      "source": [
        "Есть и значения по умолчанию"
      ],
      "metadata": {
        "id": "xu-W5ENlEqYS"
      }
    },
    {
      "cell_type": "code",
      "source": [
        "@dataclass\n",
        "class Author:\n",
        "    name: str = \"Ivan\"\n",
        "    birthday: str = \"01.01.1990\""
      ],
      "metadata": {
        "id": "-Pr67WztEtHT"
      },
      "execution_count": 83,
      "outputs": []
    },
    {
      "cell_type": "code",
      "source": [
        "a = Author()\n",
        "print(a)"
      ],
      "metadata": {
        "id": "djJYeAkAFHhF",
        "colab": {
          "base_uri": "https://localhost:8080/"
        },
        "outputId": "a54968b5-ff17-4f74-a485-0e112b8c4109"
      },
      "execution_count": 84,
      "outputs": [
        {
          "output_type": "stream",
          "name": "stdout",
          "text": [
            "Author(name='Ivan', birthday='01.01.1990')\n"
          ]
        }
      ]
    },
    {
      "cell_type": "markdown",
      "source": [
        "А если мы хотим иметь иммутабельные экзмепляры?"
      ],
      "metadata": {
        "id": "7yFbHNkwFxp7"
      }
    },
    {
      "cell_type": "code",
      "source": [
        "@dataclass(frozen=True)\n",
        "class Author:\n",
        "    name: str\n",
        "    birthday: str"
      ],
      "metadata": {
        "id": "gvRu7IkTFZl5"
      },
      "execution_count": 85,
      "outputs": []
    },
    {
      "cell_type": "code",
      "source": [
        "a = Author(\"Ivan\", \"01.01.1990\")\n",
        "print(a)"
      ],
      "metadata": {
        "id": "7HfAapTuFrCX",
        "colab": {
          "base_uri": "https://localhost:8080/"
        },
        "outputId": "35eecfac-6b2f-4c4e-fce5-768a4a67e6a7"
      },
      "execution_count": 86,
      "outputs": [
        {
          "output_type": "stream",
          "name": "stdout",
          "text": [
            "Author(name='Ivan', birthday='01.01.1990')\n"
          ]
        }
      ]
    },
    {
      "cell_type": "code",
      "source": [
        "a.name = \"Mike\"\n",
        "print(a)"
      ],
      "metadata": {
        "id": "HIScucH8csS1",
        "colab": {
          "base_uri": "https://localhost:8080/",
          "height": 193
        },
        "outputId": "444b0e2d-f392-4252-c6ca-bce790a1c021"
      },
      "execution_count": 87,
      "outputs": [
        {
          "output_type": "error",
          "ename": "FrozenInstanceError",
          "evalue": "cannot assign to field 'name'",
          "traceback": [
            "\u001b[0;31m---------------------------------------------------------------------------\u001b[0m",
            "\u001b[0;31mFrozenInstanceError\u001b[0m                       Traceback (most recent call last)",
            "\u001b[0;32m<ipython-input-87-1bfc9dba396f>\u001b[0m in \u001b[0;36m<cell line: 1>\u001b[0;34m()\u001b[0m\n\u001b[0;32m----> 1\u001b[0;31m \u001b[0ma\u001b[0m\u001b[0;34m.\u001b[0m\u001b[0mname\u001b[0m \u001b[0;34m=\u001b[0m \u001b[0;34m\"Mike\"\u001b[0m\u001b[0;34m\u001b[0m\u001b[0;34m\u001b[0m\u001b[0m\n\u001b[0m\u001b[1;32m      2\u001b[0m \u001b[0mprint\u001b[0m\u001b[0;34m(\u001b[0m\u001b[0ma\u001b[0m\u001b[0;34m)\u001b[0m\u001b[0;34m\u001b[0m\u001b[0;34m\u001b[0m\u001b[0m\n",
            "\u001b[0;32m<string>\u001b[0m in \u001b[0;36m__setattr__\u001b[0;34m(self, name, value)\u001b[0m\n",
            "\u001b[0;31mFrozenInstanceError\u001b[0m: cannot assign to field 'name'"
          ]
        }
      ]
    },
    {
      "cell_type": "markdown",
      "source": [
        "## Slots"
      ],
      "metadata": {
        "id": "HAecokABfSZa"
      }
    },
    {
      "cell_type": "code",
      "source": [
        "class Test():\n",
        "  def __init__(self):\n",
        "    self.a = 1\n",
        "    self.b = 2\n",
        "\n",
        "t = Test()\n",
        "t.c = 3"
      ],
      "metadata": {
        "id": "_G8c_lerfVZz"
      },
      "execution_count": 88,
      "outputs": []
    },
    {
      "cell_type": "code",
      "source": [
        "t.__dict__"
      ],
      "metadata": {
        "colab": {
          "base_uri": "https://localhost:8080/"
        },
        "id": "OFjJ7HoFdqOp",
        "outputId": "e3bbb79d-b4c7-4065-bc96-a86d6da85d37"
      },
      "execution_count": 89,
      "outputs": [
        {
          "output_type": "execute_result",
          "data": {
            "text/plain": [
              "{'a': 1, 'b': 2, 'c': 3}"
            ]
          },
          "metadata": {},
          "execution_count": 89
        }
      ]
    },
    {
      "cell_type": "code",
      "source": [
        "class Test():\n",
        "  __slots__ = (\"a\", \"b\")\n",
        "  def __init__(self):\n",
        "    self.a = 1\n",
        "    self.b = 2\n",
        "\n",
        "t = Test()\n",
        "t.a = 10"
      ],
      "metadata": {
        "id": "7zgfzrWxfuMu"
      },
      "execution_count": 90,
      "outputs": []
    },
    {
      "cell_type": "code",
      "source": [
        "t.c = 10"
      ],
      "metadata": {
        "colab": {
          "base_uri": "https://localhost:8080/",
          "height": 141
        },
        "id": "u5GBKpJkd1zB",
        "outputId": "ef9ae11e-8b76-4f40-ac41-90551a556851"
      },
      "execution_count": 91,
      "outputs": [
        {
          "output_type": "error",
          "ename": "AttributeError",
          "evalue": "'Test' object has no attribute 'c'",
          "traceback": [
            "\u001b[0;31m---------------------------------------------------------------------------\u001b[0m",
            "\u001b[0;31mAttributeError\u001b[0m                            Traceback (most recent call last)",
            "\u001b[0;32m<ipython-input-91-a71dd3e8a45f>\u001b[0m in \u001b[0;36m<cell line: 1>\u001b[0;34m()\u001b[0m\n\u001b[0;32m----> 1\u001b[0;31m \u001b[0mt\u001b[0m\u001b[0;34m.\u001b[0m\u001b[0mc\u001b[0m \u001b[0;34m=\u001b[0m \u001b[0;36m10\u001b[0m\u001b[0;34m\u001b[0m\u001b[0;34m\u001b[0m\u001b[0m\n\u001b[0m",
            "\u001b[0;31mAttributeError\u001b[0m: 'Test' object has no attribute 'c'"
          ]
        }
      ]
    },
    {
      "cell_type": "code",
      "source": [
        "class Test():\n",
        "    __slots__ = (\"a\", \"b\")\n",
        "\n",
        "class ChildTest(Test):\n",
        "    pass\n",
        "\n",
        "c = ChildTest()\n",
        "c.c = 2"
      ],
      "metadata": {
        "id": "gaFhO1BwodpI"
      },
      "execution_count": 92,
      "outputs": []
    },
    {
      "cell_type": "code",
      "source": [
        "class Test():\n",
        "    __slots__ = (\"a\", \"b\")\n",
        "\n",
        "class ChildTest(Test):\n",
        "    __slots__ = (\"c\",)\n",
        "\n",
        "c = ChildTest()\n",
        "c.a = 1\n",
        "c.c = 2\n",
        "c.d = 5"
      ],
      "metadata": {
        "id": "NivdIx7Wot25",
        "colab": {
          "base_uri": "https://localhost:8080/",
          "height": 176
        },
        "outputId": "bdc2c6e8-c688-4b78-d555-7dc9a8f238a1"
      },
      "execution_count": 94,
      "outputs": [
        {
          "output_type": "error",
          "ename": "AttributeError",
          "evalue": "'ChildTest' object has no attribute 'd'",
          "traceback": [
            "\u001b[0;31m---------------------------------------------------------------------------\u001b[0m",
            "\u001b[0;31mAttributeError\u001b[0m                            Traceback (most recent call last)",
            "\u001b[0;32m<ipython-input-94-8bee4fb05646>\u001b[0m in \u001b[0;36m<cell line: 10>\u001b[0;34m()\u001b[0m\n\u001b[1;32m      8\u001b[0m \u001b[0mc\u001b[0m\u001b[0;34m.\u001b[0m\u001b[0ma\u001b[0m \u001b[0;34m=\u001b[0m \u001b[0;36m1\u001b[0m\u001b[0;34m\u001b[0m\u001b[0;34m\u001b[0m\u001b[0m\n\u001b[1;32m      9\u001b[0m \u001b[0mc\u001b[0m\u001b[0;34m.\u001b[0m\u001b[0mc\u001b[0m \u001b[0;34m=\u001b[0m \u001b[0;36m2\u001b[0m\u001b[0;34m\u001b[0m\u001b[0;34m\u001b[0m\u001b[0m\n\u001b[0;32m---> 10\u001b[0;31m \u001b[0mc\u001b[0m\u001b[0;34m.\u001b[0m\u001b[0md\u001b[0m \u001b[0;34m=\u001b[0m \u001b[0;36m5\u001b[0m\u001b[0;34m\u001b[0m\u001b[0;34m\u001b[0m\u001b[0m\n\u001b[0m",
            "\u001b[0;31mAttributeError\u001b[0m: 'ChildTest' object has no attribute 'd'"
          ]
        }
      ]
    },
    {
      "cell_type": "code",
      "source": [
        "class BaseA(object):\n",
        "    __slots__ = ('a',)\n",
        "\n",
        "class BaseB(object):\n",
        "    __slots__ = ('b',)"
      ],
      "metadata": {
        "id": "U5ITQUNJpTL3"
      },
      "execution_count": 95,
      "outputs": []
    },
    {
      "cell_type": "code",
      "source": [
        "class Child(BaseA, BaseB):\n",
        "    __slots__ = ()"
      ],
      "metadata": {
        "id": "NIbhFHZapaF8",
        "colab": {
          "base_uri": "https://localhost:8080/",
          "height": 159
        },
        "outputId": "983a99a3-07ea-4b0b-fef5-3637b58c0227"
      },
      "execution_count": 96,
      "outputs": [
        {
          "output_type": "error",
          "ename": "TypeError",
          "evalue": "multiple bases have instance lay-out conflict",
          "traceback": [
            "\u001b[0;31m---------------------------------------------------------------------------\u001b[0m",
            "\u001b[0;31mTypeError\u001b[0m                                 Traceback (most recent call last)",
            "\u001b[0;32m<ipython-input-96-630dce7e405b>\u001b[0m in \u001b[0;36m<cell line: 1>\u001b[0;34m()\u001b[0m\n\u001b[0;32m----> 1\u001b[0;31m \u001b[0;32mclass\u001b[0m \u001b[0mChild\u001b[0m\u001b[0;34m(\u001b[0m\u001b[0mBaseA\u001b[0m\u001b[0;34m,\u001b[0m \u001b[0mBaseB\u001b[0m\u001b[0;34m)\u001b[0m\u001b[0;34m:\u001b[0m\u001b[0;34m\u001b[0m\u001b[0;34m\u001b[0m\u001b[0m\n\u001b[0m\u001b[1;32m      2\u001b[0m     \u001b[0m__slots__\u001b[0m \u001b[0;34m=\u001b[0m \u001b[0;34m(\u001b[0m\u001b[0;34m)\u001b[0m\u001b[0;34m\u001b[0m\u001b[0;34m\u001b[0m\u001b[0m\n",
            "\u001b[0;31mTypeError\u001b[0m: multiple bases have instance lay-out conflict"
          ]
        }
      ]
    },
    {
      "cell_type": "code",
      "source": [
        "class Child(BaseB, BaseA):\n",
        "    __slots__ = ()"
      ],
      "metadata": {
        "id": "hgXHa1KepcAB",
        "colab": {
          "base_uri": "https://localhost:8080/",
          "height": 159
        },
        "outputId": "cb318b0f-5ab6-4692-deee-7d9508fcd997"
      },
      "execution_count": 97,
      "outputs": [
        {
          "output_type": "error",
          "ename": "TypeError",
          "evalue": "multiple bases have instance lay-out conflict",
          "traceback": [
            "\u001b[0;31m---------------------------------------------------------------------------\u001b[0m",
            "\u001b[0;31mTypeError\u001b[0m                                 Traceback (most recent call last)",
            "\u001b[0;32m<ipython-input-97-0e1938d1558c>\u001b[0m in \u001b[0;36m<cell line: 1>\u001b[0;34m()\u001b[0m\n\u001b[0;32m----> 1\u001b[0;31m \u001b[0;32mclass\u001b[0m \u001b[0mChild\u001b[0m\u001b[0;34m(\u001b[0m\u001b[0mBaseB\u001b[0m\u001b[0;34m,\u001b[0m \u001b[0mBaseA\u001b[0m\u001b[0;34m)\u001b[0m\u001b[0;34m:\u001b[0m\u001b[0;34m\u001b[0m\u001b[0;34m\u001b[0m\u001b[0m\n\u001b[0m\u001b[1;32m      2\u001b[0m     \u001b[0m__slots__\u001b[0m \u001b[0;34m=\u001b[0m \u001b[0;34m(\u001b[0m\u001b[0;34m)\u001b[0m\u001b[0;34m\u001b[0m\u001b[0;34m\u001b[0m\u001b[0m\n",
            "\u001b[0;31mTypeError\u001b[0m: multiple bases have instance lay-out conflict"
          ]
        }
      ]
    },
    {
      "cell_type": "markdown",
      "metadata": {
        "id": "KiAgjerw7pWv"
      },
      "source": [
        "## Перегрузка"
      ]
    },
    {
      "cell_type": "code",
      "metadata": {
        "id": "7A6sE_LF7fQg",
        "colab": {
          "base_uri": "https://localhost:8080/"
        },
        "outputId": "07695f8a-b15f-40d6-bbd5-f8709fded405"
      },
      "source": [
        "class InsensitiveString():\n",
        "  def __init__(self, string):\n",
        "    self.string = string\n",
        "\n",
        "s1 = InsensitiveString(\"abc\")\n",
        "s2 = InsensitiveString(\"ABC\")\n",
        "print(s1 == s2)\n",
        "print(s1 != s2)"
      ],
      "execution_count": 98,
      "outputs": [
        {
          "output_type": "stream",
          "name": "stdout",
          "text": [
            "False\n",
            "True\n"
          ]
        }
      ]
    },
    {
      "cell_type": "code",
      "source": [
        "class InsensitiveString():\n",
        "  def __init__(self, string):\n",
        "    self.string = string\n",
        "\n",
        "  def __add__(self, other):\n",
        "    return self.string + other"
      ],
      "metadata": {
        "id": "WcaXjdmDkebv"
      },
      "execution_count": 99,
      "outputs": []
    },
    {
      "cell_type": "code",
      "source": [
        "InsensitiveString(\"abc\") + \"def\""
      ],
      "metadata": {
        "id": "3wof-jcFkfc0",
        "colab": {
          "base_uri": "https://localhost:8080/",
          "height": 35
        },
        "outputId": "afd5afe4-b11d-4c64-90f5-d07991a49ef7"
      },
      "execution_count": 100,
      "outputs": [
        {
          "output_type": "execute_result",
          "data": {
            "text/plain": [
              "'abcdef'"
            ],
            "application/vnd.google.colaboratory.intrinsic+json": {
              "type": "string"
            }
          },
          "metadata": {},
          "execution_count": 100
        }
      ]
    },
    {
      "cell_type": "code",
      "source": [
        "\"abc\" + InsensitiveString(\"def\")"
      ],
      "metadata": {
        "id": "5-1cmtjXkoUJ",
        "colab": {
          "base_uri": "https://localhost:8080/",
          "height": 141
        },
        "outputId": "6b596b1a-dc31-4273-92f8-14582de95d26"
      },
      "execution_count": 101,
      "outputs": [
        {
          "output_type": "error",
          "ename": "TypeError",
          "evalue": "can only concatenate str (not \"InsensitiveString\") to str",
          "traceback": [
            "\u001b[0;31m---------------------------------------------------------------------------\u001b[0m",
            "\u001b[0;31mTypeError\u001b[0m                                 Traceback (most recent call last)",
            "\u001b[0;32m<ipython-input-101-056e9cccce6c>\u001b[0m in \u001b[0;36m<cell line: 1>\u001b[0;34m()\u001b[0m\n\u001b[0;32m----> 1\u001b[0;31m \u001b[0;34m\"abc\"\u001b[0m \u001b[0;34m+\u001b[0m \u001b[0mInsensitiveString\u001b[0m\u001b[0;34m(\u001b[0m\u001b[0;34m\"def\"\u001b[0m\u001b[0;34m)\u001b[0m\u001b[0;34m\u001b[0m\u001b[0;34m\u001b[0m\u001b[0m\n\u001b[0m",
            "\u001b[0;31mTypeError\u001b[0m: can only concatenate str (not \"InsensitiveString\") to str"
          ]
        }
      ]
    },
    {
      "cell_type": "code",
      "metadata": {
        "id": "6QLJNPYFD45q"
      },
      "source": [
        "class InsensitiveString():\n",
        "  def __init__(self, string):\n",
        "    self.string = string\n",
        "\n",
        "  def __add__(self, other):\n",
        "    return self.string + other\n",
        "\n",
        "  # нужно задавать, потому что Python сначала пытается сделать self.__add__(other), если не получается, то other.__radd__(self)\n",
        "  def __radd__(self, other):\n",
        "    return other + self.string"
      ],
      "execution_count": 102,
      "outputs": []
    },
    {
      "cell_type": "code",
      "source": [
        "print(InsensitiveString(\"abc\") + \"def\")\n",
        "print(\"def\" + InsensitiveString(\"abc\"))"
      ],
      "metadata": {
        "id": "11ez9TJ0kyu5",
        "colab": {
          "base_uri": "https://localhost:8080/"
        },
        "outputId": "f3d12827-b65b-4ec3-e049-f1b684bac139"
      },
      "execution_count": 103,
      "outputs": [
        {
          "output_type": "stream",
          "name": "stdout",
          "text": [
            "abcdef\n",
            "defabc\n"
          ]
        }
      ]
    },
    {
      "cell_type": "code",
      "source": [
        "dir(InsensitiveString(\"abc\"))"
      ],
      "metadata": {
        "id": "YPjRLg3yfTcP"
      },
      "execution_count": null,
      "outputs": []
    },
    {
      "cell_type": "code",
      "source": [
        "class InsensitiveString():\n",
        "  def __init__(self, string):\n",
        "    self.string = string\n",
        "\n",
        "  def __eq__(self, other):\n",
        "    return self.string.lower() == other.string.lower()\n",
        "\n",
        "  def __ne__(self, other):\n",
        "    return self.string.lower() != other.string.lower()\n",
        "\n",
        "  def __add__(self, other):\n",
        "    return self.string + other.string\n",
        "\n",
        "  def __radd__(self, other):\n",
        "    return other.string + self.string\n",
        "\n",
        "  def __str__(self):\n",
        "    return self.string\n",
        "\n",
        "  def __repr__(self):\n",
        "    return f\"Insensitive string that has {self.string} value\""
      ],
      "metadata": {
        "id": "BtaaktgMk-_C"
      },
      "execution_count": 105,
      "outputs": []
    },
    {
      "cell_type": "code",
      "metadata": {
        "id": "YnQJ_1qFEO7y",
        "colab": {
          "base_uri": "https://localhost:8080/"
        },
        "outputId": "829827ab-e917-47e8-b332-b21e2c879339"
      },
      "source": [
        "s1 = InsensitiveString(\"abc\")\n",
        "s2 = InsensitiveString(\"ABc\")\n",
        "print(s1 == s2)\n",
        "print(s1 != s2)\n",
        "print(s1 + s2)\n",
        "print(s1)\n",
        "print(str(s1))\n",
        "print(repr(s1))"
      ],
      "execution_count": 106,
      "outputs": [
        {
          "output_type": "stream",
          "name": "stdout",
          "text": [
            "True\n",
            "False\n",
            "abcABc\n",
            "abc\n",
            "abc\n",
            "Insensitive string that has abc value\n"
          ]
        }
      ]
    },
    {
      "cell_type": "markdown",
      "metadata": {
        "id": "QBGJFPghBngN"
      },
      "source": [
        "## Сеттеры и Геттеры"
      ]
    },
    {
      "cell_type": "code",
      "metadata": {
        "id": "LN2bZMymBpab"
      },
      "source": [
        "class MyClass():\n",
        "  def __init__(self):\n",
        "    self.value = 0"
      ],
      "execution_count": 107,
      "outputs": []
    },
    {
      "cell_type": "markdown",
      "metadata": {
        "id": "lj0Hj_-pByop"
      },
      "source": [
        "Конечно, мы можем напрямую работать с полем __value__"
      ]
    },
    {
      "cell_type": "code",
      "metadata": {
        "id": "UVz6PufzB4vO",
        "colab": {
          "base_uri": "https://localhost:8080/"
        },
        "outputId": "6fdcec06-da6a-460b-9175-40603eca03d6"
      },
      "source": [
        "c = MyClass()\n",
        "c.value += 1\n",
        "print(c.value)"
      ],
      "execution_count": 108,
      "outputs": [
        {
          "output_type": "stream",
          "name": "stdout",
          "text": [
            "1\n"
          ]
        }
      ]
    },
    {
      "cell_type": "markdown",
      "metadata": {
        "id": "5-I9N96xCGOw"
      },
      "source": [
        "Однако в таком случае мы можем случайно изменять значения полей, что может быть критичным. Более того, мы можем хотеть скрыть внутренности класса."
      ]
    },
    {
      "cell_type": "code",
      "metadata": {
        "id": "JUs7mPVyCO8V"
      },
      "source": [
        "class MyProtectedClass():\n",
        "  def __init__(self):\n",
        "    self.__value = 0\n",
        "\n",
        "  def value(self):\n",
        "    return self.__value\n",
        "\n",
        "  def set_value(self, new_value):\n",
        "    self.__value = new_value"
      ],
      "execution_count": 110,
      "outputs": []
    },
    {
      "cell_type": "code",
      "metadata": {
        "id": "Vf8xdPWMCkZ7",
        "colab": {
          "base_uri": "https://localhost:8080/"
        },
        "outputId": "cca1f9ae-0eb7-4394-fbdb-3383127ea0af"
      },
      "source": [
        "c = MyProtectedClass()\n",
        "c.set_value(5)\n",
        "c.value()"
      ],
      "execution_count": 111,
      "outputs": [
        {
          "output_type": "execute_result",
          "data": {
            "text/plain": [
              "5"
            ]
          },
          "metadata": {},
          "execution_count": 111
        }
      ]
    },
    {
      "cell_type": "markdown",
      "metadata": {
        "id": "4po8kQ8o986n"
      },
      "source": [
        "## Контекст"
      ]
    },
    {
      "cell_type": "markdown",
      "metadata": {
        "id": "pBPSE2ITAJbR"
      },
      "source": [
        "Обычно контекст используют при работе с файлами:"
      ]
    },
    {
      "cell_type": "code",
      "metadata": {
        "id": "WEtgrhI09-9n"
      },
      "source": [
        "f = open(\"test.txt\", \"w\")\n",
        "f.write(\"test line\")\n",
        "f.close()\n",
        "\n",
        "with open(\"test2.txt\", \"w\") as f:\n",
        "  f.write(\"test line\")"
      ],
      "execution_count": 112,
      "outputs": []
    },
    {
      "cell_type": "markdown",
      "metadata": {
        "id": "0Ig7NNrXAMiU"
      },
      "source": [
        "Но на самом деле мы можем написать свой менеджер контекста:"
      ]
    },
    {
      "cell_type": "code",
      "metadata": {
        "id": "hgZ5FSEkAO7y",
        "colab": {
          "base_uri": "https://localhost:8080/"
        },
        "outputId": "13272868-6a0f-415c-a68b-15f285092c5f"
      },
      "source": [
        "class Manager():\n",
        "    def __enter__(self):\n",
        "        print(\"enter\")\n",
        "    def __exit__(self, type, value, traceback):\n",
        "        print(\"exit\")\n",
        "\n",
        "with Manager() as m:\n",
        "  print(\"managing\")"
      ],
      "execution_count": 113,
      "outputs": [
        {
          "output_type": "stream",
          "name": "stdout",
          "text": [
            "enter\n",
            "managing\n",
            "exit\n"
          ]
        }
      ]
    },
    {
      "cell_type": "markdown",
      "metadata": {
        "id": "lXw5NUjd8kOP"
      },
      "source": [
        "## Pattern matching (Python 3.10+)"
      ]
    },
    {
      "cell_type": "code",
      "metadata": {
        "id": "Bpy5asoL8kZa"
      },
      "source": [
        "def do_stuff_v1(value):\n",
        "  if value == \"a\":\n",
        "    print(1)\n",
        "  elif value == \"b\":\n",
        "    print(2)\n",
        "  elif value == \"c\":\n",
        "    print(3)\n",
        "  else:\n",
        "    print(0)"
      ],
      "execution_count": 114,
      "outputs": []
    },
    {
      "cell_type": "code",
      "metadata": {
        "id": "w5UAUEYR88tB",
        "colab": {
          "base_uri": "https://localhost:8080/"
        },
        "outputId": "8c8f3441-5c4d-4637-decd-fbf6acd62c26"
      },
      "source": [
        "do_stuff_v1(\"a\")\n",
        "do_stuff_v1(\"asd\")"
      ],
      "execution_count": 115,
      "outputs": [
        {
          "output_type": "stream",
          "name": "stdout",
          "text": [
            "1\n",
            "0\n"
          ]
        }
      ]
    },
    {
      "cell_type": "code",
      "metadata": {
        "id": "WHVx4GJd9Bkv"
      },
      "source": [
        "def do_stuff_v2(value):\n",
        "  match value:\n",
        "    case \"a\":\n",
        "      print(1)\n",
        "    case \"b\":\n",
        "      print(2)\n",
        "    case \"c\":\n",
        "      print(3)\n",
        "    case _:\n",
        "      print(0)"
      ],
      "execution_count": 116,
      "outputs": []
    },
    {
      "cell_type": "code",
      "source": [
        "do_stuff_v2(\"a\")\n",
        "do_stuff_v2(\"asd\")"
      ],
      "metadata": {
        "id": "SO_IxWDbPAwi",
        "colab": {
          "base_uri": "https://localhost:8080/"
        },
        "outputId": "b38c3982-28c4-4b37-b163-3de0e6b2a835"
      },
      "execution_count": 117,
      "outputs": [
        {
          "output_type": "stream",
          "name": "stdout",
          "text": [
            "1\n",
            "0\n"
          ]
        }
      ]
    },
    {
      "cell_type": "markdown",
      "metadata": {
        "id": "ELcBs6J982X2"
      },
      "source": [
        "## Кэширование"
      ]
    },
    {
      "cell_type": "markdown",
      "metadata": {
        "id": "seYLmYlPLCPE"
      },
      "source": [
        "Часто нам необходимо долго обрабатывать данные, при этом входные данные могут повторяться. Для того, чтобы сэкономить себе время, мы можем сделать себе кэш"
      ]
    },
    {
      "cell_type": "code",
      "source": [
        "import time"
      ],
      "metadata": {
        "id": "KxByeUKrxW68"
      },
      "execution_count": 149,
      "outputs": []
    },
    {
      "cell_type": "code",
      "metadata": {
        "id": "a9UUEboy87On"
      },
      "source": [
        "def compute_output(input):\n",
        "  time.sleep(2)\n",
        "  return input * 10\n",
        "\n",
        "def compute(input):\n",
        "  output = compute_output(input)\n",
        "  return output"
      ],
      "execution_count": 150,
      "outputs": []
    },
    {
      "cell_type": "code",
      "metadata": {
        "id": "7JfDX3eQLsA3",
        "colab": {
          "base_uri": "https://localhost:8080/",
          "height": 70
        },
        "outputId": "d06d77e8-d886-4447-88d9-8dae037aec9a"
      },
      "source": [
        "%%time\n",
        "compute(\"a\")"
      ],
      "execution_count": 151,
      "outputs": [
        {
          "output_type": "stream",
          "name": "stdout",
          "text": [
            "CPU times: user 4.43 ms, sys: 2.3 ms, total: 6.73 ms\n",
            "Wall time: 2 s\n"
          ]
        },
        {
          "output_type": "execute_result",
          "data": {
            "text/plain": [
              "'aaaaaaaaaa'"
            ],
            "application/vnd.google.colaboratory.intrinsic+json": {
              "type": "string"
            }
          },
          "metadata": {},
          "execution_count": 151
        }
      ]
    },
    {
      "cell_type": "code",
      "metadata": {
        "id": "8-ZLrwgQME9h",
        "colab": {
          "base_uri": "https://localhost:8080/",
          "height": 70
        },
        "outputId": "d00f0094-1c58-4b01-9404-1f8c6445bf02"
      },
      "source": [
        "%%time\n",
        "compute(\"a\")"
      ],
      "execution_count": 152,
      "outputs": [
        {
          "output_type": "stream",
          "name": "stdout",
          "text": [
            "CPU times: user 7.54 ms, sys: 1.23 ms, total: 8.77 ms\n",
            "Wall time: 2 s\n"
          ]
        },
        {
          "output_type": "execute_result",
          "data": {
            "text/plain": [
              "'aaaaaaaaaa'"
            ],
            "application/vnd.google.colaboratory.intrinsic+json": {
              "type": "string"
            }
          },
          "metadata": {},
          "execution_count": 152
        }
      ]
    },
    {
      "cell_type": "code",
      "source": [
        "cache = {} # ключ - input, значение - output\n",
        "\n",
        "def compute(input):\n",
        "  if input in cache.keys():\n",
        "    return cache[input]\n",
        "  output = compute_output(input)\n",
        "  cache[input] = output\n",
        "  return output"
      ],
      "metadata": {
        "id": "OZXVJb6cxfj1"
      },
      "execution_count": 153,
      "outputs": []
    },
    {
      "cell_type": "code",
      "source": [
        "%%time\n",
        "compute(\"b\")"
      ],
      "metadata": {
        "id": "YQpV-QGWxvD-",
        "colab": {
          "base_uri": "https://localhost:8080/",
          "height": 70
        },
        "outputId": "835387ef-415b-407f-f458-395bd501b98d"
      },
      "execution_count": 154,
      "outputs": [
        {
          "output_type": "stream",
          "name": "stdout",
          "text": [
            "CPU times: user 8.32 ms, sys: 8 µs, total: 8.32 ms\n",
            "Wall time: 2 s\n"
          ]
        },
        {
          "output_type": "execute_result",
          "data": {
            "text/plain": [
              "'bbbbbbbbbb'"
            ],
            "application/vnd.google.colaboratory.intrinsic+json": {
              "type": "string"
            }
          },
          "metadata": {},
          "execution_count": 154
        }
      ]
    },
    {
      "cell_type": "code",
      "source": [
        "%%time\n",
        "compute(\"b\")"
      ],
      "metadata": {
        "id": "-TBZdXyYxvGX",
        "colab": {
          "base_uri": "https://localhost:8080/",
          "height": 70
        },
        "outputId": "182ee4d8-8d57-472d-b91e-453d2f5d34ed"
      },
      "execution_count": 155,
      "outputs": [
        {
          "output_type": "stream",
          "name": "stdout",
          "text": [
            "CPU times: user 8 µs, sys: 1 µs, total: 9 µs\n",
            "Wall time: 14.1 µs\n"
          ]
        },
        {
          "output_type": "execute_result",
          "data": {
            "text/plain": [
              "'bbbbbbbbbb'"
            ],
            "application/vnd.google.colaboratory.intrinsic+json": {
              "type": "string"
            }
          },
          "metadata": {},
          "execution_count": 155
        }
      ]
    },
    {
      "cell_type": "markdown",
      "metadata": {
        "id": "TTa-vMg2Bi4y"
      },
      "source": [
        "## Итераторы"
      ]
    },
    {
      "cell_type": "markdown",
      "metadata": {
        "id": "ZXEuq5Z5Orob"
      },
      "source": [
        "Итераторы нужны для того, чтобы можно было удобно проходить по элементам некоей сущности. Обычно при проходе по элементам списка мы делаем так:"
      ]
    },
    {
      "cell_type": "code",
      "metadata": {
        "id": "4FshnOSeBlNi",
        "colab": {
          "base_uri": "https://localhost:8080/"
        },
        "outputId": "dc35e591-e7ae-4109-9c0e-e0a01e92d5c0"
      },
      "source": [
        "num_list = [1, 2, 3]\n",
        "for i in num_list:\n",
        "  print(i)"
      ],
      "execution_count": 157,
      "outputs": [
        {
          "output_type": "stream",
          "name": "stdout",
          "text": [
            "1\n",
            "2\n",
            "3\n"
          ]
        }
      ]
    },
    {
      "cell_type": "markdown",
      "metadata": {
        "id": "px6bfw0qPIc8"
      },
      "source": [
        "Но можно создать итератор - объект, который может вернуть нам очередной элемент или же кинуть исключение"
      ]
    },
    {
      "cell_type": "code",
      "metadata": {
        "id": "Qe5QI8NoO1Vm",
        "colab": {
          "base_uri": "https://localhost:8080/",
          "height": 228
        },
        "outputId": "a25fc526-7d24-42e4-d999-60dd8cd60d05"
      },
      "source": [
        "itr = iter(num_list)\n",
        "print(next(itr))\n",
        "print(next(itr))\n",
        "print(next(itr))\n",
        "print(next(itr))"
      ],
      "execution_count": 158,
      "outputs": [
        {
          "output_type": "stream",
          "name": "stdout",
          "text": [
            "1\n",
            "2\n",
            "3\n"
          ]
        },
        {
          "output_type": "error",
          "ename": "StopIteration",
          "evalue": "",
          "traceback": [
            "\u001b[0;31m---------------------------------------------------------------------------\u001b[0m",
            "\u001b[0;31mStopIteration\u001b[0m                             Traceback (most recent call last)",
            "\u001b[0;32m<ipython-input-158-35d4dbbac9c3>\u001b[0m in \u001b[0;36m<cell line: 5>\u001b[0;34m()\u001b[0m\n\u001b[1;32m      3\u001b[0m \u001b[0mprint\u001b[0m\u001b[0;34m(\u001b[0m\u001b[0mnext\u001b[0m\u001b[0;34m(\u001b[0m\u001b[0mitr\u001b[0m\u001b[0;34m)\u001b[0m\u001b[0;34m)\u001b[0m\u001b[0;34m\u001b[0m\u001b[0;34m\u001b[0m\u001b[0m\n\u001b[1;32m      4\u001b[0m \u001b[0mprint\u001b[0m\u001b[0;34m(\u001b[0m\u001b[0mnext\u001b[0m\u001b[0;34m(\u001b[0m\u001b[0mitr\u001b[0m\u001b[0;34m)\u001b[0m\u001b[0;34m)\u001b[0m\u001b[0;34m\u001b[0m\u001b[0;34m\u001b[0m\u001b[0m\n\u001b[0;32m----> 5\u001b[0;31m \u001b[0mprint\u001b[0m\u001b[0;34m(\u001b[0m\u001b[0mnext\u001b[0m\u001b[0;34m(\u001b[0m\u001b[0mitr\u001b[0m\u001b[0;34m)\u001b[0m\u001b[0;34m)\u001b[0m\u001b[0;34m\u001b[0m\u001b[0;34m\u001b[0m\u001b[0m\n\u001b[0m",
            "\u001b[0;31mStopIteration\u001b[0m: "
          ]
        }
      ]
    },
    {
      "cell_type": "markdown",
      "metadata": {
        "id": "WxMdQPcjPd3n"
      },
      "source": [
        "Мы можем делать и собственные итераторы"
      ]
    },
    {
      "cell_type": "code",
      "metadata": {
        "id": "ylGb9a4aPdSx"
      },
      "source": [
        "class SimpleIterator:\n",
        "  def __init__(self, limit):\n",
        "    self.limit = limit\n",
        "    self.counter = 0\n",
        "\n",
        "  def __next__(self):\n",
        "    if self.counter < self.limit:\n",
        "      self.counter += 1\n",
        "      return 1\n",
        "    else:\n",
        "      raise StopIteration"
      ],
      "execution_count": 159,
      "outputs": []
    },
    {
      "cell_type": "code",
      "source": [
        "s_iter1 = SimpleIterator(3)\n",
        "print(next(s_iter1))\n",
        "print(next(s_iter1))\n",
        "print(next(s_iter1))\n",
        "print(next(s_iter1))"
      ],
      "metadata": {
        "id": "ypKw-ZSd485N",
        "colab": {
          "base_uri": "https://localhost:8080/",
          "height": 315
        },
        "outputId": "90463c31-cf18-401e-aa81-b2dc3800261e"
      },
      "execution_count": 160,
      "outputs": [
        {
          "output_type": "stream",
          "name": "stdout",
          "text": [
            "1\n",
            "1\n",
            "1\n"
          ]
        },
        {
          "output_type": "error",
          "ename": "StopIteration",
          "evalue": "",
          "traceback": [
            "\u001b[0;31m---------------------------------------------------------------------------\u001b[0m",
            "\u001b[0;31mStopIteration\u001b[0m                             Traceback (most recent call last)",
            "\u001b[0;32m<ipython-input-160-072051fa3cd7>\u001b[0m in \u001b[0;36m<cell line: 5>\u001b[0;34m()\u001b[0m\n\u001b[1;32m      3\u001b[0m \u001b[0mprint\u001b[0m\u001b[0;34m(\u001b[0m\u001b[0mnext\u001b[0m\u001b[0;34m(\u001b[0m\u001b[0ms_iter1\u001b[0m\u001b[0;34m)\u001b[0m\u001b[0;34m)\u001b[0m\u001b[0;34m\u001b[0m\u001b[0;34m\u001b[0m\u001b[0m\n\u001b[1;32m      4\u001b[0m \u001b[0mprint\u001b[0m\u001b[0;34m(\u001b[0m\u001b[0mnext\u001b[0m\u001b[0;34m(\u001b[0m\u001b[0ms_iter1\u001b[0m\u001b[0;34m)\u001b[0m\u001b[0;34m)\u001b[0m\u001b[0;34m\u001b[0m\u001b[0;34m\u001b[0m\u001b[0m\n\u001b[0;32m----> 5\u001b[0;31m \u001b[0mprint\u001b[0m\u001b[0;34m(\u001b[0m\u001b[0mnext\u001b[0m\u001b[0;34m(\u001b[0m\u001b[0ms_iter1\u001b[0m\u001b[0;34m)\u001b[0m\u001b[0;34m)\u001b[0m\u001b[0;34m\u001b[0m\u001b[0;34m\u001b[0m\u001b[0m\n\u001b[0m",
            "\u001b[0;32m<ipython-input-159-90c5dc210dac>\u001b[0m in \u001b[0;36m__next__\u001b[0;34m(self)\u001b[0m\n\u001b[1;32m      9\u001b[0m       \u001b[0;32mreturn\u001b[0m \u001b[0;36m1\u001b[0m\u001b[0;34m\u001b[0m\u001b[0;34m\u001b[0m\u001b[0m\n\u001b[1;32m     10\u001b[0m     \u001b[0;32melse\u001b[0m\u001b[0;34m:\u001b[0m\u001b[0;34m\u001b[0m\u001b[0;34m\u001b[0m\u001b[0m\n\u001b[0;32m---> 11\u001b[0;31m       \u001b[0;32mraise\u001b[0m \u001b[0mStopIteration\u001b[0m\u001b[0;34m\u001b[0m\u001b[0;34m\u001b[0m\u001b[0m\n\u001b[0m",
            "\u001b[0;31mStopIteration\u001b[0m: "
          ]
        }
      ]
    },
    {
      "cell_type": "markdown",
      "metadata": {
        "id": "J27B7A4RP0EE"
      },
      "source": [
        "## Генераторы"
      ]
    },
    {
      "cell_type": "markdown",
      "metadata": {
        "id": "qX83f49HQEre"
      },
      "source": [
        "Генератор - функция, которая определяет правила для __next__  \n",
        "При этом вместо того, чтобы возвращать значение с помощью __return__, мы их __yield__'им"
      ]
    },
    {
      "cell_type": "code",
      "metadata": {
        "id": "uuQ_sZaqP3F7",
        "colab": {
          "base_uri": "https://localhost:8080/",
          "height": 228
        },
        "outputId": "1455aab7-fa4f-4a07-eaca-9dbf16958801"
      },
      "source": [
        "def simple_generator(val):\n",
        "  while val > 0:\n",
        "    val -= 1\n",
        "    yield val\n",
        "\n",
        "g = simple_generator(3)\n",
        "print(next(g))\n",
        "print(next(g))\n",
        "print(next(g))\n",
        "print(next(g))"
      ],
      "execution_count": 162,
      "outputs": [
        {
          "output_type": "stream",
          "name": "stdout",
          "text": [
            "2\n",
            "1\n",
            "0\n"
          ]
        },
        {
          "output_type": "error",
          "ename": "StopIteration",
          "evalue": "",
          "traceback": [
            "\u001b[0;31m---------------------------------------------------------------------------\u001b[0m",
            "\u001b[0;31mStopIteration\u001b[0m                             Traceback (most recent call last)",
            "\u001b[0;32m<ipython-input-162-5638ea34e8f5>\u001b[0m in \u001b[0;36m<cell line: 10>\u001b[0;34m()\u001b[0m\n\u001b[1;32m      8\u001b[0m \u001b[0mprint\u001b[0m\u001b[0;34m(\u001b[0m\u001b[0mnext\u001b[0m\u001b[0;34m(\u001b[0m\u001b[0mg\u001b[0m\u001b[0;34m)\u001b[0m\u001b[0;34m)\u001b[0m\u001b[0;34m\u001b[0m\u001b[0;34m\u001b[0m\u001b[0m\n\u001b[1;32m      9\u001b[0m \u001b[0mprint\u001b[0m\u001b[0;34m(\u001b[0m\u001b[0mnext\u001b[0m\u001b[0;34m(\u001b[0m\u001b[0mg\u001b[0m\u001b[0;34m)\u001b[0m\u001b[0;34m)\u001b[0m\u001b[0;34m\u001b[0m\u001b[0;34m\u001b[0m\u001b[0m\n\u001b[0;32m---> 10\u001b[0;31m \u001b[0mprint\u001b[0m\u001b[0;34m(\u001b[0m\u001b[0mnext\u001b[0m\u001b[0;34m(\u001b[0m\u001b[0mg\u001b[0m\u001b[0;34m)\u001b[0m\u001b[0;34m)\u001b[0m\u001b[0;34m\u001b[0m\u001b[0;34m\u001b[0m\u001b[0m\n\u001b[0m",
            "\u001b[0;31mStopIteration\u001b[0m: "
          ]
        }
      ]
    },
    {
      "cell_type": "markdown",
      "metadata": {
        "id": "A-1rJ-GeQz0F"
      },
      "source": [
        "Важно учитывать, что:\n",
        "- генератор не хранит в себе все значения\n",
        "- генератор как бы замораживается в процессе работы, ожидая очередную своб итерацию\n",
        "- можно добавить сообщение в конце!"
      ]
    },
    {
      "cell_type": "code",
      "metadata": {
        "id": "5vHsgPnaRHXx",
        "colab": {
          "base_uri": "https://localhost:8080/",
          "height": 228
        },
        "outputId": "99e69490-b755-4262-cb93-8f21b29e023b"
      },
      "source": [
        "def simple_generator(val):\n",
        "  while val > 0:\n",
        "    val -= 1\n",
        "    yield 1\n",
        "  return \"the end!\"\n",
        "\n",
        "\n",
        "g = simple_generator(3)\n",
        "print(next(g))\n",
        "print(next(g))\n",
        "print(next(g))\n",
        "print(next(g))"
      ],
      "execution_count": 163,
      "outputs": [
        {
          "output_type": "stream",
          "name": "stdout",
          "text": [
            "1\n",
            "1\n",
            "1\n"
          ]
        },
        {
          "output_type": "error",
          "ename": "StopIteration",
          "evalue": "the end!",
          "traceback": [
            "\u001b[0;31m---------------------------------------------------------------------------\u001b[0m",
            "\u001b[0;31mStopIteration\u001b[0m                             Traceback (most recent call last)",
            "\u001b[0;32m<ipython-input-163-8457c438fbef>\u001b[0m in \u001b[0;36m<cell line: 12>\u001b[0;34m()\u001b[0m\n\u001b[1;32m     10\u001b[0m \u001b[0mprint\u001b[0m\u001b[0;34m(\u001b[0m\u001b[0mnext\u001b[0m\u001b[0;34m(\u001b[0m\u001b[0mg\u001b[0m\u001b[0;34m)\u001b[0m\u001b[0;34m)\u001b[0m\u001b[0;34m\u001b[0m\u001b[0;34m\u001b[0m\u001b[0m\n\u001b[1;32m     11\u001b[0m \u001b[0mprint\u001b[0m\u001b[0;34m(\u001b[0m\u001b[0mnext\u001b[0m\u001b[0;34m(\u001b[0m\u001b[0mg\u001b[0m\u001b[0;34m)\u001b[0m\u001b[0;34m)\u001b[0m\u001b[0;34m\u001b[0m\u001b[0;34m\u001b[0m\u001b[0m\n\u001b[0;32m---> 12\u001b[0;31m \u001b[0mprint\u001b[0m\u001b[0;34m(\u001b[0m\u001b[0mnext\u001b[0m\u001b[0;34m(\u001b[0m\u001b[0mg\u001b[0m\u001b[0;34m)\u001b[0m\u001b[0;34m)\u001b[0m\u001b[0;34m\u001b[0m\u001b[0;34m\u001b[0m\u001b[0m\n\u001b[0m",
            "\u001b[0;31mStopIteration\u001b[0m: the end!"
          ]
        }
      ]
    },
    {
      "cell_type": "markdown",
      "metadata": {
        "id": "SqXxhul_72aV"
      },
      "source": [
        "## Указание типов"
      ]
    },
    {
      "cell_type": "markdown",
      "metadata": {
        "id": "Rf2VVajaG8Qk"
      },
      "source": [
        "Мы можем писать, какие мы ожидаем увидеть типы у аргументов и результатов"
      ]
    },
    {
      "cell_type": "code",
      "source": [
        "import math"
      ],
      "metadata": {
        "id": "J4KbxfCSmuXH"
      },
      "execution_count": null,
      "outputs": []
    },
    {
      "cell_type": "code",
      "metadata": {
        "id": "8ouXRbz374nJ"
      },
      "source": [
        "def power(value_1: int, value_2: int) -> int:\n",
        "  return math.pow(value_1, value_2)"
      ],
      "execution_count": null,
      "outputs": []
    },
    {
      "cell_type": "code",
      "metadata": {
        "id": "gCADWDO7H5ve"
      },
      "source": [
        "print(power(2, 3))"
      ],
      "execution_count": null,
      "outputs": []
    },
    {
      "cell_type": "markdown",
      "metadata": {
        "id": "TAtd-XTvH95R"
      },
      "source": [
        "Но это все просто комментарии.."
      ]
    },
    {
      "cell_type": "code",
      "metadata": {
        "id": "zqVK-kQGH5y9"
      },
      "source": [
        "print(power(\"s\", 3))"
      ],
      "execution_count": null,
      "outputs": []
    },
    {
      "cell_type": "markdown",
      "metadata": {
        "id": "hPJSYj448CYO"
      },
      "source": [
        "## Имена"
      ]
    },
    {
      "cell_type": "markdown",
      "metadata": {
        "id": "xu1O4FI3RSCM"
      },
      "source": [
        "Именование переменных, функций, классов - важная вещь. По идее, одного взгляда на них должно быть достаточно доя того, чтобы понять, для чего они существуют"
      ]
    },
    {
      "cell_type": "code",
      "metadata": {
        "id": "NJcikgdd8Bzt"
      },
      "source": [
        "def func(a, b):\n",
        "  return [x * y for x in a for y in b]\n",
        "\n",
        "def array_zipper(source, source_2):\n",
        "  return [x * y for x in source for y in source_2]"
      ],
      "execution_count": null,
      "outputs": []
    },
    {
      "cell_type": "code",
      "metadata": {
        "id": "bZyZt4FASE8H"
      },
      "source": [
        "a = [1,2,3]\n",
        "b = [2,4]\n",
        "print(func(a, b))"
      ],
      "execution_count": null,
      "outputs": []
    },
    {
      "cell_type": "code",
      "source": [
        "print(array_zipper(a, b))"
      ],
      "metadata": {
        "id": "qqbeVHK2nQOt"
      },
      "execution_count": null,
      "outputs": []
    },
    {
      "cell_type": "code",
      "metadata": {
        "id": "VWR8HtglIIk_"
      },
      "source": [
        "for range_counter in range(0, 10):\n",
        "  range_counter += 1\n",
        "  pass"
      ],
      "execution_count": null,
      "outputs": []
    },
    {
      "cell_type": "markdown",
      "metadata": {
        "id": "9EUOCTY-S25V"
      },
      "source": [
        "При этом очевидно, что все очень сильно зависит от того, какое время жизни у переменной - если переменная нужна лишь на одной строке, нет ничего зазорного в том, чтобы назвать ее __a__ или __x__"
      ]
    },
    {
      "cell_type": "markdown",
      "metadata": {
        "id": "xZpIsU_O8J3g"
      },
      "source": [
        "## Линтеры"
      ]
    },
    {
      "cell_type": "code",
      "source": [
        "1+  1\n",
        "1 + 1\n",
        "1+1"
      ],
      "metadata": {
        "id": "oPqg76JU5vy_"
      },
      "execution_count": null,
      "outputs": []
    },
    {
      "cell_type": "markdown",
      "metadata": {
        "id": "bfTbD_KXM6_K"
      },
      "source": [
        "Существуют инструменты, которые проверяют как стиль написания кода, так и сам код (к примеру, говорят, что объявленная переменная нигде не используется). Их называют линтерами. Самым известным линтером можно назвать Flake8"
      ]
    },
    {
      "cell_type": "markdown",
      "source": [
        "## Тесты"
      ],
      "metadata": {
        "id": "uihpwdkKmDSG"
      }
    },
    {
      "cell_type": "markdown",
      "source": [
        "https://realpython.com/python-testing/#unit-tests-vs-integration-tests\n",
        "\n",
        "Грубо говоря, тесты можно поделить на:\n",
        "\n",
        "- интеграционные тесты\n",
        "- юнит тесты"
      ],
      "metadata": {
        "id": "kZYXU2MdmHaq"
      }
    },
    {
      "cell_type": "markdown",
      "source": [
        "### Assert"
      ],
      "metadata": {
        "id": "7dysPm0rmOvw"
      }
    },
    {
      "cell_type": "code",
      "source": [
        "assert 1==1, \"test 1\""
      ],
      "metadata": {
        "id": "bauNGVHimTjH"
      },
      "execution_count": 118,
      "outputs": []
    },
    {
      "cell_type": "code",
      "source": [
        "assert 1==2, \"test 2\""
      ],
      "metadata": {
        "id": "kJc7AR2PmZhL",
        "colab": {
          "base_uri": "https://localhost:8080/",
          "height": 141
        },
        "outputId": "e49610b0-b5e5-4ada-f09f-b55eb5bb1191"
      },
      "execution_count": 119,
      "outputs": [
        {
          "output_type": "error",
          "ename": "AssertionError",
          "evalue": "test 2",
          "traceback": [
            "\u001b[0;31m---------------------------------------------------------------------------\u001b[0m",
            "\u001b[0;31mAssertionError\u001b[0m                            Traceback (most recent call last)",
            "\u001b[0;32m<ipython-input-119-6f7a703da1d5>\u001b[0m in \u001b[0;36m<cell line: 1>\u001b[0;34m()\u001b[0m\n\u001b[0;32m----> 1\u001b[0;31m \u001b[0;32massert\u001b[0m \u001b[0;36m1\u001b[0m\u001b[0;34m==\u001b[0m\u001b[0;36m2\u001b[0m\u001b[0;34m,\u001b[0m \u001b[0;34m\"test 2\"\u001b[0m\u001b[0;34m\u001b[0m\u001b[0;34m\u001b[0m\u001b[0m\n\u001b[0m",
            "\u001b[0;31mAssertionError\u001b[0m: test 2"
          ]
        }
      ]
    },
    {
      "cell_type": "code",
      "source": [
        "assert 1==3"
      ],
      "metadata": {
        "colab": {
          "base_uri": "https://localhost:8080/",
          "height": 141
        },
        "id": "m_jGIXTIiOLN",
        "outputId": "2af16561-e81f-4e68-d2c0-7dffc88a5138"
      },
      "execution_count": 120,
      "outputs": [
        {
          "output_type": "error",
          "ename": "AssertionError",
          "evalue": "",
          "traceback": [
            "\u001b[0;31m---------------------------------------------------------------------------\u001b[0m",
            "\u001b[0;31mAssertionError\u001b[0m                            Traceback (most recent call last)",
            "\u001b[0;32m<ipython-input-120-29a33531949c>\u001b[0m in \u001b[0;36m<cell line: 1>\u001b[0;34m()\u001b[0m\n\u001b[0;32m----> 1\u001b[0;31m \u001b[0;32massert\u001b[0m \u001b[0;36m1\u001b[0m\u001b[0;34m==\u001b[0m\u001b[0;36m3\u001b[0m\u001b[0;34m\u001b[0m\u001b[0;34m\u001b[0m\u001b[0m\n\u001b[0m",
            "\u001b[0;31mAssertionError\u001b[0m: "
          ]
        }
      ]
    },
    {
      "cell_type": "markdown",
      "source": [
        "### Unittest"
      ],
      "metadata": {
        "id": "jFydhaY6mMyv"
      }
    },
    {
      "cell_type": "code",
      "source": [
        "import unittest"
      ],
      "metadata": {
        "id": "T9ApCcDRma0n"
      },
      "execution_count": 121,
      "outputs": []
    },
    {
      "cell_type": "code",
      "source": [
        "class TestNotebook(unittest.TestCase):\n",
        "  def test_1(self):\n",
        "    self.assertEqual(1, 1)\n",
        "\n",
        "  def test_2(self):\n",
        "    self.assertEqual(1, 2)"
      ],
      "metadata": {
        "id": "IVNc1ildmcQK"
      },
      "execution_count": 122,
      "outputs": []
    },
    {
      "cell_type": "code",
      "source": [
        "unittest.main(argv=[''], verbosity=2, exit=False)"
      ],
      "metadata": {
        "id": "7LMOwl0XmhPb",
        "colab": {
          "base_uri": "https://localhost:8080/"
        },
        "outputId": "0aeae603-a5e1-487c-b6ec-c5517bd0e9b7"
      },
      "execution_count": 123,
      "outputs": [
        {
          "output_type": "stream",
          "name": "stderr",
          "text": [
            "test_1 (__main__.TestNotebook) ... ok\n",
            "test_2 (__main__.TestNotebook) ... FAIL\n",
            "\n",
            "======================================================================\n",
            "FAIL: test_2 (__main__.TestNotebook)\n",
            "----------------------------------------------------------------------\n",
            "Traceback (most recent call last):\n",
            "  File \"<ipython-input-122-ed99c08fba2a>\", line 6, in test_2\n",
            "    self.assertEqual(1, 2)\n",
            "AssertionError: 1 != 2\n",
            "\n",
            "----------------------------------------------------------------------\n",
            "Ran 2 tests in 0.010s\n",
            "\n",
            "FAILED (failures=1)\n"
          ]
        },
        {
          "output_type": "execute_result",
          "data": {
            "text/plain": [
              "<unittest.main.TestProgram at 0x7baae1e64ac0>"
            ]
          },
          "metadata": {},
          "execution_count": 123
        }
      ]
    },
    {
      "cell_type": "code",
      "source": [
        "class TestNotebook(unittest.TestCase):\n",
        "  def test_eq(self):\n",
        "    self.assertEqual(1, 1) # ==\n",
        "\n",
        "  def test_not_eq(self):\n",
        "    self.assertNotEqual(1, 2) # !=\n",
        "\n",
        "  def test_true(self):\n",
        "    a = True\n",
        "    self.assertTrue(a) # == True\n",
        "\n",
        "  def test_false(self):\n",
        "    a = False\n",
        "    self.assertFalse(a) # == False\n",
        "\n",
        "  def test_is(self):\n",
        "    a = 123\n",
        "    b = 123\n",
        "    self.assertIs(a, b) # is\n",
        "\n",
        "  def test_is_not(self):\n",
        "    a = {}\n",
        "    b = {}\n",
        "    self.assertIsNot(a, b) # is not\n",
        "\n",
        "  def test_is_none(self):\n",
        "    a = None\n",
        "    self.assertIsNone(a)  # is None\n",
        "\n",
        "  def test_is_not_none(self):\n",
        "    a = \"None\"\n",
        "    self.assertIsNotNone(a)\n",
        "\n",
        "  def test_in(self):\n",
        "    a = 1\n",
        "    b = [1,2]\n",
        "    self.assertIn(a, b)\n",
        "\n",
        "  def test_not_in(self):\n",
        "    a = 3\n",
        "    b = [1,2]\n",
        "    self.assertNotIn(a, b)\n",
        "\n",
        "  def test_is_instance(self):\n",
        "    a = \"\"\n",
        "    self.assertIsInstance(a, str)\n",
        "\n",
        "  def test_not_is_instance(self):\n",
        "    a = 1\n",
        "    self.assertNotIsInstance(a, str)"
      ],
      "metadata": {
        "id": "JHMQS8vamhhJ"
      },
      "execution_count": 124,
      "outputs": []
    },
    {
      "cell_type": "code",
      "source": [
        "unittest.main(argv=[''], verbosity=2, exit=False)"
      ],
      "metadata": {
        "id": "zZyQaevRmo9X",
        "colab": {
          "base_uri": "https://localhost:8080/"
        },
        "outputId": "a26627f1-dac1-4a6f-ab06-6e4c92899298"
      },
      "execution_count": 125,
      "outputs": [
        {
          "output_type": "stream",
          "name": "stderr",
          "text": [
            "test_eq (__main__.TestNotebook) ... ok\n",
            "test_false (__main__.TestNotebook) ... ok\n",
            "test_in (__main__.TestNotebook) ... ok\n",
            "test_is (__main__.TestNotebook) ... ok\n",
            "test_is_instance (__main__.TestNotebook) ... ok\n",
            "test_is_none (__main__.TestNotebook) ... ok\n",
            "test_is_not (__main__.TestNotebook) ... ok\n",
            "test_is_not_none (__main__.TestNotebook) ... ok\n",
            "test_not_eq (__main__.TestNotebook) ... ok\n",
            "test_not_in (__main__.TestNotebook) ... ok\n",
            "test_not_is_instance (__main__.TestNotebook) ... ok\n",
            "test_true (__main__.TestNotebook) ... ok\n",
            "\n",
            "----------------------------------------------------------------------\n",
            "Ran 12 tests in 0.032s\n",
            "\n",
            "OK\n"
          ]
        },
        {
          "output_type": "execute_result",
          "data": {
            "text/plain": [
              "<unittest.main.TestProgram at 0x7baae1dd9420>"
            ]
          },
          "metadata": {},
          "execution_count": 125
        }
      ]
    },
    {
      "cell_type": "code",
      "source": [
        "class TestNotebook(unittest.TestCase):\n",
        "  def setUp(self):\n",
        "    print(\"setting up\")\n",
        "\n",
        "  def test_1(self):\n",
        "    self.assertEqual(1, 1)\n",
        "\n",
        "  def test_2(self):\n",
        "    self.assertEqual(1, 2)\n",
        "\n",
        "  def tearDown(self):\n",
        "    print(\"tearing down\")"
      ],
      "metadata": {
        "id": "LCwza0k-mwSk"
      },
      "execution_count": 126,
      "outputs": []
    },
    {
      "cell_type": "code",
      "source": [
        "unittest.main(argv=[''], verbosity=2, exit=False)"
      ],
      "metadata": {
        "id": "R9bFWdghmxoA",
        "colab": {
          "base_uri": "https://localhost:8080/"
        },
        "outputId": "7e6b6e35-1a90-42a0-92e8-55f5e33f9179"
      },
      "execution_count": 127,
      "outputs": [
        {
          "output_type": "stream",
          "name": "stderr",
          "text": [
            "test_1 (__main__.TestNotebook) ... ok\n",
            "test_2 (__main__.TestNotebook) ... FAIL\n",
            "\n",
            "======================================================================\n",
            "FAIL: test_2 (__main__.TestNotebook)\n",
            "----------------------------------------------------------------------\n",
            "Traceback (most recent call last):\n",
            "  File \"<ipython-input-126-e32e7f7db806>\", line 9, in test_2\n",
            "    self.assertEqual(1, 2)\n",
            "AssertionError: 1 != 2\n",
            "\n",
            "----------------------------------------------------------------------\n",
            "Ran 2 tests in 0.015s\n",
            "\n",
            "FAILED (failures=1)\n"
          ]
        },
        {
          "output_type": "stream",
          "name": "stdout",
          "text": [
            "setting up\n",
            "tearing down\n",
            "setting up\n",
            "tearing down\n"
          ]
        },
        {
          "output_type": "execute_result",
          "data": {
            "text/plain": [
              "<unittest.main.TestProgram at 0x7baae1dd8670>"
            ]
          },
          "metadata": {},
          "execution_count": 127
        }
      ]
    },
    {
      "cell_type": "code",
      "source": [
        "import sys\n",
        "sys.platform"
      ],
      "metadata": {
        "id": "USBfHsQkm1W4",
        "colab": {
          "base_uri": "https://localhost:8080/",
          "height": 35
        },
        "outputId": "af50ebfb-2343-44ab-b5f8-15d5fa808919"
      },
      "execution_count": 129,
      "outputs": [
        {
          "output_type": "execute_result",
          "data": {
            "text/plain": [
              "'linux'"
            ],
            "application/vnd.google.colaboratory.intrinsic+json": {
              "type": "string"
            }
          },
          "metadata": {},
          "execution_count": 129
        }
      ]
    },
    {
      "cell_type": "code",
      "source": [
        "class TestNotebook(unittest.TestCase):\n",
        "  @unittest.skip(\"skip\")\n",
        "  def test_skip(self):\n",
        "      self.assertEqual(1, 1)\n",
        "\n",
        "  @unittest.skipIf(not sys.platform.startswith(\"win\"), \"requires Windows\")\n",
        "  def test_skip_not_win(self):\n",
        "      self.assertEqual(1, 1)\n",
        "\n",
        "  def test_not_skip(self):\n",
        "    self.assertEqual(1, 1)"
      ],
      "metadata": {
        "id": "Zl471ltCm1mT"
      },
      "execution_count": 130,
      "outputs": []
    },
    {
      "cell_type": "code",
      "source": [
        "unittest.main(argv=[''], verbosity=2, exit=False)"
      ],
      "metadata": {
        "id": "wN6ldThHm3Op",
        "colab": {
          "base_uri": "https://localhost:8080/"
        },
        "outputId": "3d59273d-1c9e-4d24-d275-5e3365d00303"
      },
      "execution_count": 131,
      "outputs": [
        {
          "output_type": "stream",
          "name": "stderr",
          "text": [
            "test_not_skip (__main__.TestNotebook) ... ok\n",
            "test_skip (__main__.TestNotebook) ... skipped 'skip'\n",
            "test_skip_not_win (__main__.TestNotebook) ... skipped 'requires Windows'\n",
            "\n",
            "----------------------------------------------------------------------\n",
            "Ran 3 tests in 0.018s\n",
            "\n",
            "OK (skipped=2)\n"
          ]
        },
        {
          "output_type": "execute_result",
          "data": {
            "text/plain": [
              "<unittest.main.TestProgram at 0x7baae1dd8ac0>"
            ]
          },
          "metadata": {},
          "execution_count": 131
        }
      ]
    },
    {
      "cell_type": "markdown",
      "source": [
        "### Selenium"
      ],
      "metadata": {
        "id": "s2nfH656mQvv"
      }
    },
    {
      "cell_type": "code",
      "source": [
        "!pip install selenium\n",
        "!apt-get update # to update ubuntu to correctly run apt install\n",
        "!apt install chromium-chromedriver\n",
        "!cp /usr/lib/chromium-browser/chromedriver /usr/bin"
      ],
      "metadata": {
        "id": "kLhhho7Kmyqt"
      },
      "execution_count": null,
      "outputs": []
    },
    {
      "cell_type": "code",
      "source": [
        "!wget https://edgedl.me.gvt1.com/edgedl/chrome/chrome-for-testing/130.0.6723.58/linux64/chromedriver-linux64.zip"
      ],
      "metadata": {
        "id": "UI0wOnu8m7Jc"
      },
      "execution_count": null,
      "outputs": []
    },
    {
      "cell_type": "code",
      "source": [
        "!unzip chromedriver-linux64.zip"
      ],
      "metadata": {
        "id": "lDUoPNTXm8lp"
      },
      "execution_count": null,
      "outputs": []
    },
    {
      "cell_type": "code",
      "source": [
        "!mv chromedriver-linux64/chromedriver /usr/bin"
      ],
      "metadata": {
        "id": "SmGNU8NGm9__"
      },
      "execution_count": 134,
      "outputs": []
    },
    {
      "cell_type": "code",
      "source": [
        "import sys\n",
        "from selenium import webdriver\n",
        "from selenium.webdriver.common.keys import Keys\n",
        "from selenium.webdriver.common.by import By\n",
        "from selenium.webdriver.chrome.service import Service"
      ],
      "metadata": {
        "id": "zxny9v8HnGtC"
      },
      "execution_count": 135,
      "outputs": []
    },
    {
      "cell_type": "code",
      "source": [
        "chrome_options = webdriver.ChromeOptions()\n",
        "chrome_options.add_argument('--headless') # ensure GUI is off\n",
        "chrome_options.add_argument('--no-sandbox')\n",
        "chrome_options.add_argument('--disable-dev-shm-usage')"
      ],
      "metadata": {
        "id": "6YTYF81wnILa"
      },
      "execution_count": 136,
      "outputs": []
    },
    {
      "cell_type": "code",
      "source": [
        "wd = webdriver.Chrome(options=chrome_options)"
      ],
      "metadata": {
        "id": "XVigAY4-nLsT"
      },
      "execution_count": 137,
      "outputs": []
    },
    {
      "cell_type": "code",
      "source": [
        "wd.get(\"http://www.python.org\")\n",
        "assert \"Python\" in wd.title\n",
        "elem = wd.find_element(By.NAME, \"q\")\n",
        "elem.clear()\n",
        "elem.send_keys(\"pycon\")\n",
        "elem.send_keys(Keys.RETURN)\n",
        "assert \"No results found.\" not in wd.page_source\n",
        "wd.quit()"
      ],
      "metadata": {
        "id": "3CSPfVwinMDz"
      },
      "execution_count": 138,
      "outputs": []
    },
    {
      "cell_type": "code",
      "source": [
        "class TestNotebook(unittest.TestCase):\n",
        "  def setUp(self):\n",
        "    chrome_options = webdriver.ChromeOptions()\n",
        "    chrome_options.add_argument('--headless')\n",
        "    chrome_options.add_argument('--no-sandbox')\n",
        "    chrome_options.add_argument('--disable-dev-shm-usage')\n",
        "    self.wd = webdriver.Chrome(options=chrome_options)\n",
        "\n",
        "  def test_get_python(self):\n",
        "    self.wd.get('http://www.python.org')\n",
        "    self.assertIn(\"Python\", self.wd.title)\n",
        "\n",
        "    button = self.wd.find_element(By.CLASS_NAME, \"donate-button\")\n",
        "    self.assertIsNotNone(button)\n",
        "\n",
        "    button.click()\n",
        "\n",
        "    print(self.wd.current_url)\n",
        "    self.assertEqual(self.wd.current_url, \"https://psfmember.org/civicrm/contribute/transact/?reset=1&id=2\")\n",
        "\n",
        "  def tearDown(self):\n",
        "    self.wd.quit()"
      ],
      "metadata": {
        "id": "W2HwfzHpnPnd"
      },
      "execution_count": 139,
      "outputs": []
    },
    {
      "cell_type": "code",
      "source": [
        "unittest.main(argv=[''], verbosity=2, exit=False)"
      ],
      "metadata": {
        "id": "t4-8n7sJnUFw",
        "colab": {
          "base_uri": "https://localhost:8080/"
        },
        "outputId": "7eaf56b4-b9cf-4f08-8847-be9810555239"
      },
      "execution_count": 140,
      "outputs": [
        {
          "output_type": "stream",
          "name": "stderr",
          "text": [
            "test_get_python (__main__.TestNotebook) ... ok\n",
            "\n",
            "----------------------------------------------------------------------\n",
            "Ran 1 test in 4.774s\n",
            "\n",
            "OK\n"
          ]
        },
        {
          "output_type": "stream",
          "name": "stdout",
          "text": [
            "https://psfmember.org/civicrm/contribute/transact/?reset=1&id=2\n"
          ]
        },
        {
          "output_type": "execute_result",
          "data": {
            "text/plain": [
              "<unittest.main.TestProgram at 0x7baae20d88b0>"
            ]
          },
          "metadata": {},
          "execution_count": 140
        }
      ]
    },
    {
      "cell_type": "markdown",
      "metadata": {
        "id": "gXgchJ3OTVgs"
      },
      "source": [
        "# Некоторые из частых ошибок"
      ]
    },
    {
      "cell_type": "markdown",
      "metadata": {
        "id": "gzZd_7qUTZza"
      },
      "source": [
        "## Работа с массивом, а не с его копией"
      ]
    },
    {
      "cell_type": "code",
      "metadata": {
        "id": "Vb32nW2WTVCN",
        "colab": {
          "base_uri": "https://localhost:8080/",
          "height": 297
        },
        "outputId": "e74100c8-bc91-4fac-f95c-c1e90eb5aa9d"
      },
      "source": [
        "aa = [1,2,3,4,5]\n",
        "for i in range(0, len(aa)):\n",
        "  print(i, len(aa))\n",
        "  a = aa[i]\n",
        "  if a == 3 or a == 4:\n",
        "    aa.pop(i)\n",
        "print(aa)"
      ],
      "execution_count": 143,
      "outputs": [
        {
          "output_type": "stream",
          "name": "stdout",
          "text": [
            "0 5\n",
            "1 5\n",
            "2 5\n",
            "3 4\n",
            "4 4\n"
          ]
        },
        {
          "output_type": "error",
          "ename": "IndexError",
          "evalue": "list index out of range",
          "traceback": [
            "\u001b[0;31m---------------------------------------------------------------------------\u001b[0m",
            "\u001b[0;31mIndexError\u001b[0m                                Traceback (most recent call last)",
            "\u001b[0;32m<ipython-input-143-7927e1aecc70>\u001b[0m in \u001b[0;36m<cell line: 2>\u001b[0;34m()\u001b[0m\n\u001b[1;32m      2\u001b[0m \u001b[0;32mfor\u001b[0m \u001b[0mi\u001b[0m \u001b[0;32min\u001b[0m \u001b[0mrange\u001b[0m\u001b[0;34m(\u001b[0m\u001b[0;36m0\u001b[0m\u001b[0;34m,\u001b[0m \u001b[0mlen\u001b[0m\u001b[0;34m(\u001b[0m\u001b[0maa\u001b[0m\u001b[0;34m)\u001b[0m\u001b[0;34m)\u001b[0m\u001b[0;34m:\u001b[0m\u001b[0;34m\u001b[0m\u001b[0;34m\u001b[0m\u001b[0m\n\u001b[1;32m      3\u001b[0m   \u001b[0mprint\u001b[0m\u001b[0;34m(\u001b[0m\u001b[0mi\u001b[0m\u001b[0;34m,\u001b[0m \u001b[0mlen\u001b[0m\u001b[0;34m(\u001b[0m\u001b[0maa\u001b[0m\u001b[0;34m)\u001b[0m\u001b[0;34m)\u001b[0m\u001b[0;34m\u001b[0m\u001b[0;34m\u001b[0m\u001b[0m\n\u001b[0;32m----> 4\u001b[0;31m   \u001b[0ma\u001b[0m \u001b[0;34m=\u001b[0m \u001b[0maa\u001b[0m\u001b[0;34m[\u001b[0m\u001b[0mi\u001b[0m\u001b[0;34m]\u001b[0m\u001b[0;34m\u001b[0m\u001b[0;34m\u001b[0m\u001b[0m\n\u001b[0m\u001b[1;32m      5\u001b[0m   \u001b[0;32mif\u001b[0m \u001b[0ma\u001b[0m \u001b[0;34m==\u001b[0m \u001b[0;36m3\u001b[0m \u001b[0;32mor\u001b[0m \u001b[0ma\u001b[0m \u001b[0;34m==\u001b[0m \u001b[0;36m4\u001b[0m\u001b[0;34m:\u001b[0m\u001b[0;34m\u001b[0m\u001b[0;34m\u001b[0m\u001b[0m\n\u001b[1;32m      6\u001b[0m     \u001b[0maa\u001b[0m\u001b[0;34m.\u001b[0m\u001b[0mpop\u001b[0m\u001b[0;34m(\u001b[0m\u001b[0mi\u001b[0m\u001b[0;34m)\u001b[0m\u001b[0;34m\u001b[0m\u001b[0;34m\u001b[0m\u001b[0m\n",
            "\u001b[0;31mIndexError\u001b[0m: list index out of range"
          ]
        }
      ]
    },
    {
      "cell_type": "code",
      "metadata": {
        "id": "bmhLwlasToJk",
        "colab": {
          "base_uri": "https://localhost:8080/"
        },
        "outputId": "1b421780-ada9-4c18-ec49-14f007aeb1d2"
      },
      "source": [
        "aa = [1,2,3,4,5]\n",
        "for a in aa:\n",
        "  if a == 3 or a == 4:\n",
        "    aa.remove(a)\n",
        "print(aa)"
      ],
      "execution_count": 144,
      "outputs": [
        {
          "output_type": "stream",
          "name": "stdout",
          "text": [
            "[1, 2, 4, 5]\n"
          ]
        }
      ]
    },
    {
      "cell_type": "code",
      "metadata": {
        "id": "tmlGBockMbA_",
        "colab": {
          "base_uri": "https://localhost:8080/"
        },
        "outputId": "373dc716-5121-4c0e-e4a5-c326b012fd49"
      },
      "source": [
        "aa = [1,2,3,4,5]\n",
        "for a in aa[:]:\n",
        "  if a == 3 or a == 4:\n",
        "    aa.remove(a)\n",
        "print(aa)"
      ],
      "execution_count": 145,
      "outputs": [
        {
          "output_type": "stream",
          "name": "stdout",
          "text": [
            "[1, 2, 5]\n"
          ]
        }
      ]
    },
    {
      "cell_type": "markdown",
      "source": [
        "## Работа с диктом, а не с его копией"
      ],
      "metadata": {
        "id": "vj6oQcVQqj_4"
      }
    },
    {
      "cell_type": "code",
      "source": [
        "aa = {1: 1, 2: 2, 3: 3, 4: 4, 5: 5}\n",
        "for k, v in aa.items():\n",
        "  del aa[k]\n",
        "print(aa)"
      ],
      "metadata": {
        "id": "6orOUxXVqlOL",
        "colab": {
          "base_uri": "https://localhost:8080/",
          "height": 193
        },
        "outputId": "74ffcc20-bfcd-4e69-f261-07c7aed114f2"
      },
      "execution_count": 146,
      "outputs": [
        {
          "output_type": "error",
          "ename": "RuntimeError",
          "evalue": "dictionary changed size during iteration",
          "traceback": [
            "\u001b[0;31m---------------------------------------------------------------------------\u001b[0m",
            "\u001b[0;31mRuntimeError\u001b[0m                              Traceback (most recent call last)",
            "\u001b[0;32m<ipython-input-146-5668fd0b84f7>\u001b[0m in \u001b[0;36m<cell line: 2>\u001b[0;34m()\u001b[0m\n\u001b[1;32m      1\u001b[0m \u001b[0maa\u001b[0m \u001b[0;34m=\u001b[0m \u001b[0;34m{\u001b[0m\u001b[0;36m1\u001b[0m\u001b[0;34m:\u001b[0m \u001b[0;36m1\u001b[0m\u001b[0;34m,\u001b[0m \u001b[0;36m2\u001b[0m\u001b[0;34m:\u001b[0m \u001b[0;36m2\u001b[0m\u001b[0;34m,\u001b[0m \u001b[0;36m3\u001b[0m\u001b[0;34m:\u001b[0m \u001b[0;36m3\u001b[0m\u001b[0;34m,\u001b[0m \u001b[0;36m4\u001b[0m\u001b[0;34m:\u001b[0m \u001b[0;36m4\u001b[0m\u001b[0;34m,\u001b[0m \u001b[0;36m5\u001b[0m\u001b[0;34m:\u001b[0m \u001b[0;36m5\u001b[0m\u001b[0;34m}\u001b[0m\u001b[0;34m\u001b[0m\u001b[0;34m\u001b[0m\u001b[0m\n\u001b[0;32m----> 2\u001b[0;31m \u001b[0;32mfor\u001b[0m \u001b[0mk\u001b[0m\u001b[0;34m,\u001b[0m \u001b[0mv\u001b[0m \u001b[0;32min\u001b[0m \u001b[0maa\u001b[0m\u001b[0;34m.\u001b[0m\u001b[0mitems\u001b[0m\u001b[0;34m(\u001b[0m\u001b[0;34m)\u001b[0m\u001b[0;34m:\u001b[0m\u001b[0;34m\u001b[0m\u001b[0;34m\u001b[0m\u001b[0m\n\u001b[0m\u001b[1;32m      3\u001b[0m   \u001b[0;32mdel\u001b[0m \u001b[0maa\u001b[0m\u001b[0;34m[\u001b[0m\u001b[0mk\u001b[0m\u001b[0;34m]\u001b[0m\u001b[0;34m\u001b[0m\u001b[0;34m\u001b[0m\u001b[0m\n\u001b[1;32m      4\u001b[0m \u001b[0mprint\u001b[0m\u001b[0;34m(\u001b[0m\u001b[0maa\u001b[0m\u001b[0;34m)\u001b[0m\u001b[0;34m\u001b[0m\u001b[0;34m\u001b[0m\u001b[0m\n",
            "\u001b[0;31mRuntimeError\u001b[0m: dictionary changed size during iteration"
          ]
        }
      ]
    },
    {
      "cell_type": "code",
      "source": [
        "aa = {1: 1, 2: 2, 3: 3, 4: 4, 5: 5}\n",
        "for k in aa.keys():\n",
        "  del aa[k]\n",
        "print(aa)"
      ],
      "metadata": {
        "id": "soOjlSRrrQW6",
        "colab": {
          "base_uri": "https://localhost:8080/",
          "height": 193
        },
        "outputId": "32b9aa4f-4d9a-4bcc-ecb7-133b241ee844"
      },
      "execution_count": 147,
      "outputs": [
        {
          "output_type": "error",
          "ename": "RuntimeError",
          "evalue": "dictionary changed size during iteration",
          "traceback": [
            "\u001b[0;31m---------------------------------------------------------------------------\u001b[0m",
            "\u001b[0;31mRuntimeError\u001b[0m                              Traceback (most recent call last)",
            "\u001b[0;32m<ipython-input-147-57b10e924af3>\u001b[0m in \u001b[0;36m<cell line: 2>\u001b[0;34m()\u001b[0m\n\u001b[1;32m      1\u001b[0m \u001b[0maa\u001b[0m \u001b[0;34m=\u001b[0m \u001b[0;34m{\u001b[0m\u001b[0;36m1\u001b[0m\u001b[0;34m:\u001b[0m \u001b[0;36m1\u001b[0m\u001b[0;34m,\u001b[0m \u001b[0;36m2\u001b[0m\u001b[0;34m:\u001b[0m \u001b[0;36m2\u001b[0m\u001b[0;34m,\u001b[0m \u001b[0;36m3\u001b[0m\u001b[0;34m:\u001b[0m \u001b[0;36m3\u001b[0m\u001b[0;34m,\u001b[0m \u001b[0;36m4\u001b[0m\u001b[0;34m:\u001b[0m \u001b[0;36m4\u001b[0m\u001b[0;34m,\u001b[0m \u001b[0;36m5\u001b[0m\u001b[0;34m:\u001b[0m \u001b[0;36m5\u001b[0m\u001b[0;34m}\u001b[0m\u001b[0;34m\u001b[0m\u001b[0;34m\u001b[0m\u001b[0m\n\u001b[0;32m----> 2\u001b[0;31m \u001b[0;32mfor\u001b[0m \u001b[0mk\u001b[0m \u001b[0;32min\u001b[0m \u001b[0maa\u001b[0m\u001b[0;34m.\u001b[0m\u001b[0mkeys\u001b[0m\u001b[0;34m(\u001b[0m\u001b[0;34m)\u001b[0m\u001b[0;34m:\u001b[0m\u001b[0;34m\u001b[0m\u001b[0;34m\u001b[0m\u001b[0m\n\u001b[0m\u001b[1;32m      3\u001b[0m   \u001b[0;32mdel\u001b[0m \u001b[0maa\u001b[0m\u001b[0;34m[\u001b[0m\u001b[0mk\u001b[0m\u001b[0;34m]\u001b[0m\u001b[0;34m\u001b[0m\u001b[0;34m\u001b[0m\u001b[0m\n\u001b[1;32m      4\u001b[0m \u001b[0mprint\u001b[0m\u001b[0;34m(\u001b[0m\u001b[0maa\u001b[0m\u001b[0;34m)\u001b[0m\u001b[0;34m\u001b[0m\u001b[0;34m\u001b[0m\u001b[0m\n",
            "\u001b[0;31mRuntimeError\u001b[0m: dictionary changed size during iteration"
          ]
        }
      ]
    },
    {
      "cell_type": "code",
      "source": [
        "aa = {1: 1, 2: 2, 3: 3, 4: 4, 5: 5}\n",
        "for k in aa.copy():\n",
        "  del aa[k]\n",
        "print(aa)"
      ],
      "metadata": {
        "colab": {
          "base_uri": "https://localhost:8080/"
        },
        "id": "uoewIJqarl5l",
        "outputId": "31c7bde1-f9b1-4667-aed5-05f8ceedc566"
      },
      "execution_count": 148,
      "outputs": [
        {
          "output_type": "stream",
          "name": "stdout",
          "text": [
            "{}\n"
          ]
        }
      ]
    },
    {
      "cell_type": "markdown",
      "metadata": {
        "id": "PPd3HcD7UFrB"
      },
      "source": [
        "##Значение по умолчанию, являющееся изменяемым объектом"
      ]
    },
    {
      "cell_type": "code",
      "source": [
        "def test(a=10):\n",
        "  return a\n",
        "\n",
        "print(test())\n",
        "print(test(1))"
      ],
      "metadata": {
        "colab": {
          "base_uri": "https://localhost:8080/"
        },
        "id": "H9thJM12MhN9",
        "outputId": "27960579-7418-433c-b043-f7de8f674695"
      },
      "execution_count": 46,
      "outputs": [
        {
          "output_type": "stream",
          "name": "stdout",
          "text": [
            "10\n",
            "1\n"
          ]
        }
      ]
    },
    {
      "cell_type": "code",
      "metadata": {
        "id": "ZvYlOpF-UDtS",
        "colab": {
          "base_uri": "https://localhost:8080/"
        },
        "outputId": "740659ae-5732-4ed7-f364-2e59caa45d15"
      },
      "source": [
        "def test_list(a=[]):\n",
        "  a.append(\"a\")\n",
        "  return a\n",
        "\n",
        "print(test_list())"
      ],
      "execution_count": 47,
      "outputs": [
        {
          "output_type": "stream",
          "name": "stdout",
          "text": [
            "['a']\n"
          ]
        }
      ]
    },
    {
      "cell_type": "code",
      "source": [
        "print(test_list())"
      ],
      "metadata": {
        "colab": {
          "base_uri": "https://localhost:8080/"
        },
        "id": "Vo0ekAh9MyJA",
        "outputId": "b3149b9e-a227-438b-aa1b-5dacad172e78"
      },
      "execution_count": 48,
      "outputs": [
        {
          "output_type": "stream",
          "name": "stdout",
          "text": [
            "['a', 'a']\n"
          ]
        }
      ]
    },
    {
      "cell_type": "code",
      "metadata": {
        "id": "XJyGKm5xUUMU",
        "colab": {
          "base_uri": "https://localhost:8080/"
        },
        "outputId": "c5fc8d3a-8e86-4a89-c739-c0a51f82ac65"
      },
      "source": [
        "def test_dict(key, a={}):\n",
        "  a[key] = 0\n",
        "  return a\n",
        "\n",
        "print(test_dict(\"a\"))\n",
        "print(test_dict(\"b\"))"
      ],
      "execution_count": 49,
      "outputs": [
        {
          "output_type": "stream",
          "name": "stdout",
          "text": [
            "{'a': 0}\n",
            "{'a': 0, 'b': 0}\n"
          ]
        }
      ]
    },
    {
      "cell_type": "markdown",
      "metadata": {
        "id": "AVAppWZwU0-m"
      },
      "source": [
        "## Поля класса"
      ]
    },
    {
      "cell_type": "code",
      "metadata": {
        "id": "ZlcKyidbUnOv"
      },
      "source": [
        "class A():\n",
        "  val = 1\n",
        "\n",
        "class B(A):\n",
        "  pass\n",
        "\n",
        "class C(A):\n",
        "  pass\n",
        "\n",
        "a = A()\n",
        "b = B()\n",
        "c = C()"
      ],
      "execution_count": null,
      "outputs": []
    },
    {
      "cell_type": "code",
      "metadata": {
        "id": "rw48-vuJVE80"
      },
      "source": [
        "print(a.val, b.val, c.val)\n",
        "print(a.__dict__, b.__dict__, c.__dict__)"
      ],
      "execution_count": null,
      "outputs": []
    },
    {
      "cell_type": "markdown",
      "metadata": {
        "id": "9xY5Xz7NONts"
      },
      "source": [
        "При изменении __val__ у экземпляра __b__ на самом деле мы добавляем ему такое поле  (раньше он искал его у __super()__'а"
      ]
    },
    {
      "cell_type": "code",
      "metadata": {
        "id": "JJWokNtWOfEA"
      },
      "source": [
        "b.val = 2\n",
        "print(a.val, b.val, c.val)\n",
        "print(a.__dict__, b.__dict__, c.__dict__)"
      ],
      "execution_count": null,
      "outputs": []
    },
    {
      "cell_type": "markdown",
      "metadata": {
        "id": "y2euyVxXOy19"
      },
      "source": [
        "Даже если мы у экземлпяра класса родителя изменим __val__, это ни на кого не повлияет"
      ]
    },
    {
      "cell_type": "code",
      "metadata": {
        "id": "hHoz2MSAOjuS"
      },
      "source": [
        "a.val = 10\n",
        "print(a.val, b.val, c.val)\n",
        "print(a.__dict__, b.__dict__, c.__dict__)"
      ],
      "execution_count": null,
      "outputs": []
    },
    {
      "cell_type": "markdown",
      "metadata": {
        "id": "Yh2HswDsO8Z7"
      },
      "source": [
        "Изменение же значения поля всего класса повлечет изменение значения у __c__, потому что __c.val__ на самом деле ссылается на __A.val__"
      ]
    },
    {
      "cell_type": "code",
      "metadata": {
        "id": "XVLVz7OMOkuo"
      },
      "source": [
        "A.val=9\n",
        "print(a.val, b.val, c.val)\n",
        "print(a.__dict__, b.__dict__, c.__dict__)"
      ],
      "execution_count": null,
      "outputs": []
    },
    {
      "cell_type": "code",
      "source": [],
      "metadata": {
        "id": "LN6MOJubeAlE"
      },
      "execution_count": null,
      "outputs": []
    }
  ]
}