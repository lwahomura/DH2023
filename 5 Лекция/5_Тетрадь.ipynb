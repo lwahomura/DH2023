{
  "nbformat": 4,
  "nbformat_minor": 0,
  "metadata": {
    "colab": {
      "provenance": []
    },
    "kernelspec": {
      "name": "python3",
      "display_name": "Python 3"
    },
    "language_info": {
      "name": "python"
    }
  },
  "cells": [
    {
      "cell_type": "markdown",
      "source": [
        "# Структуры и алгоритмы"
      ],
      "metadata": {
        "id": "hHMNvgukzlj1"
      }
    },
    {
      "cell_type": "markdown",
      "source": [
        "Структуры - объекты, хранящие в себе однотипные данные. Рассмотрим некоторые из них."
      ],
      "metadata": {
        "id": "diVXA05j0Jtz"
      }
    },
    {
      "cell_type": "markdown",
      "source": [
        "## Оценка"
      ],
      "metadata": {
        "id": "u3Yx2ziI-iXl"
      }
    },
    {
      "cell_type": "markdown",
      "source": [
        "Обычно алгоритмы оценивают по:\n",
        "- памяти\n",
        "- времени"
      ],
      "metadata": {
        "id": "koJwC21z-koV"
      }
    },
    {
      "cell_type": "markdown",
      "source": [
        "Оценка по памяти заключается в ответе на вопрос, сколько нужно будет выделить памяти для решения задачи (n -> inf)"
      ],
      "metadata": {
        "id": "Wp-Nl245-teo"
      }
    },
    {
      "cell_type": "code",
      "source": [
        "def bad_clear(data):\n",
        "  new_data = []\n",
        "  for item in data:\n",
        "    if item % 2 == 0:\n",
        "      new_data.append(item)\n",
        "\n",
        "  return new_data"
      ],
      "metadata": {
        "id": "bs8uO28O-__x"
      },
      "execution_count": 11,
      "outputs": []
    },
    {
      "cell_type": "code",
      "source": [
        "bad_clear([1,4,5,2,3,1,7,8])"
      ],
      "metadata": {
        "colab": {
          "base_uri": "https://localhost:8080/"
        },
        "id": "xmQ4rHuuhTV-",
        "outputId": "0fcf4335-c7bb-4c2d-b381-17220ebf8e6a"
      },
      "execution_count": 12,
      "outputs": [
        {
          "output_type": "execute_result",
          "data": {
            "text/plain": [
              "[4, 2, 8]"
            ]
          },
          "metadata": {},
          "execution_count": 12
        }
      ]
    },
    {
      "cell_type": "code",
      "source": [
        "# [1 3 4 2]\n",
        "# [2 3 4 1] (swapped 1 and 2)\n",
        "# [2 4 3 1] (swapped 3 and 4)\n",
        "# [2 4]\n",
        "\n",
        "# [2 1 4]\n",
        "# [2 4 1] (swapped 1 and 4)\n",
        "\n",
        "# [1 2 3]\n",
        "# [3 2 1] (swapped 1 and 3)\n",
        "# [2 3 1] (swapped 3 and 2)"
      ],
      "metadata": {
        "id": "majNYpcRhuRZ"
      },
      "execution_count": null,
      "outputs": []
    },
    {
      "cell_type": "code",
      "source": [
        "def sort_func(data):\n",
        "  # if len(data) == 0:\n",
        "  #   return data\n",
        "\n",
        "  # if len(data) == 1:\n",
        "  #   return data\n",
        "\n",
        "  for item in data:\n",
        "    pass\n",
        "\n",
        "  return data"
      ],
      "metadata": {
        "id": "meZ3t0zpm8ZB"
      },
      "execution_count": null,
      "outputs": []
    },
    {
      "cell_type": "code",
      "source": [
        "def good_clear(data):\n",
        "  i = 0\n",
        "  end = len(data)\n",
        "\n",
        "  while i < end:\n",
        "    if data[i] % 2 == 0:\n",
        "      i += 1\n",
        "    else:\n",
        "      data[i], data[end-1] = data[end-1], data[i]\n",
        "      end -= 1\n",
        "\n",
        "  return data[:end]"
      ],
      "metadata": {
        "id": "HZiVHYq3dVSS"
      },
      "execution_count": 13,
      "outputs": []
    },
    {
      "cell_type": "code",
      "source": [
        "data_1 = [2,4,6,8,10,12]\n",
        "print(bad_clear(data_1))\n",
        "print(good_clear(data_1))"
      ],
      "metadata": {
        "id": "cwleOaKXBy5_",
        "colab": {
          "base_uri": "https://localhost:8080/"
        },
        "outputId": "4d99b6af-525d-4945-ab42-c03396ee432e"
      },
      "execution_count": 14,
      "outputs": [
        {
          "output_type": "stream",
          "name": "stdout",
          "text": [
            "[2, 4, 6, 8, 10, 12]\n",
            "[2, 4, 6, 8, 10, 12]\n"
          ]
        }
      ]
    },
    {
      "cell_type": "code",
      "source": [
        "data_2 = [1,5,2,4,9,10,2,8,1]\n",
        "print(bad_clear(data_2))\n",
        "print(good_clear(data_2))"
      ],
      "metadata": {
        "id": "s2ey8yQlCZSf",
        "colab": {
          "base_uri": "https://localhost:8080/"
        },
        "outputId": "33978eeb-4524-4955-b4eb-0e95ad4f860f"
      },
      "execution_count": 16,
      "outputs": [
        {
          "output_type": "stream",
          "name": "stdout",
          "text": [
            "[2, 4, 10, 2, 8]\n",
            "[8, 2, 2, 4, 10]\n"
          ]
        }
      ]
    },
    {
      "cell_type": "code",
      "source": [
        "data_3 = [1,5,7,11,5,7,21]\n",
        "print(bad_clear(data_3))\n",
        "print(good_clear(data_3))"
      ],
      "metadata": {
        "id": "BvYhdC8hCrXE",
        "colab": {
          "base_uri": "https://localhost:8080/"
        },
        "outputId": "79db795b-6e13-45a6-a8ab-76cf485e852d"
      },
      "execution_count": 15,
      "outputs": [
        {
          "output_type": "stream",
          "name": "stdout",
          "text": [
            "[]\n",
            "[]\n"
          ]
        }
      ]
    },
    {
      "cell_type": "markdown",
      "source": [
        "Оценка по времени заключается в ответе на вопрос, сколько времени займет решение проблемы (n -> inf)"
      ],
      "metadata": {
        "id": "hDmfvscZ-1Xd"
      }
    },
    {
      "cell_type": "code",
      "source": [
        "def bubble_sort(data):\n",
        "  for i in range(len(data)):\n",
        "    for j in range(len(data)-i-1):\n",
        "      if data[j] > data[j+1]:\n",
        "        data[j], data[j+1] = data[j+1], data[j]"
      ],
      "metadata": {
        "id": "XzIYKqqN-h1P"
      },
      "execution_count": 18,
      "outputs": []
    },
    {
      "cell_type": "code",
      "source": [
        "# [5 3 1 6]\n",
        "# [3 5 1 6]\n",
        "# [3 1 5 6]\n",
        "# [3 1 5 6]\n",
        "# [1 3 5 6]\n",
        "# [1 3 5 6]\n",
        "# [1 3 5 6]\n",
        "\n",
        "# [5 4 3 2]\n",
        "# [4 5 3 2]\n",
        "# [4 3 5 2]\n",
        "# [4 3 2 5]\n",
        "# [3 4 2 5]\n",
        "# [3 2 4 5]\n",
        "# [2 3 4 5]"
      ],
      "metadata": {
        "id": "rKbc_Fhcjwzu"
      },
      "execution_count": null,
      "outputs": []
    },
    {
      "cell_type": "code",
      "source": [
        "data = [1,3,67,21,3,45,1]\n",
        "bubble_sort(data)\n",
        "print(data)"
      ],
      "metadata": {
        "id": "XAvMYC0w_w7T",
        "colab": {
          "base_uri": "https://localhost:8080/"
        },
        "outputId": "14799f11-b3e6-4e62-fbfd-85f0767a1cf8"
      },
      "execution_count": 19,
      "outputs": [
        {
          "output_type": "stream",
          "name": "stdout",
          "text": [
            "[1, 1, 3, 3, 21, 45, 67]\n"
          ]
        }
      ]
    },
    {
      "cell_type": "code",
      "source": [
        "def radix_sort(data):\n",
        "  colours = {\"red\": 0, \"orange\": 0, \"yellow\": 0, \"green\": 0, \"light-blue\": 0, \"blue\": 0, \"purple\": 0}\n",
        "\n",
        "  for item in data:\n",
        "    colours[item] += 1\n",
        "\n",
        "  res = []\n",
        "  for k, v in colours.items():\n",
        "    for i in range(v):\n",
        "      res.append(k)\n",
        "\n",
        "  return res"
      ],
      "metadata": {
        "id": "gpnAK8Bhea6O"
      },
      "execution_count": 20,
      "outputs": []
    },
    {
      "cell_type": "code",
      "source": [
        "data = [\"red\", \"blue\", \"blue\", \"yellow\", \"green\"]\n",
        "print(radix_sort(data))"
      ],
      "metadata": {
        "colab": {
          "base_uri": "https://localhost:8080/"
        },
        "id": "iZ12kh0vfDpZ",
        "outputId": "53735c93-62f5-4466-b1c2-b512a7c93e16"
      },
      "execution_count": 21,
      "outputs": [
        {
          "output_type": "stream",
          "name": "stdout",
          "text": [
            "['red', 'yellow', 'green', 'blue', 'blue']\n"
          ]
        }
      ]
    },
    {
      "cell_type": "markdown",
      "source": [
        "https://www.youtube.com/watch?v=BeoCbJPuvSE"
      ],
      "metadata": {
        "id": "RT8reOWc9nNU"
      }
    },
    {
      "cell_type": "markdown",
      "source": [
        "https://leetcode.com/problemset/all/?sorting=W3sic29ydE9yZGVyIjoiQVNDRU5ESU5HIiwib3JkZXJCeSI6IkRJRkZJQ1VMVFkifV0%3D\n",
        "\n",
        "https://www.codewars.com/"
      ],
      "metadata": {
        "id": "vh0Pxht29taz"
      }
    },
    {
      "cell_type": "markdown",
      "source": [
        "## Стеки (LIFO)"
      ],
      "metadata": {
        "id": "FnHJYPLc3aGO"
      }
    },
    {
      "cell_type": "code",
      "source": [
        "# 1\n",
        "# 1 2\n",
        "# 1 2 3\n",
        "# 1 2 -> 3\n",
        "\n",
        "# last in - first out"
      ],
      "metadata": {
        "id": "8LzhSWGIn38E"
      },
      "execution_count": null,
      "outputs": []
    },
    {
      "cell_type": "code",
      "source": [
        "class Stack():\n",
        "  def __init__(self):\n",
        "    self.values = []\n",
        "\n",
        "  def put(self, value):\n",
        "    self.values.append(value)\n",
        "\n",
        "  def pop(self):\n",
        "    print(self.values[len(self.values)-1])\n",
        "    self.values = self.values[:len(self.values)-1]"
      ],
      "metadata": {
        "id": "xTtw3bRn3qKN"
      },
      "execution_count": 22,
      "outputs": []
    },
    {
      "cell_type": "code",
      "source": [
        "s = Stack()\n",
        "s.put(3)\n",
        "s.put(5)\n",
        "s.put(7)\n",
        "s.pop()\n",
        "s.pop()\n",
        "s.pop()"
      ],
      "metadata": {
        "id": "BqrbNtZj7GOQ",
        "colab": {
          "base_uri": "https://localhost:8080/"
        },
        "outputId": "cfa5f7d0-e00c-44a4-9ef1-89ea553431db"
      },
      "execution_count": 23,
      "outputs": [
        {
          "output_type": "stream",
          "name": "stdout",
          "text": [
            "7\n",
            "5\n",
            "3\n"
          ]
        }
      ]
    },
    {
      "cell_type": "code",
      "source": [
        "# main -> func -> sub_func\n",
        "# main\n",
        "# main func\n",
        "# main func sub_func\n",
        "# main func\n",
        "# main"
      ],
      "metadata": {
        "id": "08R0QLvModUi"
      },
      "execution_count": null,
      "outputs": []
    },
    {
      "cell_type": "markdown",
      "source": [
        "## Очереди (FIFO)"
      ],
      "metadata": {
        "id": "kgO9iyFW3d0X"
      }
    },
    {
      "cell_type": "code",
      "source": [
        "# 1\n",
        "# 1 2\n",
        "# 1 2 3\n",
        "# 2 3 -> 1\n",
        "\n",
        "# first in - first out"
      ],
      "metadata": {
        "id": "kvxhlKmioyT_"
      },
      "execution_count": null,
      "outputs": []
    },
    {
      "cell_type": "code",
      "source": [
        "class Queue():\n",
        "  def __init__(self):\n",
        "    self.values = []\n",
        "\n",
        "  def put(self, value):\n",
        "    self.values.append(value)\n",
        "\n",
        "  def pop(self):\n",
        "    print(self.values[0])\n",
        "    self.values = self.values[1:]"
      ],
      "metadata": {
        "id": "Jn4mkitQ3qnP"
      },
      "execution_count": 24,
      "outputs": []
    },
    {
      "cell_type": "code",
      "source": [
        "q = Queue()\n",
        "q.put(3)\n",
        "q.put(5)\n",
        "q.put(7)\n",
        "q.pop()\n",
        "q.pop()\n",
        "q.pop()"
      ],
      "metadata": {
        "id": "rnJY8QoY7iR2",
        "colab": {
          "base_uri": "https://localhost:8080/"
        },
        "outputId": "a55f168e-12ec-4209-eb03-dfbec0b96aeb"
      },
      "execution_count": 25,
      "outputs": [
        {
          "output_type": "stream",
          "name": "stdout",
          "text": [
            "3\n",
            "5\n",
            "7\n"
          ]
        }
      ]
    },
    {
      "cell_type": "code",
      "source": [
        "# main service (download []data) - 1s\n",
        "# handler service - 5s\n",
        "# queue service (Kafka, RabbitMQ)\n",
        "\n",
        "# main -> queue -> handler\n",
        "# m1\n",
        "#        [m1]\n",
        "# m2     [ ]         m1\n",
        "#        [m2]        m1\n",
        "# m3     [m2]        m1\n",
        "#        [m2, m3]    m1\n",
        "# m4     [m2, m3]    m1\n",
        "#        [m3, m4]    m2"
      ],
      "metadata": {
        "id": "xQx2-nFopJqD"
      },
      "execution_count": 28,
      "outputs": []
    },
    {
      "cell_type": "markdown",
      "source": [
        "## Списки"
      ],
      "metadata": {
        "id": "inawvqla0cU5"
      }
    },
    {
      "cell_type": "code",
      "source": [
        "# elem1 -> elem2 -> elem3\n",
        "\n",
        "# elem1 -> elem2 -> elem3\n",
        "#       <-       <-"
      ],
      "metadata": {
        "id": "mkDW-fXuqWV1"
      },
      "execution_count": null,
      "outputs": []
    },
    {
      "cell_type": "markdown",
      "source": [
        "Списки бывают односвязные (самые простые) и двусвязные."
      ],
      "metadata": {
        "id": "Ve30mcyy0gmo"
      }
    },
    {
      "cell_type": "code",
      "source": [
        "class LinkedList():\n",
        "  def __init__(self, value):\n",
        "    self.value = value\n",
        "    self.next = None\n",
        "\n",
        "  def bind_next(self, other):\n",
        "    self.next = other\n",
        "\n",
        "  def print_all(self):\n",
        "    curr_node = self\n",
        "    vals = []\n",
        "    while curr_node:\n",
        "      vals.append(curr_node.value)\n",
        "      curr_node = curr_node.next\n",
        "    print(vals)\n",
        "\n",
        "  def add_node(self, value, other):\n",
        "    # a -> b -> d\n",
        "    # next = d (next_node = curr_node.next)\n",
        "    # a -> b -> c (curr_node.next = other)\n",
        "    # c.next = d (other.next = next_node)\n",
        "    # a -> b -> c -> d\n",
        "\n",
        "    curr_node = self\n",
        "\n",
        "    while curr_node:\n",
        "      if curr_node.value == value:\n",
        "        next_node = curr_node.next\n",
        "        curr_node.next = other\n",
        "        other.next = next_node\n",
        "        return\n",
        "\n",
        "      curr_node = curr_node.next\n",
        "\n",
        "  def delete_node(self, value):\n",
        "    # a -> b -> d\n",
        "    # parent = a\n",
        "    # next = d\n",
        "    # a\n",
        "    # parent.next = d\n",
        "    # a -> d\n",
        "\n",
        "    curr_node = self\n",
        "\n",
        "    parent = None\n",
        "\n",
        "    while curr_node:\n",
        "      if curr_node.value == value:\n",
        "        if parent:\n",
        "          parent.next = curr_node.next\n",
        "          return self\n",
        "        else:\n",
        "          return self.next\n",
        "\n",
        "      parent = curr_node\n",
        "      curr_node = curr_node.next"
      ],
      "metadata": {
        "id": "FhrWdN8Gzkwb"
      },
      "execution_count": 29,
      "outputs": []
    },
    {
      "cell_type": "code",
      "source": [
        "ll_1 = LinkedList(0)\n",
        "ll_2 = LinkedList(1)\n",
        "ll_3 = LinkedList(2)\n",
        "ll_4 = LinkedList(3)\n",
        "\n",
        "ll_1.bind_next(ll_2)\n",
        "ll_2.bind_next(ll_3)\n",
        "ll_3.bind_next(ll_4)"
      ],
      "metadata": {
        "id": "YNdKHpE0r34I"
      },
      "execution_count": 30,
      "outputs": []
    },
    {
      "cell_type": "code",
      "source": [
        "ll_1.print_all()"
      ],
      "metadata": {
        "colab": {
          "base_uri": "https://localhost:8080/"
        },
        "id": "SK0POon-r6JL",
        "outputId": "4266b24c-8dd6-47c9-dc16-0bb55dd2d5b0"
      },
      "execution_count": 31,
      "outputs": [
        {
          "output_type": "stream",
          "name": "stdout",
          "text": [
            "[0, 1, 2, 3]\n"
          ]
        }
      ]
    },
    {
      "cell_type": "code",
      "source": [
        "ll_3.print_all()"
      ],
      "metadata": {
        "colab": {
          "base_uri": "https://localhost:8080/"
        },
        "id": "UR3MLajHsW91",
        "outputId": "3014919a-e867-4732-a533-8a89f8c49b7b"
      },
      "execution_count": 32,
      "outputs": [
        {
          "output_type": "stream",
          "name": "stdout",
          "text": [
            "[2, 3]\n"
          ]
        }
      ]
    },
    {
      "cell_type": "code",
      "source": [
        "l0 = LinkedList(0)\n",
        "l1 = LinkedList(1)\n",
        "l2 = LinkedList(2)\n",
        "l3 = LinkedList(3)\n",
        "\n",
        "l0.bind_next(l1)\n",
        "l1.bind_next(l2)\n",
        "\n",
        "l0.print_all()"
      ],
      "metadata": {
        "colab": {
          "base_uri": "https://localhost:8080/"
        },
        "id": "SuJjMHIHsf72",
        "outputId": "5c618bda-b60d-4c41-af8e-e899ac4fd907"
      },
      "execution_count": 33,
      "outputs": [
        {
          "output_type": "stream",
          "name": "stdout",
          "text": [
            "[0, 1, 2]\n"
          ]
        }
      ]
    },
    {
      "cell_type": "code",
      "source": [
        "l0.add_node(2, l3)\n",
        "\n",
        "l0.print_all()"
      ],
      "metadata": {
        "colab": {
          "base_uri": "https://localhost:8080/"
        },
        "id": "SAcd4Ahft2SX",
        "outputId": "4295ae3d-affe-4367-e2a9-1c07b20fd97f"
      },
      "execution_count": 34,
      "outputs": [
        {
          "output_type": "stream",
          "name": "stdout",
          "text": [
            "[0, 1, 2, 3]\n"
          ]
        }
      ]
    },
    {
      "cell_type": "code",
      "source": [
        "l0 = LinkedList(0)\n",
        "l1 = LinkedList(1)\n",
        "l2 = LinkedList(2)\n",
        "\n",
        "l0.bind_next(l1)\n",
        "l1.bind_next(l2)\n",
        "\n",
        "l0.print_all()\n",
        "\n",
        "l0.delete_node(1).print_all()"
      ],
      "metadata": {
        "colab": {
          "base_uri": "https://localhost:8080/"
        },
        "id": "VrSekYMuviCr",
        "outputId": "1b41ecac-9476-420a-cf9f-e1c40e177df0"
      },
      "execution_count": 36,
      "outputs": [
        {
          "output_type": "stream",
          "name": "stdout",
          "text": [
            "[0, 1, 2]\n",
            "[0, 2]\n"
          ]
        }
      ]
    },
    {
      "cell_type": "code",
      "source": [
        "class DoubleLinkedList():\n",
        "  def __init__(self, value):\n",
        "    self.value = value\n",
        "    self.next = None\n",
        "    self.prev = None\n",
        "\n",
        "  def bind_next(self, other):\n",
        "    # a b\n",
        "    # a -> b\n",
        "    # b <- a\n",
        "    self.next = other\n",
        "    other.prev = self"
      ],
      "metadata": {
        "id": "AQstX3I-rr4p"
      },
      "execution_count": 37,
      "outputs": []
    },
    {
      "cell_type": "code",
      "source": [
        "dll_1 = DoubleLinkedList(0)\n",
        "dll_2 = DoubleLinkedList(1)\n",
        "dll_3 = DoubleLinkedList(2)\n",
        "\n",
        "dll_1.bind_next(dll_2)\n",
        "dll_2.bind_next(dll_3)\n",
        "\n",
        "print(dll_1.value, dll_1.next.value, dll_1.next.next.value)\n",
        "print(dll_3.value, dll_3.prev.value, dll_3.prev.prev.value)"
      ],
      "metadata": {
        "id": "fPALKf2b12AC",
        "colab": {
          "base_uri": "https://localhost:8080/"
        },
        "outputId": "c8f74f42-6210-464a-f6dd-2bb676f90b0c"
      },
      "execution_count": 38,
      "outputs": [
        {
          "output_type": "stream",
          "name": "stdout",
          "text": [
            "0 1 2\n",
            "2 1 0\n"
          ]
        }
      ]
    },
    {
      "cell_type": "markdown",
      "source": [
        "Какие операции можно провернуть со списками? Можно добавлять элемент, удалять элемент, находить элемент и т.д."
      ],
      "metadata": {
        "id": "5KVwzGh52EQZ"
      }
    },
    {
      "cell_type": "markdown",
      "source": [
        "## Деревья"
      ],
      "metadata": {
        "id": "3qZIXG5J3i1j"
      }
    },
    {
      "cell_type": "code",
      "source": [
        "data = [2, 4, 1, 3, 6]\n",
        "\n",
        "min = data[0]\n",
        "for item in data:\n",
        "  if min > item:\n",
        "    min = item\n",
        "\n",
        "#         2\n",
        "#      1     4\n",
        "#           3  6"
      ],
      "metadata": {
        "id": "cV1-xxboutjM"
      },
      "execution_count": null,
      "outputs": []
    },
    {
      "cell_type": "code",
      "source": [
        "class BinaryTreeNode():\n",
        "  def __init__(self, value):\n",
        "    self.l = None\n",
        "    self.r = None\n",
        "    self.value = value\n",
        "\n",
        "  def print(self):\n",
        "    print(self.value)\n",
        "    if self.l:\n",
        "      print(\"left for\", self.value)\n",
        "      self.l.print()\n",
        "    if self.r:\n",
        "      print(\"right for\", self.value)\n",
        "      self.r.print()\n",
        "\n",
        "class BinaryTree():\n",
        "  def __init__(self):\n",
        "    self.root = None\n",
        "\n",
        "  def add(self, value):\n",
        "    if not self.root:\n",
        "        self.root = BinaryTreeNode(value)\n",
        "        return\n",
        "\n",
        "    def _add(node, value):\n",
        "      if node.value > value:\n",
        "        if node.l:\n",
        "          _add(node.l, value)\n",
        "        else:\n",
        "          node.l = BinaryTreeNode(value)\n",
        "      else:\n",
        "        if node.r:\n",
        "          _add(node.r, value)\n",
        "        else:\n",
        "          node.r = BinaryTreeNode(value)\n",
        "\n",
        "    _add(self.root, value)\n",
        "\n",
        "  def print_all(self):\n",
        "    self.root.print()"
      ],
      "metadata": {
        "id": "txdxh9JU3rTU"
      },
      "execution_count": 40,
      "outputs": []
    },
    {
      "cell_type": "code",
      "source": [
        "t = BinaryTree()\n",
        "t.add(5)\n",
        "t.add(4)\n",
        "t.add(1)\n",
        "t.add(8)\n",
        "t.add(6)\n",
        "t.add(9)"
      ],
      "metadata": {
        "id": "xYLHekL39Z6V"
      },
      "execution_count": 41,
      "outputs": []
    },
    {
      "cell_type": "code",
      "source": [
        "t.print_all()"
      ],
      "metadata": {
        "id": "IiyqMtAK9841",
        "colab": {
          "base_uri": "https://localhost:8080/"
        },
        "outputId": "5842c39d-be90-441e-ac9f-1d2f2cff544a"
      },
      "execution_count": 42,
      "outputs": [
        {
          "output_type": "stream",
          "name": "stdout",
          "text": [
            "5\n",
            "left for 5\n",
            "4\n",
            "left for 4\n",
            "1\n",
            "right for 5\n",
            "8\n",
            "left for 8\n",
            "6\n",
            "right for 8\n",
            "9\n"
          ]
        }
      ]
    },
    {
      "cell_type": "code",
      "source": [
        "#             5\n",
        "#         4      8\n",
        "#      1    6   7  9"
      ],
      "metadata": {
        "id": "pLublFUVwFDw"
      },
      "execution_count": 43,
      "outputs": []
    },
    {
      "cell_type": "code",
      "source": [
        "#            1\n",
        "#              2\n",
        "#               3\n",
        "#                4"
      ],
      "metadata": {
        "id": "RfdRDfGVxDgU"
      },
      "execution_count": 44,
      "outputs": []
    },
    {
      "cell_type": "markdown",
      "source": [
        "![image.png](data:image/png;base64,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) ![image.png](data:image/png;base64,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)"
      ],
      "metadata": {
        "id": "jfa_vM-eyN6F"
      }
    },
    {
      "cell_type": "markdown",
      "source": [
        "# Паттерны"
      ],
      "metadata": {
        "id": "sbKytuOxzfZV"
      }
    },
    {
      "cell_type": "markdown",
      "source": [
        "Паттерн, в общем то, представляет из себя некую конструкцию, которую удобно переиспользовать из раза в раз на разных проектах (так, некоторые паттерны включены изначально в языках)"
      ],
      "metadata": {
        "id": "5K2PNw8WDszR"
      }
    },
    {
      "cell_type": "markdown",
      "source": [
        "https://refactoring.guru/design-patterns/python"
      ],
      "metadata": {
        "id": "3qn6qckzCzKg"
      }
    },
    {
      "cell_type": "markdown",
      "source": [
        "## Синглтон"
      ],
      "metadata": {
        "id": "ms1obbeCD8RO"
      }
    },
    {
      "cell_type": "code",
      "source": [
        "logger = None\n",
        "\n",
        "def new_logger():\n",
        "  path = \"logs.txt\"\n",
        "  f = open(path, \"w\")\n",
        "  return f\n",
        "\n",
        "def create_logger():\n",
        "  if logger:\n",
        "    return logger\n",
        "  logger = new_logger()\n",
        "  return logger"
      ],
      "metadata": {
        "id": "DTkoGOO1zIOn"
      },
      "execution_count": null,
      "outputs": []
    },
    {
      "cell_type": "code",
      "source": [
        "class Logger():\n",
        "  def __new__(cls, *args, **kwargs):\n",
        "    if not hasattr(cls, '_logger'):\n",
        "        cls._logger = super(Logger, cls).__new__(cls, *args, **kwargs)\n",
        "    # Возвращаем созданный (только что или ранее) объект.\n",
        "    return cls._logger\n",
        "\n",
        "  def __init__(self):\n",
        "    pass"
      ],
      "metadata": {
        "id": "a4VnRrQxzgq6"
      },
      "execution_count": 45,
      "outputs": []
    },
    {
      "cell_type": "code",
      "source": [
        "l = Logger()\n",
        "l2 = Logger()\n",
        "print(l is l2)"
      ],
      "metadata": {
        "colab": {
          "base_uri": "https://localhost:8080/"
        },
        "id": "fY-NG5a0Eexa",
        "outputId": "6d8546a2-cd64-41ed-bc10-6f90f3b63b46"
      },
      "execution_count": 46,
      "outputs": [
        {
          "output_type": "stream",
          "name": "stdout",
          "text": [
            "True\n"
          ]
        }
      ]
    },
    {
      "cell_type": "markdown",
      "source": [
        "## Адаптер"
      ],
      "metadata": {
        "id": "iVSiHPOhD_3B"
      }
    },
    {
      "cell_type": "code",
      "source": [
        "class ForeignRunner():\n",
        "  def foreign_run(self):\n",
        "    return \"gninnur\"\n",
        "\n",
        "  def other(self):\n",
        "    print(\"i'm an alien\")\n",
        "\n",
        "class MyRunner():\n",
        "  def run(self):\n",
        "    return \"running\"\n",
        "\n",
        "  def other(self):\n",
        "    print(\"hi!\")\n",
        "\n",
        "class Adapter(MyRunner, ForeignRunner):\n",
        "  def run(self):\n",
        "    return self.foreign_run()[::-1]"
      ],
      "metadata": {
        "id": "jQ_0Zr9JE52B"
      },
      "execution_count": 47,
      "outputs": []
    },
    {
      "cell_type": "code",
      "source": [
        "mr = MyRunner()\n",
        "mr.run()"
      ],
      "metadata": {
        "colab": {
          "base_uri": "https://localhost:8080/",
          "height": 35
        },
        "id": "L_Kki9kKFnod",
        "outputId": "9fcd0284-f2c9-4b32-86c0-42b3ac53af5f"
      },
      "execution_count": 48,
      "outputs": [
        {
          "output_type": "execute_result",
          "data": {
            "text/plain": [
              "'running'"
            ],
            "application/vnd.google.colaboratory.intrinsic+json": {
              "type": "string"
            }
          },
          "metadata": {},
          "execution_count": 48
        }
      ]
    },
    {
      "cell_type": "code",
      "source": [
        "fr = ForeignRunner()\n",
        "fr.foreign_run()"
      ],
      "metadata": {
        "colab": {
          "base_uri": "https://localhost:8080/",
          "height": 35
        },
        "id": "eMKxC3iaFy9k",
        "outputId": "bacc2784-1653-49a1-ae27-2c08b20cf2b8"
      },
      "execution_count": 49,
      "outputs": [
        {
          "output_type": "execute_result",
          "data": {
            "text/plain": [
              "'gninnur'"
            ],
            "application/vnd.google.colaboratory.intrinsic+json": {
              "type": "string"
            }
          },
          "metadata": {},
          "execution_count": 49
        }
      ]
    },
    {
      "cell_type": "code",
      "source": [
        "ar = Adapter()\n",
        "ar.run()"
      ],
      "metadata": {
        "colab": {
          "base_uri": "https://localhost:8080/",
          "height": 35
        },
        "id": "GsWaA-YaF33z",
        "outputId": "2df07c49-19e3-499f-974a-253d11ba1def"
      },
      "execution_count": 50,
      "outputs": [
        {
          "output_type": "execute_result",
          "data": {
            "text/plain": [
              "'running'"
            ],
            "application/vnd.google.colaboratory.intrinsic+json": {
              "type": "string"
            }
          },
          "metadata": {},
          "execution_count": 50
        }
      ]
    },
    {
      "cell_type": "code",
      "source": [
        "Adapter().other()"
      ],
      "metadata": {
        "colab": {
          "base_uri": "https://localhost:8080/"
        },
        "id": "2KNXGQxxEvf-",
        "outputId": "98ea0d1a-fbe2-4708-ec10-27b8ccd491a8"
      },
      "execution_count": 51,
      "outputs": [
        {
          "output_type": "stream",
          "name": "stdout",
          "text": [
            "hi!\n"
          ]
        }
      ]
    },
    {
      "cell_type": "markdown",
      "source": [
        "## Наблюдатель"
      ],
      "metadata": {
        "id": "s6qbkEIYGANC"
      }
    },
    {
      "cell_type": "code",
      "source": [
        "class Child():\n",
        "  def __init__(self, name):\n",
        "    self.name = name\n",
        "    self.state = \"calm\"\n",
        "    self.observers = []\n",
        "\n",
        "  def do_smth_good(self):\n",
        "    print(\"doing smth\")\n",
        "    self.state = \"calm\"\n",
        "    for o in self.observers:\n",
        "      o.check_state()\n",
        "\n",
        "  def do_smth_bad(self):\n",
        "    print(\"doing smth bad\")\n",
        "    self.state = \"not calm\"\n",
        "    for o in self.observers:\n",
        "      o.check_state()\n",
        "\n",
        "class Parent():\n",
        "  def __init__(self):\n",
        "    self.observant = None\n",
        "\n",
        "  def look_at(self, child):\n",
        "    self.observant = child\n",
        "    child.observers.append(self)\n",
        "\n",
        "  def check_state(self):\n",
        "    print(self.observant.state)\n",
        "    if self.observant.state == \"not calm\":\n",
        "      print(self.observant.name.upper())\n",
        "      self.observant.state = \"calm\"\n"
      ],
      "metadata": {
        "id": "N7gqTXq1F8PO"
      },
      "execution_count": 52,
      "outputs": []
    },
    {
      "cell_type": "code",
      "source": [
        "c = Child(\"Alice\")\n",
        "p1 = Parent()\n",
        "p2 = Parent()\n",
        "p1.look_at(c)\n",
        "p2.look_at(c)"
      ],
      "metadata": {
        "id": "Jxks5YYbIEzS"
      },
      "execution_count": 53,
      "outputs": []
    },
    {
      "cell_type": "code",
      "source": [
        "c.do_smth_bad()"
      ],
      "metadata": {
        "colab": {
          "base_uri": "https://localhost:8080/"
        },
        "id": "GkHGD1ouGD3J",
        "outputId": "51ac3600-f45e-48f3-ba9f-9aa8366f6c8c"
      },
      "execution_count": 54,
      "outputs": [
        {
          "output_type": "stream",
          "name": "stdout",
          "text": [
            "doing smth bad\n",
            "not calm\n",
            "ALICE\n",
            "calm\n"
          ]
        }
      ]
    },
    {
      "cell_type": "code",
      "source": [
        "actions = [0,0,0,1,0,1,1,0]\n",
        "for a in actions:\n",
        "  if a == 0:\n",
        "    c.do_smth_good()\n",
        "  else:\n",
        "    c.do_smth_bad()"
      ],
      "metadata": {
        "id": "2DDpNfemIOZ9",
        "colab": {
          "base_uri": "https://localhost:8080/"
        },
        "outputId": "7cb06440-9025-4aae-af05-a24775ef7506"
      },
      "execution_count": 55,
      "outputs": [
        {
          "output_type": "stream",
          "name": "stdout",
          "text": [
            "doing smth\n",
            "calm\n",
            "calm\n",
            "doing smth\n",
            "calm\n",
            "calm\n",
            "doing smth\n",
            "calm\n",
            "calm\n",
            "doing smth bad\n",
            "not calm\n",
            "ALICE\n",
            "calm\n",
            "doing smth\n",
            "calm\n",
            "calm\n",
            "doing smth bad\n",
            "not calm\n",
            "ALICE\n",
            "calm\n",
            "doing smth bad\n",
            "not calm\n",
            "ALICE\n",
            "calm\n",
            "doing smth\n",
            "calm\n",
            "calm\n"
          ]
        }
      ]
    },
    {
      "cell_type": "markdown",
      "source": [
        "# Мини домашка"
      ],
      "metadata": {
        "id": "m2TuW01Mx6pE"
      }
    },
    {
      "cell_type": "markdown",
      "source": [
        "## Задание 1"
      ],
      "metadata": {
        "id": "MpJTGBb3x5tq"
      }
    },
    {
      "cell_type": "code",
      "source": [
        "#  elem1 - > elem2 -> elem3 -> elem4\n",
        "#             ^                   |\n",
        "#             |                   |\n",
        "#              -------------------\n",
        "\n",
        "# 1 цикл (шаг 1)\n",
        "# elem1 elem2 elem3 elem4 elem2 elem3 ...\n",
        "# 2 цикл (шаг 2)\n",
        "# elem2 elem4 elem3"
      ],
      "metadata": {
        "id": "3o8CoU0FtnOT"
      },
      "execution_count": 39,
      "outputs": []
    },
    {
      "cell_type": "markdown",
      "source": [
        "Хотим найти цикл в односвязном списке; если он есть - возвращаем True, если нет - False\n",
        "При этом нам нельзя сохранять список уже посещенных нод, хотим сделать проверку в формате, который обсуждали на лекции (идти с разным шагом)"
      ],
      "metadata": {
        "id": "su3Nd65mx2K0"
      }
    },
    {
      "cell_type": "code",
      "source": [
        "def find_cycle(node):\n",
        "  pass"
      ],
      "metadata": {
        "id": "ftkNOQIkx1sw"
      },
      "execution_count": null,
      "outputs": []
    },
    {
      "cell_type": "code",
      "source": [
        "ll_1 = LinkedList(0)\n",
        "ll_2 = LinkedList(1)\n",
        "ll_3 = LinkedList(2)\n",
        "ll_4 = LinkedList(3)\n",
        "\n",
        "ll_1.bind_next(ll_2)\n",
        "ll_2.bind_next(ll_3)\n",
        "ll_3.bind_next(ll_4)\n",
        "\n",
        "assert find_cycle(ll_1) == False\n",
        "\n",
        "ll_4.bind_next(ll_2)\n",
        "\n",
        "assert find_cycle(ll_1) == True"
      ],
      "metadata": {
        "id": "74AWqJRUx3y9"
      },
      "execution_count": null,
      "outputs": []
    },
    {
      "cell_type": "markdown",
      "source": [
        "## Задание 2"
      ],
      "metadata": {
        "id": "jbdfKZ8s_9jW"
      }
    },
    {
      "cell_type": "markdown",
      "source": [
        "Напишите класс ConnectToDB так, чтобы при передаче уже однажды переданных параметров возвращался созданный ранее экземпляр класса, при новых - новый"
      ],
      "metadata": {
        "id": "EbYviuI__-Lm"
      }
    },
    {
      "cell_type": "code",
      "source": [
        "class ConnectToDB():\n",
        "  connections = {}\n",
        "\n",
        "  def __new__(cls, *args, **kwargs):\n",
        "    pass\n",
        "\n",
        "  def __init__(self, address=\"\"):\n",
        "    self.address = address"
      ],
      "metadata": {
        "id": "1hPXQNeE__TV"
      },
      "execution_count": null,
      "outputs": []
    },
    {
      "cell_type": "code",
      "source": [
        "c1 = ConnectToDB(address=\"addr1\")\n",
        "c2 = ConnectToDB(address=\"addr1\")\n",
        "c3 = ConnectToDB(address=\"addr2\")\n",
        "assert c1 is c2\n",
        "assert c1 is not c3"
      ],
      "metadata": {
        "id": "ZCxjF0KJAANo"
      },
      "execution_count": null,
      "outputs": []
    }
  ]
}