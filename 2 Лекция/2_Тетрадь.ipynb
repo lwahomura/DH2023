{
  "nbformat": 4,
  "nbformat_minor": 0,
  "metadata": {
    "colab": {
      "provenance": []
    },
    "kernelspec": {
      "name": "python3",
      "display_name": "Python 3"
    },
    "language_info": {
      "name": "python"
    }
  },
  "cells": [
    {
      "cell_type": "code",
      "metadata": {
        "id": "jpe4ovD60CFs"
      },
      "source": [
        "import types\n",
        "import abc\n",
        "import math\n",
        "import time"
      ],
      "execution_count": 20,
      "outputs": []
    },
    {
      "cell_type": "markdown",
      "metadata": {
        "id": "pti6nSnSi0u1"
      },
      "source": [
        "# ООП"
      ]
    },
    {
      "cell_type": "markdown",
      "metadata": {
        "id": "IRbAesBui3zi"
      },
      "source": [
        "## Определение"
      ]
    },
    {
      "cell_type": "markdown",
      "metadata": {
        "id": "qWfXmVd2i6OK"
      },
      "source": [
        "Часто говорят, что ООП это три принципа:\n",
        "- инкапсуляция\n",
        "- полиморфизм\n",
        "- наследование\n",
        "\n",
        "На самом деле, это не совсем так. Если обратиться к словам Алана Кэя (http://userpage.fu-berlin.de/~ram/pub/pub_jf47ht81Ht/doc_kay_oop_en), можно обратить внимание, что он, отвечая на вопрос о том, что же такое ООП, отвечал, что \"OOP to me means only messaging, local retention and protection and hiding of state-process, and extreme late-binding of all things.\"  "
      ]
    },
    {
      "cell_type": "markdown",
      "metadata": {
        "id": "GYslrn-8kROb"
      },
      "source": [
        "Разберем это высказывание.\n",
        "- messaging - мы присылаем какие-либо данные объекту, а он решает, как на них ответить\n",
        "- local retention - поля и методы класса недоступны извне\n",
        "- extreme late-binding - связывание происходит в рантайме\n"
      ]
    },
    {
      "cell_type": "markdown",
      "metadata": {
        "id": "OMzI8SqLlCx_"
      },
      "source": [
        "Конечно, можно сказать, что изначальная задумка эволюционировала и изменилась; тем не менее, стоит понимать, что есть ООП языки, которые могут не подчиняться этим самым \"трем принципам\""
      ]
    },
    {
      "cell_type": "markdown",
      "metadata": {
        "id": "lWKOi1hBmLws"
      },
      "source": [
        "## Наш базовый класс"
      ]
    },
    {
      "cell_type": "code",
      "source": [
        "class Point():\n",
        "  def __init__(self, x, y):\n",
        "    self.x = x\n",
        "    self.y = y\n",
        "\n",
        "  def test_x(self, a):\n",
        "    return self.x + a"
      ],
      "metadata": {
        "id": "GBb6mLoiCXp6"
      },
      "execution_count": 21,
      "outputs": []
    },
    {
      "cell_type": "code",
      "source": [
        "p = Point(1,1)"
      ],
      "metadata": {
        "id": "aX0eqTa9C04j"
      },
      "execution_count": 22,
      "outputs": []
    },
    {
      "cell_type": "code",
      "source": [
        "print(p.x)\n",
        "print(p.test_x(10))"
      ],
      "metadata": {
        "colab": {
          "base_uri": "https://localhost:8080/"
        },
        "id": "1W9yi7nYC7yG",
        "outputId": "07f51806-27da-4e94-ac6c-b7b7edde7814"
      },
      "execution_count": 25,
      "outputs": [
        {
          "output_type": "stream",
          "name": "stdout",
          "text": [
            "1\n",
            "11\n"
          ]
        }
      ]
    },
    {
      "cell_type": "code",
      "source": [
        "class Point2():\n",
        "  def __init__(other, x, y):\n",
        "    other.x = x\n",
        "    other.y = y\n",
        "\n",
        "  def test_x(other, a):\n",
        "    return other.x + a\n",
        "\n",
        "p = Point2(1,1)\n",
        "print(p.x)\n",
        "print(p.test_x(10))"
      ],
      "metadata": {
        "colab": {
          "base_uri": "https://localhost:8080/"
        },
        "id": "ud3q-abGDbs4",
        "outputId": "500e1f93-edee-4211-b964-9a40a26db09b"
      },
      "execution_count": 28,
      "outputs": [
        {
          "output_type": "stream",
          "name": "stdout",
          "text": [
            "1\n",
            "11\n"
          ]
        }
      ]
    },
    {
      "cell_type": "code",
      "metadata": {
        "id": "rKf-zGceoKzQ",
        "colab": {
          "base_uri": "https://localhost:8080/"
        },
        "outputId": "7eee2e72-ee0e-4bf7-e979-f992d56abdae"
      },
      "source": [
        "class Point():\n",
        "  dummy = 0\n",
        "\n",
        "  def __init__(self, x, y):\n",
        "    self.x = x\n",
        "    self.y = y\n",
        "\n",
        "  def test_x(self, a):\n",
        "    return self.x + a\n",
        "\n",
        "  @classmethod\n",
        "  def test_class(cls):\n",
        "    return cls.dummy\n",
        "\n",
        "p = Point(1,1)\n",
        "a = 10\n",
        "print(p.test_x(a))\n",
        "print(p.test_class())\n",
        "print(Point.test_class())"
      ],
      "execution_count": 29,
      "outputs": [
        {
          "output_type": "stream",
          "name": "stdout",
          "text": [
            "11\n",
            "0\n",
            "0\n"
          ]
        }
      ]
    },
    {
      "cell_type": "code",
      "source": [
        "def delete_doubles(words):\n",
        "  return words\n",
        "\n",
        "class Morphology():\n",
        "  def __init__(self, words):\n",
        "    self.raw = words\n",
        "    self.__words = delete_doubles(words)\n",
        "\n",
        "  def set_words(self, words):\n",
        "    self.__words = delete_doubles(words)\n",
        "\n",
        "  def get_words():\n",
        "    return self.__words"
      ],
      "metadata": {
        "id": "36sKnh-3ZWIl"
      },
      "execution_count": 61,
      "outputs": []
    },
    {
      "cell_type": "code",
      "source": [
        "m = Morphology(words1)\n",
        "m.__words"
      ],
      "metadata": {
        "colab": {
          "base_uri": "https://localhost:8080/",
          "height": 158
        },
        "id": "z5e4UAuWKAcE",
        "outputId": "0a49c72d-818c-4005-dce0-98f9092d57be"
      },
      "execution_count": 62,
      "outputs": [
        {
          "output_type": "error",
          "ename": "AttributeError",
          "evalue": "'Morphology' object has no attribute '__words'",
          "traceback": [
            "\u001b[0;31m---------------------------------------------------------------------------\u001b[0m",
            "\u001b[0;31mAttributeError\u001b[0m                            Traceback (most recent call last)",
            "\u001b[0;32m<ipython-input-62-76fc44ca069e>\u001b[0m in \u001b[0;36m<cell line: 2>\u001b[0;34m()\u001b[0m\n\u001b[1;32m      1\u001b[0m \u001b[0mm\u001b[0m \u001b[0;34m=\u001b[0m \u001b[0mMorphology\u001b[0m\u001b[0;34m(\u001b[0m\u001b[0mwords1\u001b[0m\u001b[0;34m)\u001b[0m\u001b[0;34m\u001b[0m\u001b[0;34m\u001b[0m\u001b[0m\n\u001b[0;32m----> 2\u001b[0;31m \u001b[0mm\u001b[0m\u001b[0;34m.\u001b[0m\u001b[0m__words\u001b[0m\u001b[0;34m\u001b[0m\u001b[0;34m\u001b[0m\u001b[0m\n\u001b[0m",
            "\u001b[0;31mAttributeError\u001b[0m: 'Morphology' object has no attribute '__words'"
          ]
        }
      ]
    },
    {
      "cell_type": "code",
      "source": [
        "m = Morphology(words1)\n",
        "m.__words = [\"a\"]\n",
        "m.__dict__"
      ],
      "metadata": {
        "colab": {
          "base_uri": "https://localhost:8080/"
        },
        "id": "ski70Y7SKEq2",
        "outputId": "ec18eb97-2274-4c1e-e25e-f311bc476e6c"
      },
      "execution_count": 64,
      "outputs": [
        {
          "output_type": "execute_result",
          "data": {
            "text/plain": [
              "{'raw': ['a', 'b', 'a'],\n",
              " '_Morphology__words': ['a', 'b', 'a'],\n",
              " '__words': ['a']}"
            ]
          },
          "metadata": {},
          "execution_count": 64
        }
      ]
    },
    {
      "cell_type": "code",
      "source": [
        "words1 = [\"a\", \"b\", \"a\"]\n",
        "m = Morphology(words1)\n",
        "# ...\n",
        "words2 = [\"a\", \"b\", \"a\", \"c\"]\n",
        "m.__words = words2"
      ],
      "metadata": {
        "id": "sjGdE4GkGvEu"
      },
      "execution_count": 34,
      "outputs": []
    },
    {
      "cell_type": "code",
      "source": [
        "class Morphology():\n",
        "  def __init__(self, words):\n",
        "    self.raw = words\n",
        "    self.__words = Morphology.delete_doubles(words)\n",
        "\n",
        "  @staticmethod\n",
        "  def delete_doubles(words):\n",
        "    return words\n",
        "\n",
        "  def get_words():\n",
        "    return self.__words"
      ],
      "metadata": {
        "id": "onRttTieEQR3"
      },
      "execution_count": null,
      "outputs": []
    },
    {
      "cell_type": "code",
      "metadata": {
        "id": "jyqqzZzYu03F"
      },
      "source": [
        "# 100 = 1 * 2^6 + 1 * 2^5 + 0 * 2^4 + 0 * 2^3 + 1 * 2^2 + 0 * 2^1 + 0 * 2^0  1100100\n",
        "# 0.25 = 0 * 2^-1 + 1 * 2^-2 + ..... 0100000000\n",
        "# 0.33 = 0 * 2^-1 + 1 * 2^-2 + 0 * 2^-3 + 1 * 2^-4 + ... 0101000000000000000000000000000000000010000000000000001\n",
        "\n",
        "class Money():\n",
        "  def __init__(self, sum): # 100.12\n",
        "    self.__rubles = int(sum / 100)\n",
        "    self.__kopejkas = int((sum - int(sum / 100))*100)\n",
        "    self.__send_to_my_server()\n",
        "\n",
        "  def __send_to_my_server(self):\n",
        "    print(\"got new money!\")\n",
        "\n",
        "  def get(self):\n",
        "    return self.__rubles + self.__kopejkas / 100"
      ],
      "execution_count": 30,
      "outputs": []
    },
    {
      "cell_type": "code",
      "source": [
        "m = Money(100.12)\n",
        "print(m.get())"
      ],
      "metadata": {
        "colab": {
          "base_uri": "https://localhost:8080/"
        },
        "id": "1OU5zQoUGV5T",
        "outputId": "dccf4f29-9f26-4c8f-fee5-b9de14fb71a9"
      },
      "execution_count": 31,
      "outputs": [
        {
          "output_type": "stream",
          "name": "stdout",
          "text": [
            "got new money!\n",
            "100.12\n"
          ]
        }
      ]
    },
    {
      "cell_type": "markdown",
      "source": [
        "## Жизненный цикл экземпляра"
      ],
      "metadata": {
        "id": "1pjyl-wm4pmY"
      }
    },
    {
      "cell_type": "code",
      "source": [
        "# 1) вызывается класс.__new__ -> дает экземпляр\n",
        "# 2) вызыварется экземпляр.__init__\n",
        "# ...\n",
        "# 3) экземпляр.__del__"
      ],
      "metadata": {
        "id": "SofQ9pTLHjSX"
      },
      "execution_count": null,
      "outputs": []
    },
    {
      "cell_type": "code",
      "source": [
        "class Demo():\n",
        "\n",
        "  @classmethod\n",
        "  def __new__(cls, *args, **kwargs):\n",
        "    print(\"...\")\n",
        "    instance = super().__new__(cls)\n",
        "    return instance\n",
        "\n",
        "  def __init__(self, a, b):\n",
        "    print(\"HI\")\n",
        "    self.a = a\n",
        "    self.b = b\n",
        "\n",
        "  def __del__(self):\n",
        "    print(\"BYE\")"
      ],
      "metadata": {
        "id": "T9fjThE78Bqm"
      },
      "execution_count": 39,
      "outputs": []
    },
    {
      "cell_type": "code",
      "source": [
        "d = Demo(1,1)"
      ],
      "metadata": {
        "colab": {
          "base_uri": "https://localhost:8080/"
        },
        "id": "CPBRQltmH3sL",
        "outputId": "e4d0f504-3af7-4bda-cde6-f392d6b6bedf"
      },
      "execution_count": 45,
      "outputs": [
        {
          "output_type": "stream",
          "name": "stdout",
          "text": [
            "...\n",
            "HI\n"
          ]
        }
      ]
    },
    {
      "cell_type": "code",
      "source": [
        "d"
      ],
      "metadata": {
        "colab": {
          "base_uri": "https://localhost:8080/"
        },
        "id": "meCQIOHLH9Du",
        "outputId": "94c4fcf0-8ce5-4c1c-828c-a934ce45805a"
      },
      "execution_count": 46,
      "outputs": [
        {
          "output_type": "execute_result",
          "data": {
            "text/plain": [
              "<__main__.Demo at 0x7f22f6596470>"
            ]
          },
          "metadata": {},
          "execution_count": 46
        }
      ]
    },
    {
      "cell_type": "code",
      "source": [
        "del(d)"
      ],
      "metadata": {
        "id": "5uDxalUM8iIg",
        "colab": {
          "base_uri": "https://localhost:8080/",
          "height": 106
        },
        "outputId": "f9958df4-4655-4828-d0fe-091c5bd95cc2"
      },
      "execution_count": 47,
      "outputs": [
        {
          "output_type": "error",
          "ename": "SyntaxError",
          "evalue": "invalid syntax (<ipython-input-47-3cde91b83e14>, line 1)",
          "traceback": [
            "\u001b[0;36m  File \u001b[0;32m\"<ipython-input-47-3cde91b83e14>\"\u001b[0;36m, line \u001b[0;32m1\u001b[0m\n\u001b[0;31m    print(del(d))\u001b[0m\n\u001b[0m          ^\u001b[0m\n\u001b[0;31mSyntaxError\u001b[0m\u001b[0;31m:\u001b[0m invalid syntax\n"
          ]
        }
      ]
    },
    {
      "cell_type": "code",
      "source": [
        "def del_test():\n",
        "  d1 = Demo(1,1)\n",
        "\n",
        "del_test()"
      ],
      "metadata": {
        "id": "kq0kAYVz9J_H",
        "colab": {
          "base_uri": "https://localhost:8080/"
        },
        "outputId": "b2a61fc7-ba9a-4e0e-b7c9-0825aa8add76"
      },
      "execution_count": 48,
      "outputs": [
        {
          "output_type": "stream",
          "name": "stdout",
          "text": [
            "...\n",
            "HI\n",
            "BYE\n"
          ]
        }
      ]
    },
    {
      "cell_type": "markdown",
      "source": [
        "## Расширим класс методами"
      ],
      "metadata": {
        "id": "rY3jNMYJ5v3e"
      }
    },
    {
      "cell_type": "code",
      "metadata": {
        "id": "arYSzfF3i5i6"
      },
      "source": [
        "class MyClass():\n",
        "  field_0 = \"field 0\"\n",
        "\n",
        "  def __init__(self):\n",
        "    self.field_1 = \"field 1\"\n",
        "    self._field_2 = \"field 2\"\n",
        "    self.__field_3 = \"field 3\"\n",
        "\n",
        "  def m_1(self):\n",
        "    return self.field_1\n",
        "\n",
        "  def _m_2(self):\n",
        "    return self._field_2\n",
        "\n",
        "  def __m_3(self):\n",
        "    return self.__field_3\n",
        "\n",
        "  @staticmethod\n",
        "  def s_m():\n",
        "    return \"no field\"\n",
        "\n",
        "  def help():\n",
        "    return \"m_1 returns public field field_1\\_m_2 returns private field _field_2\"\n",
        "\n",
        "  @staticmethod\n",
        "  def static_help():\n",
        "    return \"m_1 returns public field field_1\\_m_2 returns private field _field_2\"\n",
        "\n",
        "  @classmethod\n",
        "  def c_m(cls):\n",
        "    return cls.field_0"
      ],
      "execution_count": 49,
      "outputs": []
    },
    {
      "cell_type": "code",
      "metadata": {
        "id": "E5iFzKXsl8uV"
      },
      "source": [
        "c = MyClass()"
      ],
      "execution_count": 50,
      "outputs": []
    },
    {
      "cell_type": "code",
      "metadata": {
        "id": "uqcaMiJYzfAB",
        "colab": {
          "base_uri": "https://localhost:8080/",
          "height": 141
        },
        "outputId": "4e534049-b5fa-45fb-f9d1-ecd871350167"
      },
      "source": [
        "c.help() # help(c)"
      ],
      "execution_count": 51,
      "outputs": [
        {
          "output_type": "error",
          "ename": "TypeError",
          "evalue": "MyClass.help() takes 0 positional arguments but 1 was given",
          "traceback": [
            "\u001b[0;31m---------------------------------------------------------------------------\u001b[0m",
            "\u001b[0;31mTypeError\u001b[0m                                 Traceback (most recent call last)",
            "\u001b[0;32m<ipython-input-51-5d887d0a7563>\u001b[0m in \u001b[0;36m<cell line: 1>\u001b[0;34m()\u001b[0m\n\u001b[0;32m----> 1\u001b[0;31m \u001b[0mc\u001b[0m\u001b[0;34m.\u001b[0m\u001b[0mhelp\u001b[0m\u001b[0;34m(\u001b[0m\u001b[0;34m)\u001b[0m\u001b[0;34m\u001b[0m\u001b[0;34m\u001b[0m\u001b[0m\n\u001b[0m",
            "\u001b[0;31mTypeError\u001b[0m: MyClass.help() takes 0 positional arguments but 1 was given"
          ]
        }
      ]
    },
    {
      "cell_type": "code",
      "metadata": {
        "id": "VaVLzhlq0bgI",
        "colab": {
          "base_uri": "https://localhost:8080/",
          "height": 36
        },
        "outputId": "284eec08-e528-49f0-b531-e176300c9d85"
      },
      "source": [
        "c.static_help()"
      ],
      "execution_count": 52,
      "outputs": [
        {
          "output_type": "execute_result",
          "data": {
            "text/plain": [
              "'m_1 returns public field field_1\\\\_m_2 returns private field _field_2'"
            ],
            "application/vnd.google.colaboratory.intrinsic+json": {
              "type": "string"
            }
          },
          "metadata": {},
          "execution_count": 52
        }
      ]
    },
    {
      "cell_type": "code",
      "metadata": {
        "id": "m-D5IxGTz1fE"
      },
      "source": [
        "class Adder():\n",
        "  def __init__(self, initial):\n",
        "    self.initial = initial\n",
        "\n",
        "  def change_value(self):\n",
        "    self.initial += 1\n",
        "\n",
        "  def add(self, value):\n",
        "    return self.initial + value"
      ],
      "execution_count": null,
      "outputs": []
    },
    {
      "cell_type": "markdown",
      "metadata": {
        "id": "N2ba8y1GnzCu"
      },
      "source": [
        "### Инкапсуляция"
      ]
    },
    {
      "cell_type": "markdown",
      "metadata": {
        "id": "hSlpERQZnIDi"
      },
      "source": [
        "Публичные и приватные методы можно вызывать"
      ]
    },
    {
      "cell_type": "code",
      "metadata": {
        "id": "KQqJRZe_i0GH",
        "colab": {
          "base_uri": "https://localhost:8080/"
        },
        "outputId": "b0a61225-3d3f-4397-a072-773fca04c7a1"
      },
      "source": [
        "print(c.m_1())\n",
        "print(c._m_2())"
      ],
      "execution_count": 53,
      "outputs": [
        {
          "output_type": "stream",
          "name": "stdout",
          "text": [
            "field 1\n",
            "field 2\n"
          ]
        }
      ]
    },
    {
      "cell_type": "markdown",
      "metadata": {
        "id": "Ba7ize10nP89"
      },
      "source": [
        "Защищенные - нельзя(?)"
      ]
    },
    {
      "cell_type": "code",
      "metadata": {
        "id": "kGsCeBE4nG4u",
        "colab": {
          "base_uri": "https://localhost:8080/",
          "height": 141
        },
        "outputId": "d1190e79-b552-4004-c52f-171775ad59a1"
      },
      "source": [
        "print(c.__m_3())"
      ],
      "execution_count": 54,
      "outputs": [
        {
          "output_type": "error",
          "ename": "AttributeError",
          "evalue": "'MyClass' object has no attribute '__m_3'",
          "traceback": [
            "\u001b[0;31m---------------------------------------------------------------------------\u001b[0m",
            "\u001b[0;31mAttributeError\u001b[0m                            Traceback (most recent call last)",
            "\u001b[0;32m<ipython-input-54-1f99ae28af19>\u001b[0m in \u001b[0;36m<cell line: 1>\u001b[0;34m()\u001b[0m\n\u001b[0;32m----> 1\u001b[0;31m \u001b[0mprint\u001b[0m\u001b[0;34m(\u001b[0m\u001b[0mc\u001b[0m\u001b[0;34m.\u001b[0m\u001b[0m__m_3\u001b[0m\u001b[0;34m(\u001b[0m\u001b[0;34m)\u001b[0m\u001b[0;34m)\u001b[0m\u001b[0;34m\u001b[0m\u001b[0;34m\u001b[0m\u001b[0m\n\u001b[0m",
            "\u001b[0;31mAttributeError\u001b[0m: 'MyClass' object has no attribute '__m_3'"
          ]
        }
      ]
    },
    {
      "cell_type": "markdown",
      "metadata": {
        "id": "_j9CKNsWnjwd"
      },
      "source": [
        "С помощью __dict__ можно посмотреть все поля, с помощью __dir()__ все методы, там мы увидим кое-что интересное"
      ]
    },
    {
      "cell_type": "code",
      "metadata": {
        "id": "QiNEuKFOni7Z",
        "colab": {
          "base_uri": "https://localhost:8080/"
        },
        "outputId": "2f96537d-4587-4238-f912-97a85963184f"
      },
      "source": [
        "c.__dict__"
      ],
      "execution_count": 55,
      "outputs": [
        {
          "output_type": "execute_result",
          "data": {
            "text/plain": [
              "{'field_1': 'field 1', '_field_2': 'field 2', '_MyClass__field_3': 'field 3'}"
            ]
          },
          "metadata": {},
          "execution_count": 55
        }
      ]
    },
    {
      "cell_type": "code",
      "metadata": {
        "id": "K4_q9Ts5nbv-",
        "colab": {
          "base_uri": "https://localhost:8080/"
        },
        "outputId": "68255414-3c52-4ed4-89b5-b607c5eff21d"
      },
      "source": [
        "print(c._MyClass__field_3)"
      ],
      "execution_count": 57,
      "outputs": [
        {
          "output_type": "stream",
          "name": "stdout",
          "text": [
            "field 3\n"
          ]
        }
      ]
    },
    {
      "cell_type": "code",
      "metadata": {
        "id": "3Sn_BiosnxHk"
      },
      "source": [
        "dir(c)"
      ],
      "execution_count": null,
      "outputs": []
    },
    {
      "cell_type": "code",
      "metadata": {
        "id": "Ktna1T8tnek2",
        "colab": {
          "base_uri": "https://localhost:8080/"
        },
        "outputId": "9cc640dc-aa00-4144-a094-3be51c59876d"
      },
      "source": [
        "print(c._MyClass__m_3())"
      ],
      "execution_count": 58,
      "outputs": [
        {
          "output_type": "stream",
          "name": "stdout",
          "text": [
            "field 3\n"
          ]
        }
      ]
    },
    {
      "cell_type": "markdown",
      "metadata": {
        "id": "fXpuNs-9oAep"
      },
      "source": [
        "Статические методы"
      ]
    },
    {
      "cell_type": "code",
      "metadata": {
        "id": "4p_aF31EnF5H",
        "colab": {
          "base_uri": "https://localhost:8080/"
        },
        "outputId": "51dca9bd-8992-4928-b3ea-88e1b9fb0341"
      },
      "source": [
        "print(c.s_m())\n",
        "print(MyClass.s_m())"
      ],
      "execution_count": 59,
      "outputs": [
        {
          "output_type": "stream",
          "name": "stdout",
          "text": [
            "no field\n",
            "no field\n"
          ]
        }
      ]
    },
    {
      "cell_type": "markdown",
      "metadata": {
        "id": "VaIlPxUhoJJp"
      },
      "source": [
        "Методы класса"
      ]
    },
    {
      "cell_type": "code",
      "metadata": {
        "id": "msKXKh8EmnY9",
        "colab": {
          "base_uri": "https://localhost:8080/"
        },
        "outputId": "f65cea30-4324-4c4a-a2ba-8af67972c9ea"
      },
      "source": [
        "print(c.c_m())\n",
        "print(MyClass.c_m())"
      ],
      "execution_count": 60,
      "outputs": [
        {
          "output_type": "stream",
          "name": "stdout",
          "text": [
            "field 0\n",
            "field 0\n"
          ]
        }
      ]
    },
    {
      "cell_type": "markdown",
      "metadata": {
        "id": "5RPC-EZroU6K"
      },
      "source": [
        "## Полиморфизм"
      ]
    },
    {
      "cell_type": "code",
      "source": [
        "class Point():\n",
        "  def __init__(self, x, y):\n",
        "    self.x = x\n",
        "    self.y = y\n",
        "\n",
        "p1 = Point(1,2)\n",
        "p2 = Point(1,2)\n",
        "print(p1 == p2)"
      ],
      "metadata": {
        "colab": {
          "base_uri": "https://localhost:8080/"
        },
        "id": "cyHAfKxpKbqL",
        "outputId": "8d1d5f21-e1be-49b5-a3e8-068334eda965"
      },
      "execution_count": 65,
      "outputs": [
        {
          "output_type": "stream",
          "name": "stdout",
          "text": [
            "False\n"
          ]
        }
      ]
    },
    {
      "cell_type": "code",
      "metadata": {
        "id": "QvWULbSgoyjf"
      },
      "source": [
        "class Point():\n",
        "  def __init__(self, x, y):\n",
        "    self.x = x\n",
        "    self.y = y\n",
        "\n",
        "  def __eq__(self, other):\n",
        "    return isinstance(other, Point) and self.x == other.x and self.y == other.y\n",
        "\n",
        "class Triangle():\n",
        "  def __init__(self, p1, p2, p3):\n",
        "    self.point1 = p1\n",
        "    self.point2 = p2\n",
        "    self.point3 = p3\n",
        "\n",
        "  def __eq__(self, other):\n",
        "    return isinstance(other, Triangle) and self.point1 == other.point1 and self.point2 == other.point2 and self.point3 == other.point3"
      ],
      "execution_count": 67,
      "outputs": []
    },
    {
      "cell_type": "code",
      "metadata": {
        "id": "Hqs69koPpXrA",
        "colab": {
          "base_uri": "https://localhost:8080/"
        },
        "outputId": "9273ab58-b163-4537-9404-a1d11e0e8a75"
      },
      "source": [
        "p1 = Point(1,2)\n",
        "p1_2 = Point(1,2)\n",
        "p2 = Point(2,3)\n",
        "p3 = Point(3,4)\n",
        "print(p1 == 2)\n",
        "print(p1 == p1_2)\n",
        "print(p1 == p2)"
      ],
      "execution_count": 68,
      "outputs": [
        {
          "output_type": "stream",
          "name": "stdout",
          "text": [
            "False\n",
            "True\n",
            "False\n"
          ]
        }
      ]
    },
    {
      "cell_type": "code",
      "metadata": {
        "id": "CSdxoiY_qToz",
        "colab": {
          "base_uri": "https://localhost:8080/"
        },
        "outputId": "4ea375fb-fee8-4eaf-aadb-daedb0823848"
      },
      "source": [
        "t1 = Triangle(1,2,3)\n",
        "t1_2 = Triangle(1,2,3)\n",
        "t2 = Triangle(2,3,4)\n",
        "print(t1 == t1_2)\n",
        "print(t1 == t2)"
      ],
      "execution_count": 69,
      "outputs": [
        {
          "output_type": "stream",
          "name": "stdout",
          "text": [
            "True\n",
            "False\n"
          ]
        }
      ]
    },
    {
      "cell_type": "code",
      "metadata": {
        "id": "9-hgUsgZqwS3",
        "colab": {
          "base_uri": "https://localhost:8080/"
        },
        "outputId": "da287b21-64cb-4586-de66-e9209976cbd3"
      },
      "source": [
        "tp1 = Triangle(p1,p2,p3)\n",
        "tp1_2 = Triangle(p1,p2,p3)\n",
        "tp2 = Triangle(p2,p3,p2)\n",
        "print(tp1 == tp1_2)\n",
        "print(tp1 == tp2)"
      ],
      "execution_count": 70,
      "outputs": [
        {
          "output_type": "stream",
          "name": "stdout",
          "text": [
            "True\n",
            "False\n"
          ]
        }
      ]
    },
    {
      "cell_type": "markdown",
      "metadata": {
        "id": "qEf4jM7IoVAL"
      },
      "source": [
        "## Наследование"
      ]
    },
    {
      "cell_type": "code",
      "source": [
        "class WP():\n",
        "  def __init__(self, url):\n",
        "    self.url = url\n",
        "\n",
        "  def get_data(self):\n",
        "    pass\n",
        "\n",
        "class Times():\n",
        "  def __init__(self, url):\n",
        "    self.url = url\n",
        "\n",
        "  def get_data(self):\n",
        "    pass\n",
        "\n",
        "  def solve_captcha(self):\n",
        "    pass\n",
        "\n",
        "class VK():\n",
        "  def __init__(self, login, password):\n",
        "    self.login = login\n",
        "    self.password = password\n",
        "\n",
        "  def get_data(self):\n",
        "    pass\n",
        "\n",
        "class TW():\n",
        "  def __init__(self, url):\n",
        "    self.url = url\n",
        "\n",
        "  def solve_captcha(self):\n",
        "    pass\n",
        "\n",
        "\n",
        "w1 = WP(\"wp.com\")\n",
        "v1 = VK(\"login\", \"password\")\n",
        "t1 = TW(\"x.com\")\n",
        "\n",
        "w1.get_data()\n",
        "v1.get_data()\n",
        "t1.get_data()\n",
        "\n",
        "ss = [w1,v1,t1]\n",
        "for s in ss:\n",
        "  s.get_data()"
      ],
      "metadata": {
        "id": "yEuo0O18MHn9"
      },
      "execution_count": null,
      "outputs": []
    },
    {
      "cell_type": "code",
      "metadata": {
        "id": "HIyQZlgjmwck"
      },
      "source": [
        "class NewsSource(object):\n",
        "  def __init__(self, url):\n",
        "    self.url = url\n",
        "\n",
        "  def get_data(self):\n",
        "    print(\"getting data from\", self.url)\n",
        "\n",
        "class WashingtonPost(NewsSource):\n",
        "  pass\n",
        "\n",
        "class VKontakte(NewsSource):\n",
        "  def __init__(self, login, password):\n",
        "    self.login = login\n",
        "    self.password = password\n",
        "\n",
        "  def get_data(self):\n",
        "    print(\"logging in personal account using credentials\")\n",
        "\n",
        "class Twitter(NewsSource):\n",
        "  def solve_captcha(self):\n",
        "    print(\"solving captcha\")\n",
        "\n",
        "  def get_data_super(self):\n",
        "    super().get_data()\n",
        "\n",
        "  def get_data(self):\n",
        "    self.solve_captcha()\n",
        "    print(\"getting data from twitter\")"
      ],
      "execution_count": 71,
      "outputs": []
    },
    {
      "cell_type": "code",
      "metadata": {
        "id": "K5vWef2ntoIo",
        "colab": {
          "base_uri": "https://localhost:8080/"
        },
        "outputId": "fbf9c4fd-d300-4491-da7a-843fcc51ed2c"
      },
      "source": [
        "source = NewsSource(\"url 1\")\n",
        "source_2 = NewsSource(\"url 2\")\n",
        "source.get_data()\n",
        "source_2.get_data()"
      ],
      "execution_count": 72,
      "outputs": [
        {
          "output_type": "stream",
          "name": "stdout",
          "text": [
            "getting data from url 1\n",
            "getting data from url 2\n"
          ]
        }
      ]
    },
    {
      "cell_type": "code",
      "metadata": {
        "id": "ULWzrzr7zVjm",
        "colab": {
          "base_uri": "https://localhost:8080/"
        },
        "outputId": "f2be3642-f0db-4fee-809c-d3a296c7bcc0"
      },
      "source": [
        "wp = WashingtonPost(\"http://wp.com\")\n",
        "wp.get_data()"
      ],
      "execution_count": 73,
      "outputs": [
        {
          "output_type": "stream",
          "name": "stdout",
          "text": [
            "getting data from http://wp.com\n"
          ]
        }
      ]
    },
    {
      "cell_type": "code",
      "metadata": {
        "id": "Y8PSbNWwt0-H",
        "colab": {
          "base_uri": "https://localhost:8080/"
        },
        "outputId": "360b2562-9b4c-429d-e6b8-44efbb617426"
      },
      "source": [
        "vk = VKontakte(\"login\", \"password\")\n",
        "vk.get_data()"
      ],
      "execution_count": 74,
      "outputs": [
        {
          "output_type": "stream",
          "name": "stdout",
          "text": [
            "logging in personal account using credentials\n"
          ]
        }
      ]
    },
    {
      "cell_type": "markdown",
      "metadata": {
        "id": "ZtL46MMQyiLz"
      },
      "source": [
        "Т.к. мы переопределили метод __init__, поле __url__ нам уже недоступно"
      ]
    },
    {
      "cell_type": "code",
      "metadata": {
        "id": "Kazq8kUqyRXJ",
        "colab": {
          "base_uri": "https://localhost:8080/"
        },
        "outputId": "b003af3f-67c0-4ba4-9fe2-671a0e1a515f"
      },
      "source": [
        "print(vk.__dict__)"
      ],
      "execution_count": 75,
      "outputs": [
        {
          "output_type": "stream",
          "name": "stdout",
          "text": [
            "{'login': 'login', 'password': 'password'}\n"
          ]
        }
      ]
    },
    {
      "cell_type": "code",
      "metadata": {
        "id": "s42LGAYmyu3e",
        "colab": {
          "base_uri": "https://localhost:8080/"
        },
        "outputId": "19be97e3-ff54-4c8f-e866-61bb11e35ef2"
      },
      "source": [
        "tw = Twitter(\"http://twitter.com\")\n",
        "tw.get_data()"
      ],
      "execution_count": 76,
      "outputs": [
        {
          "output_type": "stream",
          "name": "stdout",
          "text": [
            "solving captcha\n",
            "getting data from twitter\n"
          ]
        }
      ]
    },
    {
      "cell_type": "code",
      "metadata": {
        "id": "X1g1OtI56ctf",
        "colab": {
          "base_uri": "https://localhost:8080/"
        },
        "outputId": "f6c4a5b3-2a8f-4e87-bf6a-b3f04f0542a6"
      },
      "source": [
        "sources = [NewsSource(\"izvestia\"), NewsSource(\"thetimes\"), VKontakte(\"login\", \"password\"), Twitter(\"www.twitter.com\")]\n",
        "for s in sources:\n",
        "  # if isinstance(s, NewsSource) ...\n",
        "  s.get_data()"
      ],
      "execution_count": 77,
      "outputs": [
        {
          "output_type": "stream",
          "name": "stdout",
          "text": [
            "getting data from izvestia\n",
            "getting data from thetimes\n",
            "logging in personal account using credentials\n",
            "solving captcha\n",
            "getting data from twitter\n"
          ]
        }
      ]
    },
    {
      "cell_type": "markdown",
      "metadata": {
        "id": "wxs-omZo4qK5"
      },
      "source": [
        "Что, если мы хотим вызвать метод родительского класса?"
      ]
    },
    {
      "cell_type": "code",
      "metadata": {
        "id": "v7srrJuI4uD8",
        "colab": {
          "base_uri": "https://localhost:8080/"
        },
        "outputId": "76675ab7-93c8-4934-f18f-4546cd7bb4ea"
      },
      "source": [
        "tw.get_data_super()"
      ],
      "execution_count": 78,
      "outputs": [
        {
          "output_type": "stream",
          "name": "stdout",
          "text": [
            "getting data from http://twitter.com\n"
          ]
        }
      ]
    },
    {
      "cell_type": "markdown",
      "metadata": {
        "id": "agA5qNtp4-P8"
      },
      "source": [
        "При этом мы можем искать во всех классах-родственниках (только вверх, правда). Чтобы узнать, в ком мы можем искать, можно вызвать метод __mro__:"
      ]
    },
    {
      "cell_type": "code",
      "metadata": {
        "id": "kwhtx24g5KyR",
        "colab": {
          "base_uri": "https://localhost:8080/"
        },
        "outputId": "ced3fe3f-9521-4e16-d1db-4c46f64bfae1"
      },
      "source": [
        "Twitter.mro()"
      ],
      "execution_count": 81,
      "outputs": [
        {
          "output_type": "execute_result",
          "data": {
            "text/plain": [
              "[__main__.Twitter, __main__.NewsSource, object]"
            ]
          },
          "metadata": {},
          "execution_count": 81
        }
      ]
    },
    {
      "cell_type": "code",
      "source": [
        "tw == Twitter(\"new_url\")"
      ],
      "metadata": {
        "colab": {
          "base_uri": "https://localhost:8080/"
        },
        "id": "VemsxHVyg_MD",
        "outputId": "e4e0cddb-949c-40b0-f256-2d092a94e159"
      },
      "execution_count": 82,
      "outputs": [
        {
          "output_type": "execute_result",
          "data": {
            "text/plain": [
              "False"
            ]
          },
          "metadata": {},
          "execution_count": 82
        }
      ]
    },
    {
      "cell_type": "markdown",
      "metadata": {
        "id": "lBTu-ZfIz4aE"
      },
      "source": [
        "Что, если мы хотим привязать какую-нибудь функцию к экземпляру классу?"
      ]
    },
    {
      "cell_type": "code",
      "metadata": {
        "id": "axG8IPkpzj8E",
        "colab": {
          "base_uri": "https://localhost:8080/",
          "height": 176
        },
        "outputId": "5dfc0a93-c3eb-4901-cf31-97d73d6e0bf6"
      },
      "source": [
        "def wp_specific(self):\n",
        "  print(\"this is washington post\")\n",
        "\n",
        "wp = WashingtonPost(\"http://wp.com\")\n",
        "wp.get_data = wp_specific\n",
        "wp.get_data()"
      ],
      "execution_count": 86,
      "outputs": [
        {
          "output_type": "error",
          "ename": "TypeError",
          "evalue": "wp_specific() missing 1 required positional argument: 'self'",
          "traceback": [
            "\u001b[0;31m---------------------------------------------------------------------------\u001b[0m",
            "\u001b[0;31mTypeError\u001b[0m                                 Traceback (most recent call last)",
            "\u001b[0;32m<ipython-input-86-2ebaa1d283c8>\u001b[0m in \u001b[0;36m<cell line: 6>\u001b[0;34m()\u001b[0m\n\u001b[1;32m      4\u001b[0m \u001b[0mwp\u001b[0m \u001b[0;34m=\u001b[0m \u001b[0mWashingtonPost\u001b[0m\u001b[0;34m(\u001b[0m\u001b[0;34m\"http://wp.com\"\u001b[0m\u001b[0;34m)\u001b[0m\u001b[0;34m\u001b[0m\u001b[0;34m\u001b[0m\u001b[0m\n\u001b[1;32m      5\u001b[0m \u001b[0mwp\u001b[0m\u001b[0;34m.\u001b[0m\u001b[0mget_data\u001b[0m \u001b[0;34m=\u001b[0m \u001b[0mwp_specific\u001b[0m\u001b[0;34m\u001b[0m\u001b[0;34m\u001b[0m\u001b[0m\n\u001b[0;32m----> 6\u001b[0;31m \u001b[0mwp\u001b[0m\u001b[0;34m.\u001b[0m\u001b[0mget_data\u001b[0m\u001b[0;34m(\u001b[0m\u001b[0;34m)\u001b[0m\u001b[0;34m\u001b[0m\u001b[0;34m\u001b[0m\u001b[0m\n\u001b[0m",
            "\u001b[0;31mTypeError\u001b[0m: wp_specific() missing 1 required positional argument: 'self'"
          ]
        }
      ]
    },
    {
      "cell_type": "code",
      "metadata": {
        "id": "84SWG9HK0duV",
        "colab": {
          "base_uri": "https://localhost:8080/"
        },
        "outputId": "ff08edde-a151-4636-b92c-51ab7c72732d"
      },
      "source": [
        "wp.get_data=types.MethodType(wp_specific, wp)\n",
        "wp.get_data()"
      ],
      "execution_count": 87,
      "outputs": [
        {
          "output_type": "stream",
          "name": "stdout",
          "text": [
            "this is washington post\n"
          ]
        }
      ]
    },
    {
      "cell_type": "markdown",
      "metadata": {
        "id": "4irKlFVz2Jyo"
      },
      "source": [
        "А если к самому классу?"
      ]
    },
    {
      "cell_type": "code",
      "metadata": {
        "id": "BVYvMMWr0vSN",
        "colab": {
          "base_uri": "https://localhost:8080/"
        },
        "outputId": "85fbefee-74b6-4812-9859-8c46efab350b"
      },
      "source": [
        "def wp_class_specific(self):\n",
        "  print(\"i belong to wp\")\n",
        "\n",
        "WashingtonPost.get_data = wp_class_specific\n",
        "wp.get_data()"
      ],
      "execution_count": 88,
      "outputs": [
        {
          "output_type": "stream",
          "name": "stdout",
          "text": [
            "this is washington post\n"
          ]
        }
      ]
    },
    {
      "cell_type": "code",
      "metadata": {
        "id": "fuRgrklU1meo",
        "colab": {
          "base_uri": "https://localhost:8080/"
        },
        "outputId": "176d49d8-a9fe-4774-9795-fe22c7689a2c"
      },
      "source": [
        "wp2 = WashingtonPost(\"https://wp.com\")\n",
        "wp2.get_data()"
      ],
      "execution_count": 89,
      "outputs": [
        {
          "output_type": "stream",
          "name": "stdout",
          "text": [
            "i belong to wp\n"
          ]
        }
      ]
    },
    {
      "cell_type": "markdown",
      "metadata": {
        "id": "Socjl09fZqdD"
      },
      "source": [
        "Наследоваться, кстати, можно и от нескольких классов"
      ]
    },
    {
      "cell_type": "code",
      "metadata": {
        "id": "BbHLRJPSZthn"
      },
      "source": [
        "class ParentA():\n",
        "  def a_exclusive(self):\n",
        "    print(\"i'm a exclusive\")\n",
        "\n",
        "  def common(self):\n",
        "    print(\"i'm a common\")\n",
        "\n",
        "class ParentB():\n",
        "  def b_exclusive(self):\n",
        "    print(\"i'm b exclusive\")\n",
        "\n",
        "  def common(self):\n",
        "    print(\"i'm b common\")\n",
        "\n",
        "class ChildAB(ParentA, ParentB):\n",
        "  pass\n",
        "\n",
        "class ChildBA(ParentB, ParentA):\n",
        "  pass"
      ],
      "execution_count": 83,
      "outputs": []
    },
    {
      "cell_type": "code",
      "metadata": {
        "id": "IFtIE0Uqafn3",
        "colab": {
          "base_uri": "https://localhost:8080/"
        },
        "outputId": "127ffcb6-9c83-42a5-d3b3-c2d398f25717"
      },
      "source": [
        "ab = ChildAB()\n",
        "ab.common()\n",
        "ChildAB.mro()"
      ],
      "execution_count": 84,
      "outputs": [
        {
          "output_type": "stream",
          "name": "stdout",
          "text": [
            "i'm a common\n"
          ]
        },
        {
          "output_type": "execute_result",
          "data": {
            "text/plain": [
              "[__main__.ChildAB, __main__.ParentA, __main__.ParentB, object]"
            ]
          },
          "metadata": {},
          "execution_count": 84
        }
      ]
    },
    {
      "cell_type": "code",
      "source": [
        "ba = ChildBA()\n",
        "ba.common()\n",
        "ChildBA.mro()"
      ],
      "metadata": {
        "colab": {
          "base_uri": "https://localhost:8080/"
        },
        "id": "T4tFFnBGiKY_",
        "outputId": "098a65df-c6a3-4ecf-e445-32d485181f9e"
      },
      "execution_count": 85,
      "outputs": [
        {
          "output_type": "stream",
          "name": "stdout",
          "text": [
            "i'm b common\n"
          ]
        },
        {
          "output_type": "execute_result",
          "data": {
            "text/plain": [
              "[__main__.ChildBA, __main__.ParentB, __main__.ParentA, object]"
            ]
          },
          "metadata": {},
          "execution_count": 85
        }
      ]
    },
    {
      "cell_type": "markdown",
      "metadata": {
        "id": "jbuvyrl22qpZ"
      },
      "source": [
        "## Абстрактные классы"
      ]
    },
    {
      "cell_type": "markdown",
      "metadata": {
        "id": "vD3uBvU62uqF"
      },
      "source": [
        "Иногда нам хочется просто описать ожидаемое поведение от класса-родителя, а уже в классах-потомках это поведение реализовать. Можно, конечно, сделать так:"
      ]
    },
    {
      "cell_type": "code",
      "metadata": {
        "id": "mPIgYW5S1vhV"
      },
      "source": [
        "class Dummy():\n",
        "  def __init__(self):\n",
        "    pass\n",
        "\n",
        "  def dummy_method(self):\n",
        "    pass\n",
        "\n",
        "  def dummy_method_2(self):\n",
        "    pass\n",
        "\n",
        "class Real(Dummy):\n",
        "  pass"
      ],
      "execution_count": 90,
      "outputs": []
    },
    {
      "cell_type": "code",
      "source": [
        "r = Real()"
      ],
      "metadata": {
        "id": "9QUeLNUqjMZK"
      },
      "execution_count": 91,
      "outputs": []
    },
    {
      "cell_type": "markdown",
      "metadata": {
        "id": "Egy2z2ST3MLb"
      },
      "source": [
        "Но можно использовать абстрактные классы"
      ]
    },
    {
      "cell_type": "code",
      "metadata": {
        "id": "xk57QpMR3PhP"
      },
      "source": [
        "class NewsSourceV2(abc.ABC):\n",
        "  def tell_class(self):\n",
        "    print(\"i'm a news source\")\n",
        "\n",
        "  @abc.abstractmethod\n",
        "  def get_data(self):\n",
        "    pass\n",
        "\n",
        "  @abc.abstractmethod\n",
        "  def process_data(self):\n",
        "    pass"
      ],
      "execution_count": 92,
      "outputs": []
    },
    {
      "cell_type": "markdown",
      "metadata": {
        "id": "GzzW01OA3x41"
      },
      "source": [
        "Создавать экземпляры абстрактного класса нельзя"
      ]
    },
    {
      "cell_type": "code",
      "metadata": {
        "id": "b9ooj8P13xSc",
        "colab": {
          "base_uri": "https://localhost:8080/",
          "height": 141
        },
        "outputId": "73ec7bd6-a940-4f33-d42a-610450dafd86"
      },
      "source": [
        "s = NewsSourceV2()"
      ],
      "execution_count": 93,
      "outputs": [
        {
          "output_type": "error",
          "ename": "TypeError",
          "evalue": "Can't instantiate abstract class NewsSourceV2 with abstract methods get_data, process_data",
          "traceback": [
            "\u001b[0;31m---------------------------------------------------------------------------\u001b[0m",
            "\u001b[0;31mTypeError\u001b[0m                                 Traceback (most recent call last)",
            "\u001b[0;32m<ipython-input-93-704523e8ed63>\u001b[0m in \u001b[0;36m<cell line: 1>\u001b[0;34m()\u001b[0m\n\u001b[0;32m----> 1\u001b[0;31m \u001b[0ms\u001b[0m \u001b[0;34m=\u001b[0m \u001b[0mNewsSourceV2\u001b[0m\u001b[0;34m(\u001b[0m\u001b[0;34m)\u001b[0m\u001b[0;34m\u001b[0m\u001b[0;34m\u001b[0m\u001b[0m\n\u001b[0m",
            "\u001b[0;31mTypeError\u001b[0m: Can't instantiate abstract class NewsSourceV2 with abstract methods get_data, process_data"
          ]
        }
      ]
    },
    {
      "cell_type": "markdown",
      "metadata": {
        "id": "SR_W_xZb4GjT"
      },
      "source": [
        "Как и нельзя пытаться создать экземпляр класса-потомка, в котором мы не реализовали абстрактные методы"
      ]
    },
    {
      "cell_type": "code",
      "metadata": {
        "id": "VN9Pf80s32Kg",
        "colab": {
          "base_uri": "https://localhost:8080/",
          "height": 176
        },
        "outputId": "b80d9844-a30a-4587-dc61-e2ac4766b26c"
      },
      "source": [
        "class Twitter(NewsSourceV2):\n",
        "  pass\n",
        "\n",
        "tw = Twitter()"
      ],
      "execution_count": 94,
      "outputs": [
        {
          "output_type": "error",
          "ename": "TypeError",
          "evalue": "Can't instantiate abstract class Twitter with abstract methods get_data, process_data",
          "traceback": [
            "\u001b[0;31m---------------------------------------------------------------------------\u001b[0m",
            "\u001b[0;31mTypeError\u001b[0m                                 Traceback (most recent call last)",
            "\u001b[0;32m<ipython-input-94-fad8a0156bb5>\u001b[0m in \u001b[0;36m<cell line: 4>\u001b[0;34m()\u001b[0m\n\u001b[1;32m      2\u001b[0m   \u001b[0;32mpass\u001b[0m\u001b[0;34m\u001b[0m\u001b[0;34m\u001b[0m\u001b[0m\n\u001b[1;32m      3\u001b[0m \u001b[0;34m\u001b[0m\u001b[0m\n\u001b[0;32m----> 4\u001b[0;31m \u001b[0mtw\u001b[0m \u001b[0;34m=\u001b[0m \u001b[0mTwitter\u001b[0m\u001b[0;34m(\u001b[0m\u001b[0;34m)\u001b[0m\u001b[0;34m\u001b[0m\u001b[0;34m\u001b[0m\u001b[0m\n\u001b[0m",
            "\u001b[0;31mTypeError\u001b[0m: Can't instantiate abstract class Twitter with abstract methods get_data, process_data"
          ]
        }
      ]
    },
    {
      "cell_type": "code",
      "metadata": {
        "id": "4ypl-CPt4DtI",
        "colab": {
          "base_uri": "https://localhost:8080/",
          "height": 193
        },
        "outputId": "d82d51b8-8ec9-4a6e-a8b5-5bf4152bb87f"
      },
      "source": [
        "class Twitter(NewsSourceV2):\n",
        "  def get_data(self):\n",
        "    print(\"getting data from twitter\")\n",
        "\n",
        "tw = Twitter()\n",
        "tw.get_data()"
      ],
      "execution_count": 95,
      "outputs": [
        {
          "output_type": "error",
          "ename": "TypeError",
          "evalue": "Can't instantiate abstract class Twitter with abstract method process_data",
          "traceback": [
            "\u001b[0;31m---------------------------------------------------------------------------\u001b[0m",
            "\u001b[0;31mTypeError\u001b[0m                                 Traceback (most recent call last)",
            "\u001b[0;32m<ipython-input-95-c94ad87b68a9>\u001b[0m in \u001b[0;36m<cell line: 5>\u001b[0;34m()\u001b[0m\n\u001b[1;32m      3\u001b[0m     \u001b[0mprint\u001b[0m\u001b[0;34m(\u001b[0m\u001b[0;34m\"getting data from twitter\"\u001b[0m\u001b[0;34m)\u001b[0m\u001b[0;34m\u001b[0m\u001b[0;34m\u001b[0m\u001b[0m\n\u001b[1;32m      4\u001b[0m \u001b[0;34m\u001b[0m\u001b[0m\n\u001b[0;32m----> 5\u001b[0;31m \u001b[0mtw\u001b[0m \u001b[0;34m=\u001b[0m \u001b[0mTwitter\u001b[0m\u001b[0;34m(\u001b[0m\u001b[0;34m)\u001b[0m\u001b[0;34m\u001b[0m\u001b[0;34m\u001b[0m\u001b[0m\n\u001b[0m\u001b[1;32m      6\u001b[0m \u001b[0mtw\u001b[0m\u001b[0;34m.\u001b[0m\u001b[0mget_data\u001b[0m\u001b[0;34m(\u001b[0m\u001b[0;34m)\u001b[0m\u001b[0;34m\u001b[0m\u001b[0;34m\u001b[0m\u001b[0m\n",
            "\u001b[0;31mTypeError\u001b[0m: Can't instantiate abstract class Twitter with abstract method process_data"
          ]
        }
      ]
    },
    {
      "cell_type": "code",
      "source": [
        "class Twitter(NewsSourceV2):\n",
        "  def get_data(self):\n",
        "    print(\"getting data from twitter\")\n",
        "\n",
        "  def process_data(self):\n",
        "    print(\"processing data from twitter\")\n",
        "\n",
        "tw = Twitter()\n",
        "tw.get_data()"
      ],
      "metadata": {
        "colab": {
          "base_uri": "https://localhost:8080/"
        },
        "id": "5HVQKTl-jV0j",
        "outputId": "e9071190-a96f-4d9a-cc5f-f69300434502"
      },
      "execution_count": 96,
      "outputs": [
        {
          "output_type": "stream",
          "name": "stdout",
          "text": [
            "getting data from twitter\n"
          ]
        }
      ]
    },
    {
      "cell_type": "markdown",
      "metadata": {
        "id": "_0yq28kp5uCu"
      },
      "source": [
        "## Как же проектировать классы"
      ]
    },
    {
      "cell_type": "markdown",
      "metadata": {
        "id": "GsAOr-2L6Hcd"
      },
      "source": [
        "Что такое хорошая система классов?  \n",
        "\n",
        "Это такая система, которой удобно пользоваться.  \n",
        "Это такая система, которую будет легко расширять.  \n",
        "Это такая система, которая хорошо описывает предметную область."
      ]
    },
    {
      "cell_type": "markdown",
      "source": [
        "## Отношения классов"
      ],
      "metadata": {
        "id": "T6xQfW0xQxBg"
      }
    },
    {
      "cell_type": "markdown",
      "source": [
        "### Наследование"
      ],
      "metadata": {
        "id": "Zh41oX8mRn7C"
      }
    },
    {
      "cell_type": "code",
      "source": [
        "class PieceOfArt(object):\n",
        "  def __init__(self, title, price):\n",
        "    self.title = title\n",
        "    self.price = price\n",
        "\n",
        "  def describe(self):\n",
        "    print(\"This is a {0} with a price of {1}\".format(self.title, self.price))\n",
        "\n",
        "class Painting(PieceOfArt):\n",
        "  def describe(self):\n",
        "    print(\"This is a painting called \\\"{0}\\\", it costs {1}\".format(self.title, self.price))\n",
        "\n",
        "class Figure(PieceOfArt):\n",
        "  def __init__(self, title, price, material):\n",
        "    super().__init__(title, price)\n",
        "    self.material = material"
      ],
      "metadata": {
        "id": "Ib4QBcaZQ1EZ"
      },
      "execution_count": 97,
      "outputs": []
    },
    {
      "cell_type": "code",
      "source": [
        "poa1 = PieceOfArt(\"generic poa\", 100)\n",
        "poa2 = Painting(\"the painting\", 200)\n",
        "poa3 = Figure(\"figure\", 150, \"clay\")\n",
        "\n",
        "for poa in [poa1, poa2, poa3]:\n",
        "  poa.describe()"
      ],
      "metadata": {
        "id": "bEp9FKmoT2cY",
        "colab": {
          "base_uri": "https://localhost:8080/"
        },
        "outputId": "5d8ea77d-0f89-4db6-d9d9-43bcfcf7f677"
      },
      "execution_count": 98,
      "outputs": [
        {
          "output_type": "stream",
          "name": "stdout",
          "text": [
            "This is a generic poa with a price of 100\n",
            "This is a painting called \"the painting\", it costs 200\n",
            "This is a figure with a price of 150\n"
          ]
        }
      ]
    },
    {
      "cell_type": "markdown",
      "source": [
        "### Аггрегация (has-a)"
      ],
      "metadata": {
        "id": "mzyv023lRvKk"
      }
    },
    {
      "cell_type": "code",
      "source": [
        "class Author(object):\n",
        "  def __init__(self, name):\n",
        "    self.name = name\n",
        "\n",
        "  def speak(self):\n",
        "    print(\"aaaaa\")\n",
        "\n",
        "class PieceOfArt(object):\n",
        "  def __init__(self, title, author):\n",
        "    self.title = title\n",
        "    self.author = author\n",
        "\n",
        "  def describe(self):\n",
        "    print(\"this is a {0} created by {1}\".format(self.title, self.author.name))"
      ],
      "metadata": {
        "id": "6qmRS1WqR1Jn"
      },
      "execution_count": 104,
      "outputs": []
    },
    {
      "cell_type": "code",
      "source": [
        "a = Author(\"Ivan\")\n",
        "poa4 = PieceOfArt(\"generic poa\", a)\n",
        "poa4.describe()\n",
        "poa4.author.speak()"
      ],
      "metadata": {
        "id": "9nie3tHEVf4S",
        "colab": {
          "base_uri": "https://localhost:8080/"
        },
        "outputId": "47631ee0-5d9e-441a-f7c4-a095c84843a3"
      },
      "execution_count": 105,
      "outputs": [
        {
          "output_type": "stream",
          "name": "stdout",
          "text": [
            "this is a generic poa created by Ivan\n",
            "aaaaa\n"
          ]
        }
      ]
    },
    {
      "cell_type": "markdown",
      "source": [
        "### Композиция (part-of)"
      ],
      "metadata": {
        "id": "-HvFWE_VRvRI"
      }
    },
    {
      "cell_type": "code",
      "source": [
        "class Score(object):\n",
        "  def __init__(self):\n",
        "    self.side_a = 0\n",
        "    self.side_b = 0\n",
        "\n",
        "  def increase(self, a):\n",
        "    if a:\n",
        "      self.side_a += 1\n",
        "    else:\n",
        "      self.side_b += 1\n",
        "\n",
        "  def get_winner(self):\n",
        "    if self.side_a > self.side_b:\n",
        "      return \"side A\"\n",
        "    elif self.side_a == self.side_b:\n",
        "      return \"both sides\"\n",
        "    else:\n",
        "      return \"side B\"\n",
        "\n",
        "class Game(object):\n",
        "  def __init__(self, title):\n",
        "    self.title = title\n",
        "    self.score = Score()\n",
        "\n",
        "  def start(self):\n",
        "    print(\"start!\")\n",
        "\n",
        "  def end(self):\n",
        "    print(\"end! the winner is {0}\".format(self.score.get_winner()))"
      ],
      "metadata": {
        "id": "cL0lmpA1R1jp"
      },
      "execution_count": 101,
      "outputs": []
    },
    {
      "cell_type": "code",
      "source": [
        "g = Game(\"match 1\")\n",
        "g.start()\n",
        "g.score.increase(True)\n",
        "g.end()"
      ],
      "metadata": {
        "id": "olUBuztLXdyW",
        "colab": {
          "base_uri": "https://localhost:8080/"
        },
        "outputId": "d1b25933-1016-4d18-97cb-fd5997505cab"
      },
      "execution_count": 103,
      "outputs": [
        {
          "output_type": "stream",
          "name": "stdout",
          "text": [
            "start!\n",
            "end! the winner is side A\n"
          ]
        }
      ]
    },
    {
      "cell_type": "code",
      "source": [
        "class BigGame(object):\n",
        "  def __init__(self, title):\n",
        "    self.title = title\n",
        "    self.side_a = 0\n",
        "    self.side_b = 0\n",
        "\n",
        "  def increase(self, a):\n",
        "    if a:\n",
        "      self.side_a += 1\n",
        "    else:\n",
        "      self.side_b += 1\n",
        "\n",
        "  def get_winner(self):\n",
        "    if self.side_a > self.side_b:\n",
        "      return \"side A\"\n",
        "    elif self.side_a == self.side_b:\n",
        "      return \"both sides\"\n",
        "    else:\n",
        "      return \"side B\"\n",
        "\n",
        "  def start(self):\n",
        "    print(\"start!\")\n",
        "\n",
        "  def end(self):\n",
        "    print(\"end! the winner is {0}\".format(self.get_winner()))"
      ],
      "metadata": {
        "id": "IOJWf9J4c9b8"
      },
      "execution_count": 106,
      "outputs": []
    },
    {
      "cell_type": "code",
      "source": [
        "g = BigGame(\"match 1\")\n",
        "g.start()\n",
        "g.increase(True)\n",
        "g.end()"
      ],
      "metadata": {
        "colab": {
          "base_uri": "https://localhost:8080/"
        },
        "id": "DNn77iycdEit",
        "outputId": "ead5af56-6b9f-4396-fd99-aa71c0d4d932"
      },
      "execution_count": 108,
      "outputs": [
        {
          "output_type": "stream",
          "name": "stdout",
          "text": [
            "start!\n",
            "end! the winner is side A\n"
          ]
        }
      ]
    }
  ]
}