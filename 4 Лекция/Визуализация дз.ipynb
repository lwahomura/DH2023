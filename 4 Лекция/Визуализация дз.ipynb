{
  "nbformat": 4,
  "nbformat_minor": 0,
  "metadata": {
    "colab": {
      "provenance": []
    },
    "kernelspec": {
      "name": "python3",
      "display_name": "Python 3"
    },
    "language_info": {
      "name": "python"
    }
  },
  "cells": [
    {
      "cell_type": "code",
      "execution_count": null,
      "metadata": {
        "id": "Rz4X2nf97Q8y"
      },
      "outputs": [],
      "source": [
        "import numpy as np\n",
        "import matplotlib.pyplot as plt"
      ]
    },
    {
      "cell_type": "markdown",
      "source": [
        "# Постановка проблемы"
      ],
      "metadata": {
        "id": "qx7lrxOHMWU4"
      }
    },
    {
      "cell_type": "markdown",
      "source": [
        "Предположим, к нам попали данные исследований нескольких (пусть n=3) вакцин;  \n",
        "В каждом исследовании собирались данные о респондентах, с которых через 1 / 10 / 100 часов собирали оценку самочувствия  "
      ],
      "metadata": {
        "id": "w9fGj-tVMZsW"
      }
    },
    {
      "cell_type": "code",
      "source": [
        "respondents = 1000\n",
        "\n",
        "def make_research():\n",
        "  research = {\n",
        "      \"gender\": np.random.randint(0,2,respondents),            # 0 - m, 1 - f\n",
        "      \"age\": np.random.normal(25.0,20.0,respondents),\n",
        "      \"height\": np.random.normal(170.0,15.5,respondents),\n",
        "      \"weight\": np.random.normal(65.0,25.0,respondents)\n",
        "      }\n",
        "\n",
        "  feeled_bad = 0                                                # считаем, сколько всего людей ощутили себя плохо\n",
        "\n",
        "  part = np.random.randint(7,20,1)                              # доля респондентов, которые будут подвержены плохому самочувствию\n",
        "  feeled_bad += part\n",
        "\n",
        "  research[\"condition_after_1\"] = np.random.normal(\n",
        "      (5 *                                                      # мат. ожидание сдвигается: если бы исследования и не было, в среднем все ставили бы ровно 5,\n",
        "       (respondents * (1 - part/100)) +                         # но теперь 5 в среднем поставят меньшее число людей\n",
        "       1 * (respondents * part/100))                            # остальные захотят поставить 1\n",
        "      / respondents,\n",
        "\n",
        "      2.0,\n",
        "      respondents\n",
        "      )\n",
        "\n",
        "  got_better = 1 if np.random.randint(0,10,1) > 7 else -1       # будем считать, что люди более склонны иметь ухудшившееся самочувствие через какое-то время\n",
        "  part = np.random.randint(\n",
        "      7 - (got_better * 2),\n",
        "      20 - (got_better * 5),\n",
        "      1)\n",
        "  feeled_bad += part\n",
        "\n",
        "  research[\"condition_after_10\"] = np.random.normal(\n",
        "      (5 *\n",
        "       (respondents * (1 - part/100)) +\n",
        "       1 * (respondents * part/100))\n",
        "      / respondents,\n",
        "\n",
        "      1.0,\n",
        "      respondents\n",
        "      )\n",
        "\n",
        "  got_better = 1 if np.random.randint(0,10,1) > 3 else -1       # будем считать, что люди более склонны иметь улучшившееся самочувствие через продолжительное время\n",
        "  part = np.random.randint(\n",
        "      7 - (got_better * 3),\n",
        "      20 - (got_better * 7),\n",
        "      1)\n",
        "  feeled_bad += part\n",
        "\n",
        "  research[\"condition_after_100\"] = np.random.normal(\n",
        "      (5 *\n",
        "       (respondents * (1 - part/100)) +\n",
        "       1 * (respondents * part/100))\n",
        "      / respondents,\n",
        "\n",
        "      2.5,\n",
        "      respondents\n",
        "      )\n",
        "\n",
        "  return research"
      ],
      "metadata": {
        "id": "UTyNAuh39BJc"
      },
      "execution_count": null,
      "outputs": []
    },
    {
      "cell_type": "code",
      "source": [
        "researh_0 = make_research()"
      ],
      "metadata": {
        "id": "dpxH_kHwHhKo"
      },
      "execution_count": null,
      "outputs": []
    },
    {
      "cell_type": "code",
      "source": [
        "_ =plt.hist(researh_0[\"condition_after_1\"])"
      ],
      "metadata": {
        "colab": {
          "base_uri": "https://localhost:8080/",
          "height": 265
        },
        "id": "RgfX6TvdJxiy",
        "outputId": "ea9e586b-80c4-4131-cc68-74bbb6f82d09"
      },
      "execution_count": null,
      "outputs": [
        {
          "output_type": "display_data",
          "data": {
            "image/png": "[encoded data removed]",
            "text/plain": [
              "<Figure size 432x288 with 1 Axes>"
            ]
          },
          "metadata": {
            "needs_background": "light"
          }
        }
      ]
    },
    {
      "cell_type": "code",
      "source": [
        "_ =plt.hist(researh_0[\"condition_after_10\"])"
      ],
      "metadata": {
        "colab": {
          "base_uri": "https://localhost:8080/",
          "height": 265
        },
        "id": "OjdJMqi9KUzo",
        "outputId": "bba585a3-dcb5-4a8a-d492-bfcfc3dcbf0a"
      },
      "execution_count": null,
      "outputs": [
        {
          "output_type": "display_data",
          "data": {
            "image/png": "[encoded data removed]",
            "text/plain": [
              "<Figure size 432x288 with 1 Axes>"
            ]
          },
          "metadata": {
            "needs_background": "light"
          }
        }
      ]
    },
    {
      "cell_type": "code",
      "source": [
        "_ =plt.hist(researh_0[\"condition_after_100\"])"
      ],
      "metadata": {
        "colab": {
          "base_uri": "https://localhost:8080/",
          "height": 268
        },
        "id": "To5rQwXcLvuq",
        "outputId": "2c42f57f-f87f-4826-a20e-627498e9eb47"
      },
      "execution_count": null,
      "outputs": [
        {
          "output_type": "display_data",
          "data": {
            "image/png": "[encoded data removed]",
            "text/plain": [
              "<Figure size 432x288 with 1 Axes>"
            ]
          },
          "metadata": {
            "needs_background": "light"
          }
        }
      ]
    },
    {
      "cell_type": "markdown",
      "source": [
        "# Задание"
      ],
      "metadata": {
        "id": "Y3ItPiWBMS6V"
      }
    },
    {
      "cell_type": "markdown",
      "source": [
        "Мы хотим:\n",
        "- проверить, что с данными все в порядке (т.к. данные генерили с помощью распределений, у нас могут быть отрицательные числа, которые надо исправить на 0, а также числа больше 10, которые надо исправить на 10) - построить гистограммы и почистить данные\n",
        "- сравнить между собой результаты исследований разных вакцин и каким-либо образом представить сравнение исследований (т.е., к примеру, показать в одном пространстве сразу 3 исследования, пользуясь признаками \"средняя оценка самочувствия после 1 часа\", \"средняя оценка самочувствия после 10 часов\", \"средняя оценка самочувствия после 100 часов\"\n",
        "- важно! обратите внимание на цвета, что вы используете"
      ],
      "metadata": {
        "id": "EL8evQcgM59h"
      }
    }
  ]
}